{
 "cells": [
  {
   "cell_type": "code",
   "id": "initial_id",
   "metadata": {
    "collapsed": true,
    "ExecuteTime": {
     "end_time": "2024-06-14T10:53:12.483122Z",
     "start_time": "2024-06-14T10:53:12.478794Z"
    }
   },
   "source": [
    "import requests\n",
    "from IPython.display import display, JSON"
   ],
   "outputs": [],
   "execution_count": 10
  },
  {
   "metadata": {
    "ExecuteTime": {
     "end_time": "2024-06-14T10:53:12.490788Z",
     "start_time": "2024-06-14T10:53:12.483122Z"
    }
   },
   "cell_type": "code",
   "source": "BASE_URL = 'http://127.0.0.1:5000/painting'",
   "id": "48adf2ec8dfe8322",
   "outputs": [],
   "execution_count": 11
  },
  {
   "metadata": {
    "ExecuteTime": {
     "end_time": "2024-06-14T10:53:12.495968Z",
     "start_time": "2024-06-14T10:53:12.490788Z"
    }
   },
   "cell_type": "code",
   "source": [
    "object = {\n",
    "    'work_of_art_id': 14,\n",
    "    'technique': 'Pintura a oléo'\n",
    "}\n",
    "\n",
    "\n",
    "object_args_work_of_art_name = {'work_of_art_name': 'O Algo'}\n",
    "object_args_technique = {'technique': 'Pintura a oléo' }"
   ],
   "id": "97f6c2cb05f92a73",
   "outputs": [],
   "execution_count": 12
  },
  {
   "metadata": {},
   "cell_type": "markdown",
   "source": "Request - get_all",
   "id": "9d0a8c9f22967c76"
  },
  {
   "metadata": {
    "ExecuteTime": {
     "end_time": "2024-06-14T10:53:12.525446Z",
     "start_time": "2024-06-14T10:53:12.495968Z"
    }
   },
   "cell_type": "code",
   "source": [
    "def get_all():\n",
    "    response = requests.get(f\"{BASE_URL}/\")\n",
    "    if response.status_code == 200:\n",
    "        data = response.json()\n",
    "        return display(JSON(data))\n",
    "    else:\n",
    "        return f\"Error: {response.status_code}\"\n",
    "\n",
    "get_all()"
   ],
   "id": "1dc6560c27b330c",
   "outputs": [
    {
     "data": {
      "text/plain": [
       "<IPython.core.display.JSON object>"
      ],
      "application/json": [
       {
        "id": 1,
        "technique": "Pintura a oléo",
        "work_of_art": {
         "author": "Mozart",
         "creation_date": "Sun, 01 Feb 1632 00:00:00 GMT",
         "description": "Escultura de alguem desconhecido",
         "id": 14,
         "location": "Centro Oeste",
         "name": "O algo"
        },
        "work_of_art_id": 14
       },
       {
        "id": 2,
        "technique": "Pintura a oléo",
        "work_of_art": {
         "author": "Mozart",
         "creation_date": "Sun, 01 Feb 1632 00:00:00 GMT",
         "description": "Escultura de alguem desconhecido",
         "id": 14,
         "location": "Centro Oeste",
         "name": "O algo"
        },
        "work_of_art_id": 14
       }
      ]
     },
     "metadata": {
      "application/json": {
       "expanded": false,
       "root": "root"
      }
     },
     "output_type": "display_data"
    }
   ],
   "execution_count": 13
  },
  {
   "metadata": {},
   "cell_type": "markdown",
   "source": "Request - get_by_id",
   "id": "dda2714595c495c3"
  },
  {
   "metadata": {
    "ExecuteTime": {
     "end_time": "2024-06-14T10:53:12.541468Z",
     "start_time": "2024-06-14T10:53:12.525446Z"
    }
   },
   "cell_type": "code",
   "source": [
    "def get_by_id(id):\n",
    "    response = requests.get(f\"{BASE_URL}/{id}\")\n",
    "    if response.status_code == 200:\n",
    "        data = response.json()\n",
    "        return display(JSON(data))\n",
    "    else:\n",
    "        return f\"Error: {response.status_code}, {response.json()}\"\n",
    "\n",
    "get_by_id(1)"
   ],
   "id": "da66f35d852e3d8b",
   "outputs": [
    {
     "data": {
      "text/plain": [
       "<IPython.core.display.JSON object>"
      ],
      "application/json": {
       "id": 1,
       "technique": "Pintura a oléo",
       "work_of_art": {
        "author": "Mozart",
        "creation_date": "Sun, 01 Feb 1632 00:00:00 GMT",
        "description": "Escultura de alguem desconhecido",
        "id": 14,
        "location": "Centro Oeste",
        "name": "O algo"
       },
       "work_of_art_id": 14
      }
     },
     "metadata": {
      "application/json": {
       "expanded": false,
       "root": "root"
      }
     },
     "output_type": "display_data"
    }
   ],
   "execution_count": 14
  },
  {
   "metadata": {},
   "cell_type": "markdown",
   "source": "Request - create",
   "id": "1fa284a07ef27e92"
  },
  {
   "metadata": {
    "ExecuteTime": {
     "end_time": "2024-06-14T10:53:12.570198Z",
     "start_time": "2024-06-14T10:53:12.541468Z"
    }
   },
   "cell_type": "code",
   "source": [
    "def create(data):\n",
    "    headers = {'Content-Type': 'application/json'}\n",
    "    response = requests.post(f\"{BASE_URL}/\", json=data, headers=headers)\n",
    "    if response.status_code == 200:\n",
    "        data = response.json()\n",
    "        return display(JSON(data))\n",
    "    else:\n",
    "        return f\"Error: {response.status_code}, {response.json()}\"\n",
    "    \n",
    "create(object)"
   ],
   "id": "ffebb07d0b1d6a19",
   "outputs": [
    {
     "data": {
      "text/plain": [
       "<IPython.core.display.JSON object>"
      ],
      "application/json": {
       "id": 3,
       "technique": "Pintura a oléo",
       "work_of_art": {
        "author": "Mozart",
        "creation_date": "Sun, 01 Feb 1632 00:00:00 GMT",
        "description": "Escultura de alguem desconhecido",
        "id": 14,
        "location": "Centro Oeste",
        "name": "O algo"
       },
       "work_of_art_id": 14
      }
     },
     "metadata": {
      "application/json": {
       "expanded": false,
       "root": "root"
      }
     },
     "output_type": "display_data"
    }
   ],
   "execution_count": 15
  },
  {
   "metadata": {},
   "cell_type": "markdown",
   "source": "Request - update",
   "id": "1d65a0e32aae474f"
  },
  {
   "metadata": {
    "ExecuteTime": {
     "end_time": "2024-06-14T10:53:12.592040Z",
     "start_time": "2024-06-14T10:53:12.571205Z"
    }
   },
   "cell_type": "code",
   "source": [
    "def update(id, data):\n",
    "    headers = {'Content-Type': 'application/json'}\n",
    "    response = requests.put(f\"{BASE_URL}/{id}\", json=data, headers=headers)\n",
    "    if response.status_code == 200:\n",
    "        data = response.json()\n",
    "        return display(JSON(data))\n",
    "    else:\n",
    "        return f\"Error: {response.status_code}, {response.json()}\"\n",
    "\n",
    "id=1\n",
    "update(id, object)"
   ],
   "id": "ec1e0fbfc287706a",
   "outputs": [
    {
     "data": {
      "text/plain": [
       "<IPython.core.display.JSON object>"
      ],
      "application/json": {
       "id": 1,
       "technique": "Pintura a oléo",
       "work_of_art": {
        "author": "Mozart",
        "creation_date": "Sun, 01 Feb 1632 00:00:00 GMT",
        "description": "Escultura de alguem desconhecido",
        "id": 14,
        "location": "Centro Oeste",
        "name": "O algo"
       },
       "work_of_art_id": 14
      }
     },
     "metadata": {
      "application/json": {
       "expanded": false,
       "root": "root"
      }
     },
     "output_type": "display_data"
    }
   ],
   "execution_count": 16
  },
  {
   "metadata": {},
   "cell_type": "markdown",
   "source": "Request - delete",
   "id": "b38bd10983650a23"
  },
  {
   "metadata": {
    "ExecuteTime": {
     "end_time": "2024-06-14T10:53:12.599912Z",
     "start_time": "2024-06-14T10:53:12.592040Z"
    }
   },
   "cell_type": "code",
   "source": [
    "def delete(id):\n",
    "    response = requests.delete(f\"{BASE_URL}/{id}\")\n",
    "    if response.status_code == 204:\n",
    "        return response.status_code\n",
    "    else:\n",
    "        return f\"Error: {response.status_code}, {response.json()}\"\n",
    "\n",
    "id = 3\n",
    "delete(122)"
   ],
   "id": "513f119294ddd1c9",
   "outputs": [
    {
     "data": {
      "text/plain": [
       "\"Error: 404, {'error': 'Painting not found'}\""
      ]
     },
     "execution_count": 17,
     "metadata": {},
     "output_type": "execute_result"
    }
   ],
   "execution_count": 17
  },
  {
   "metadata": {},
   "cell_type": "markdown",
   "source": "Request - get_by_args_work_of_art_name",
   "id": "3e53e56d8aeb069"
  },
  {
   "metadata": {
    "ExecuteTime": {
     "end_time": "2024-06-14T10:53:12.629054Z",
     "start_time": "2024-06-14T10:53:12.599912Z"
    }
   },
   "cell_type": "code",
   "source": [
    "def get_by_args(object_args):\n",
    "    query_string = '&'.join(f\"{key}={value}\" for key, value in object_args.items())\n",
    "    response = requests.get(f\"{BASE_URL}?{query_string}\")\n",
    "    \n",
    "    if response.status_code == 200:\n",
    "        data = response.json()\n",
    "        display(JSON(data))\n",
    "    else:\n",
    "        return f\"Erro: {response.status_code}, {response.json()}\"\n",
    "\n",
    "\n",
    "get_by_args(object_args_work_of_art_name)"
   ],
   "id": "5534a5f8a23ac3cb",
   "outputs": [
    {
     "data": {
      "text/plain": [
       "<IPython.core.display.JSON object>"
      ],
      "application/json": [
       {
        "id": 1,
        "technique": "Pintura a oléo",
        "work_of_art": {
         "author": "Mozart",
         "creation_date": "Sun, 01 Feb 1632 00:00:00 GMT",
         "description": "Escultura de alguem desconhecido",
         "id": 14,
         "location": "Centro Oeste",
         "name": "O algo"
        },
        "work_of_art_id": 14
       },
       {
        "id": 2,
        "technique": "Pintura a oléo",
        "work_of_art": {
         "author": "Mozart",
         "creation_date": "Sun, 01 Feb 1632 00:00:00 GMT",
         "description": "Escultura de alguem desconhecido",
         "id": 14,
         "location": "Centro Oeste",
         "name": "O algo"
        },
        "work_of_art_id": 14
       },
       {
        "id": 3,
        "technique": "Pintura a oléo",
        "work_of_art": {
         "author": "Mozart",
         "creation_date": "Sun, 01 Feb 1632 00:00:00 GMT",
         "description": "Escultura de alguem desconhecido",
         "id": 14,
         "location": "Centro Oeste",
         "name": "O algo"
        },
        "work_of_art_id": 14
       }
      ]
     },
     "metadata": {
      "application/json": {
       "expanded": false,
       "root": "root"
      }
     },
     "output_type": "display_data"
    }
   ],
   "execution_count": 18
  },
  {
   "metadata": {},
   "cell_type": "markdown",
   "source": "Request - get_by_args_technique",
   "id": "6347d2a7ea4516af"
  },
  {
   "metadata": {
    "ExecuteTime": {
     "end_time": "2024-06-14T10:53:12.645925Z",
     "start_time": "2024-06-14T10:53:12.629054Z"
    }
   },
   "cell_type": "code",
   "source": [
    "def get_by_args(object_args):\n",
    "    query_string = '&'.join(f\"{key}={value}\" for key, value in object_args.items())\n",
    "    response = requests.get(f\"{BASE_URL}?{query_string}\")\n",
    "    \n",
    "    if response.status_code == 200:\n",
    "        data = response.json()\n",
    "        display(JSON(data))\n",
    "    else:\n",
    "        return f\"Erro: {response.status_code}, {response.json()}\"\n",
    "\n",
    "\n",
    "get_by_args(object_args_technique)"
   ],
   "id": "65ad442107be013d",
   "outputs": [
    {
     "data": {
      "text/plain": [
       "<IPython.core.display.JSON object>"
      ],
      "application/json": [
       {
        "id": 1,
        "technique": "Pintura a oléo",
        "work_of_art": {
         "author": "Mozart",
         "creation_date": "Sun, 01 Feb 1632 00:00:00 GMT",
         "description": "Escultura de alguem desconhecido",
         "id": 14,
         "location": "Centro Oeste",
         "name": "O algo"
        },
        "work_of_art_id": 14
       },
       {
        "id": 2,
        "technique": "Pintura a oléo",
        "work_of_art": {
         "author": "Mozart",
         "creation_date": "Sun, 01 Feb 1632 00:00:00 GMT",
         "description": "Escultura de alguem desconhecido",
         "id": 14,
         "location": "Centro Oeste",
         "name": "O algo"
        },
        "work_of_art_id": 14
       },
       {
        "id": 3,
        "technique": "Pintura a oléo",
        "work_of_art": {
         "author": "Mozart",
         "creation_date": "Sun, 01 Feb 1632 00:00:00 GMT",
         "description": "Escultura de alguem desconhecido",
         "id": 14,
         "location": "Centro Oeste",
         "name": "O algo"
        },
        "work_of_art_id": 14
       }
      ]
     },
     "metadata": {
      "application/json": {
       "expanded": false,
       "root": "root"
      }
     },
     "output_type": "display_data"
    }
   ],
   "execution_count": 19
  }
 ],
 "metadata": {
  "kernelspec": {
   "display_name": "Python 3",
   "language": "python",
   "name": "python3"
  },
  "language_info": {
   "codemirror_mode": {
    "name": "ipython",
    "version": 2
   },
   "file_extension": ".py",
   "mimetype": "text/x-python",
   "name": "python",
   "nbconvert_exporter": "python",
   "pygments_lexer": "ipython2",
   "version": "2.7.6"
  }
 },
 "nbformat": 4,
 "nbformat_minor": 5
}
