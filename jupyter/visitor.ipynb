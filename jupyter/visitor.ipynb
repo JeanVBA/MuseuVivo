{
 "cells": [
  {
   "cell_type": "code",
   "id": "initial_id",
   "metadata": {
    "collapsed": true,
    "ExecuteTime": {
     "end_time": "2024-06-14T11:01:11.915395Z",
     "start_time": "2024-06-14T11:01:11.905449Z"
    }
   },
   "source": [
    "import requests\n",
    "from IPython.display import display, JSON"
   ],
   "execution_count": 13,
   "outputs": []
  },
  {
   "cell_type": "code",
   "id": "1d1ad693ecb87680",
   "metadata": {
    "ExecuteTime": {
     "end_time": "2024-06-14T11:01:11.923823Z",
     "start_time": "2024-06-14T11:01:11.915395Z"
    }
   },
   "source": [
    "BASE_URL = 'http://127.0.0.1:5000/visitor'"
   ],
   "execution_count": 14,
   "outputs": []
  },
  {
   "cell_type": "code",
   "id": "7d026f61",
   "metadata": {
    "ExecuteTime": {
     "end_time": "2024-06-14T11:01:11.927564Z",
     "start_time": "2024-06-14T11:01:11.923823Z"
    }
   },
   "source": [
    "object = {\n",
    "    \"name\": \"Carlos Druino\",\n",
    "    \"email\": \"email@gmail.com\",\n",
    "    \"phone\": \"5524988808088\"\n",
    "}\n",
    "\n",
    "information = \"Carlos Druino\"\n",
    "\n",
    "object_args_name = {'name': 'Carlos Druino'}\n",
    "object_args_email = {'email': 'email@gmail.com'}\n",
    "object_args_phone = {'phone': '+5524988808088'}"
   ],
   "execution_count": 15,
   "outputs": []
  },
  {
   "cell_type": "markdown",
   "id": "6a3500b34cfb829a",
   "metadata": {},
   "source": [
    "Request - get_all"
   ]
  },
  {
   "cell_type": "code",
   "id": "685e360e",
   "metadata": {
    "ExecuteTime": {
     "end_time": "2024-06-14T11:01:12.309492Z",
     "start_time": "2024-06-14T11:01:11.927564Z"
    }
   },
   "source": [
    "def get_all():\n",
    "    response = requests.get(f\"{BASE_URL}/\")\n",
    "    if response.status_code == 200:\n",
    "        data = response.json()\n",
    "        return display(JSON(data))\n",
    "    else:\n",
    "        return f\"Error: {response.status_code}\"\n",
    "\n",
    "get_all()"
   ],
   "execution_count": 16,
   "outputs": []
  },
  {
   "cell_type": "markdown",
   "id": "9129f673b0e48391",
   "metadata": {},
   "source": [
    "Request - get_by_id"
   ]
  },
  {
   "cell_type": "code",
   "id": "fa7fd8cd",
   "metadata": {
    "ExecuteTime": {
     "end_time": "2024-06-14T11:01:12.323761Z",
     "start_time": "2024-06-14T11:01:12.309492Z"
    }
   },
   "source": [
    "def get_by_id(id):\n",
    "    response = requests.get(f\"{BASE_URL}/{id}\")\n",
    "    if response.status_code == 200:\n",
    "        data = response.json()\n",
    "        return display(JSON(data))\n",
    "    else:\n",
    "        return f\"Error: {response.status_code}, {response.json()}\"\n",
    "\n",
    "get_by_id(1)"
   ],
   "execution_count": 17,
   "outputs": []
  },
  {
   "cell_type": "markdown",
   "id": "4f87c392525def20",
   "metadata": {},
   "source": [
    "Request - create"
   ]
  },
  {
   "cell_type": "code",
   "id": "51be4bf8",
   "metadata": {
    "ExecuteTime": {
     "end_time": "2024-06-14T11:01:12.339908Z",
     "start_time": "2024-06-14T11:01:12.323761Z"
    }
   },
   "source": [
    "def create(data):\n",
    "    headers = {'Content-Type': 'application/json'}\n",
    "    response = requests.post(f\"{BASE_URL}/\", json=data, headers=headers)\n",
    "    if response.status_code == 200:\n",
    "        data = response.json()\n",
    "        return display(JSON(data))\n",
    "    else:\n",
    "        return f\"Error: {response.status_code}, {response.json()}\"\n",
    "    \n",
    "create(object)"
   ],
   "execution_count": 18,
   "outputs": []
  },
  {
   "cell_type": "markdown",
   "id": "4c38c3efa5656a89",
   "metadata": {},
   "source": [
    "Request - update"
   ]
  },
  {
   "cell_type": "code",
   "id": "b7446cec",
   "metadata": {
    "ExecuteTime": {
     "end_time": "2024-06-14T11:01:12.354987Z",
     "start_time": "2024-06-14T11:01:12.339908Z"
    }
   },
   "source": [
    "def update(id, data):\n",
    "    headers = {'Content-Type': 'application/json'}\n",
    "    response = requests.put(f\"{BASE_URL}/{id}\", json=data, headers=headers)\n",
    "    if response.status_code == 200:\n",
    "        data = response.json()\n",
    "        return display(JSON(data))\n",
    "    else:\n",
    "        return f\"Error: {response.status_code}, {response.json()}\"\n",
    "\n",
    "id=1\n",
    "update(id, object)"
   ],
   "execution_count": 19,
   "outputs": []
  },
  {
   "cell_type": "markdown",
   "id": "41870f0ffaa4652b",
   "metadata": {},
   "source": [
    "Request - delete"
   ]
  },
  {
   "cell_type": "code",
   "id": "72dc5dff",
   "metadata": {
    "ExecuteTime": {
     "end_time": "2024-06-14T11:01:12.365003Z",
     "start_time": "2024-06-14T11:01:12.354987Z"
    }
   },
   "source": [
    "def delete(id):\n",
    "    response = requests.delete(f\"{BASE_URL}/{id}\")\n",
    "    if response.status_code == 204:\n",
    "        return response.status_code\n",
    "    else:\n",
    "        return f\"Error: {response.status_code}, {response.json()}\"\n",
    "\n",
    "id = 122\n",
    "delete(122)"
   ],
   "execution_count": 20,
   "outputs": []
  },
  {
   "cell_type": "markdown",
   "id": "5df18e5d24f75ae7",
   "metadata": {},
   "source": [
    "Request - get_by_args_name"
   ]
  },
  {
   "cell_type": "code",
   "id": "2b59169f",
   "metadata": {
    "ExecuteTime": {
     "end_time": "2024-06-14T11:01:12.383721Z",
     "start_time": "2024-06-14T11:01:12.365003Z"
    }
   },
   "source": [
    "def get_by_args(object_args):\n",
    "    query_string = '&'.join(f\"{key}={value}\" for key, value in object_args.items())\n",
    "    response = requests.get(f\"{BASE_URL}?{query_string}\")\n",
    "    \n",
    "    if response.status_code == 200:\n",
    "        data = response.json()\n",
    "        display(JSON(data))\n",
    "    else:\n",
    "        return f\"Erro: {response.status_code}, {response.json()}\"\n",
    "\n",
    "\n",
    "get_by_args(object_args_name)"
   ],
   "execution_count": 21,
   "outputs": []
  },
  {
   "cell_type": "markdown",
   "id": "7154187b49c5e7cf",
   "metadata": {},
   "source": [
    "Request - get_by_args_email"
   ]
  },
  {
   "cell_type": "code",
   "id": "7eef189f",
   "metadata": {
    "ExecuteTime": {
     "end_time": "2024-06-14T11:01:12.400529Z",
     "start_time": "2024-06-14T11:01:12.383721Z"
    }
   },
   "source": [
    "def get_by_args(object_args):\n",
    "    query_string = '&'.join(f\"{key}={value}\" for key, value in object_args.items())\n",
    "    response = requests.get(f\"{BASE_URL}?{query_string}\")\n",
    "    \n",
    "    if response.status_code == 200:\n",
    "        data = response.json()\n",
    "        display(JSON(data))\n",
    "    else:\n",
    "        return f\"Erro: {response.status_code}, {response.json()}\"\n",
    "\n",
    "\n",
    "get_by_args(object_args_email)"
   ],
   "execution_count": 22,
   "outputs": []
  },
  {
   "cell_type": "markdown",
   "id": "fd9e2bfb98f8ebbe",
   "metadata": {},
   "source": [
    "Request - get_by_args_phone"
   ]
  },
  {
   "cell_type": "code",
   "id": "e952e8bf",
   "metadata": {
    "ExecuteTime": {
     "end_time": "2024-06-14T11:01:12.411888Z",
     "start_time": "2024-06-14T11:01:12.400529Z"
    }
   },
   "source": [
    "def get_by_args(object_args):\n",
    "    query_string = '&'.join(f\"{key}={value}\" for key, value in object_args.items())\n",
    "    response = requests.get(f\"{BASE_URL}?{query_string}\")\n",
    "    \n",
    "    if response.status_code == 200:\n",
    "        data = response.json()\n",
    "        display(JSON(data))\n",
    "    else:\n",
    "        return f\"Erro: {response.status_code}, {response.json()}\"\n",
    "\n",
    "\n",
    "get_by_args(object_args_phone)"
   ],
   "execution_count": 23,
   "outputs": []
  },
  {
   "cell_type": "markdown",
   "id": "62f16fb06fe0d6cd",
   "metadata": {},
   "source": [
    "Request - get_by_name"
   ]
  },
  {
   "cell_type": "code",
   "id": "df5bca16",
   "metadata": {
    "ExecuteTime": {
     "end_time": "2024-06-14T11:01:12.428531Z",
     "start_time": "2024-06-14T11:01:12.411888Z"
    }
   },
   "source": [
    "def get_by_parameter(information):\n",
    "    response = requests.get(f\"{BASE_URL}/{information}\")\n",
    "    if response.status_code == 200:\n",
    "        data = response.json()\n",
    "        return display(JSON(data))\n",
    "    else:\n",
    "        return f\"Error: {response.status_code}, {response.json()}\"\n",
    "\n",
    "get_by_parameter(information)"
   ],
   "execution_count": 24,
   "outputs": []
  }
 ],
 "metadata": {
  "kernelspec": {
   "display_name": "Python 3",
   "language": "python",
   "name": "python3"
  },
  "language_info": {
   "codemirror_mode": {
    "name": "ipython",
    "version": 2
   },
   "file_extension": ".py",
   "mimetype": "text/x-python",
   "name": "python",
   "nbconvert_exporter": "python",
   "pygments_lexer": "ipython2",
   "version": "2.7.6"
  }
 },
 "nbformat": 4,
 "nbformat_minor": 5
}
