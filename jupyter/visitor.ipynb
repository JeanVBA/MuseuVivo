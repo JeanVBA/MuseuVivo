{
 "cells": [
  {
   "cell_type": "code",
   "execution_count": null,
   "id": "initial_id",
   "metadata": {
    "collapsed": true
   },
   "outputs": [],
   "source": [
    "import requests\n",
    "from IPython.display import display, JSON"
   ]
  },
  {
   "cell_type": "code",
   "execution_count": null,
   "id": "1d1ad693ecb87680",
   "metadata": {},
   "outputs": [],
   "source": [
    "BASE_URL = 'http://127.0.0.1:5000/visitor'"
   ]
  },
  {
   "cell_type": "code",
   "execution_count": null,
   "id": "7d026f61",
   "metadata": {},
   "outputs": [],
   "source": [
    "object = {\n",
    "    \"name\": \"Carlos Druino\",\n",
    "    \"email\": \"email@gmail.com\",\n",
    "    \"phone\": \"+5524988808088\"\n",
    "}\n",
    "\n",
    "information = \"Carlos Druino\"\n",
    "\n",
    "object_args_name = {'name': 'Carlos Druino'}\n",
    "object_args_email = {'email': 'email@gmail.com'}\n",
    "object_args_phone = {'phone': '+5524988808088'}"
   ]
  },
  {
   "cell_type": "markdown",
   "id": "6a3500b34cfb829a",
   "metadata": {},
   "source": [
    "Request - get_all"
   ]
  },
  {
   "cell_type": "code",
   "execution_count": null,
   "id": "685e360e",
   "metadata": {},
   "outputs": [],
   "source": [
    "def get_all():\n",
    "    response = requests.get(f\"{BASE_URL}/\")\n",
    "    if response.status_code == 200:\n",
    "        data = response.json()\n",
    "        return display(JSON(data))\n",
    "    else:\n",
    "        return f\"Error: {response.status_code}\"\n",
    "\n",
    "get_all()"
   ]
  },
  {
   "cell_type": "markdown",
   "id": "9129f673b0e48391",
   "metadata": {},
   "source": [
    "Request - get_by_id"
   ]
  },
  {
   "cell_type": "code",
   "execution_count": null,
   "id": "fa7fd8cd",
   "metadata": {},
   "outputs": [],
   "source": [
    "def get_by_id(id):\n",
    "    response = requests.get(f\"{BASE_URL}/{id}\")\n",
    "    if response.status_code == 200:\n",
    "        data = response.json()\n",
    "        return display(JSON(data))\n",
    "    else:\n",
    "        return f\"Error: {response.status_code}, {response.json()}\"\n",
    "\n",
    "get_by_id(1)"
   ]
  },
  {
   "cell_type": "markdown",
   "id": "4f87c392525def20",
   "metadata": {},
   "source": [
    "Request - create"
   ]
  },
  {
   "cell_type": "code",
   "execution_count": null,
   "id": "51be4bf8",
   "metadata": {},
   "outputs": [],
   "source": [
    "def create(data):\n",
    "    headers = {'Content-Type': 'application/json'}\n",
    "    response = requests.post(f\"{BASE_URL}/\", json=data, headers=headers)\n",
    "    if response.status_code == 200:\n",
    "        data = response.json()\n",
    "        return display(JSON(data))\n",
    "    else:\n",
    "        return f\"Error: {response.status_code}, {response.json()}\"\n",
    "    \n",
    "create(object)"
   ]
  },
  {
   "cell_type": "markdown",
   "id": "4c38c3efa5656a89",
   "metadata": {},
   "source": [
    "Request - update"
   ]
  },
  {
   "cell_type": "code",
   "execution_count": null,
   "id": "b7446cec",
   "metadata": {},
   "outputs": [],
   "source": [
    "def update(id, data):\n",
    "    headers = {'Content-Type': 'application/json'}\n",
    "    response = requests.put(f\"{BASE_URL}/{id}\", json=data, headers=headers)\n",
    "    if response.status_code == 200:\n",
    "        data = response.json()\n",
    "        return display(JSON(data))\n",
    "    else:\n",
    "        return f\"Error: {response.status_code}, {response.json()}\"\n",
    "\n",
    "id=1\n",
    "update(id, object)"
   ]
  },
  {
   "cell_type": "markdown",
   "id": "41870f0ffaa4652b",
   "metadata": {},
   "source": [
    "Request - delete"
   ]
  },
  {
   "cell_type": "code",
   "execution_count": null,
   "id": "72dc5dff",
   "metadata": {},
   "outputs": [],
   "source": [
    "def delete(id):\n",
    "    response = requests.delete(f\"{BASE_URL}/{id}\")\n",
    "    if response.status_code == 204:\n",
    "        return response.status_code\n",
    "    else:\n",
    "        return f\"Error: {response.status_code}, {response.json()}\"\n",
    "\n",
    "id = 122\n",
    "delete(122)"
   ]
  },
  {
   "cell_type": "markdown",
   "id": "5df18e5d24f75ae7",
   "metadata": {},
   "source": [
    "Request - get_by_args_name"
   ]
  },
  {
   "cell_type": "code",
   "execution_count": null,
   "id": "2b59169f",
   "metadata": {},
   "outputs": [],
   "source": [
    "def get_by_args(object_args):\n",
    "    query_string = '&'.join(f\"{key}={value}\" for key, value in object_args.items())\n",
    "    response = requests.get(f\"{BASE_URL}?{query_string}\")\n",
    "    \n",
    "    if response.status_code == 200:\n",
    "        data = response.json()\n",
    "        display(JSON(data))\n",
    "    else:\n",
    "        return f\"Erro: {response.status_code}, {response.json()}\"\n",
    "\n",
    "\n",
    "get_by_args(object_args_name)"
   ]
  },
  {
   "cell_type": "markdown",
   "id": "7154187b49c5e7cf",
   "metadata": {},
   "source": [
    "Request - get_by_args_email"
   ]
  },
  {
   "cell_type": "code",
   "execution_count": null,
   "id": "7eef189f",
   "metadata": {},
   "outputs": [],
   "source": [
    "def get_by_args(object_args):\n",
    "    query_string = '&'.join(f\"{key}={value}\" for key, value in object_args.items())\n",
    "    response = requests.get(f\"{BASE_URL}?{query_string}\")\n",
    "    \n",
    "    if response.status_code == 200:\n",
    "        data = response.json()\n",
    "        display(JSON(data))\n",
    "    else:\n",
    "        return f\"Erro: {response.status_code}, {response.json()}\"\n",
    "\n",
    "\n",
    "get_by_args(object_args_email)"
   ]
  },
  {
   "cell_type": "markdown",
   "id": "fd9e2bfb98f8ebbe",
   "metadata": {},
   "source": [
    "Request - get_by_args_phone"
   ]
  },
  {
   "cell_type": "code",
   "execution_count": null,
   "id": "e952e8bf",
   "metadata": {},
   "outputs": [],
   "source": [
    "def get_by_args(object_args):\n",
    "    query_string = '&'.join(f\"{key}={value}\" for key, value in object_args.items())\n",
    "    response = requests.get(f\"{BASE_URL}?{query_string}\")\n",
    "    \n",
    "    if response.status_code == 200:\n",
    "        data = response.json()\n",
    "        display(JSON(data))\n",
    "    else:\n",
    "        return f\"Erro: {response.status_code}, {response.json()}\"\n",
    "\n",
    "\n",
    "get_by_args(object_args_phone)"
   ]
  },
  {
   "cell_type": "markdown",
   "id": "62f16fb06fe0d6cd",
   "metadata": {},
   "source": [
    "Request - get_by_name"
   ]
  },
  {
   "cell_type": "code",
   "execution_count": null,
   "id": "df5bca16",
   "metadata": {},
   "outputs": [],
   "source": [
    "def get_by_parameter(information):\n",
    "    response = requests.get(f\"{BASE_URL}/{information}\")\n",
    "    if response.status_code == 200:\n",
    "        data = response.json()\n",
    "        return display(JSON(data))\n",
    "    else:\n",
    "        return f\"Error: {response.status_code}, {response.json()}\"\n",
    "\n",
    "get_by_parameter(information)"
   ]
  }
 ],
 "metadata": {
  "kernelspec": {
   "display_name": "Python 3",
   "language": "python",
   "name": "python3"
  },
  "language_info": {
   "codemirror_mode": {
    "name": "ipython",
    "version": 2
   },
   "file_extension": ".py",
   "mimetype": "text/x-python",
   "name": "python",
   "nbconvert_exporter": "python",
   "pygments_lexer": "ipython2",
   "version": "2.7.6"
  }
 },
 "nbformat": 4,
 "nbformat_minor": 5
}
