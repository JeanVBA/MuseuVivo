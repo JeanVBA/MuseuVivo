{
 "cells": [
  {
   "cell_type": "code",
   "execution_count": 1,
   "id": "initial_id",
   "metadata": {
    "ExecuteTime": {
     "end_time": "2024-06-14T10:41:14.663389Z",
     "start_time": "2024-06-14T10:41:14.650161Z"
    },
    "collapsed": true
   },
   "outputs": [],
   "source": [
    "import requests\n",
    "from IPython.display import display, JSON"
   ]
  },
  {
   "cell_type": "code",
   "execution_count": 2,
   "id": "c624fa6a7921edfe",
   "metadata": {
    "ExecuteTime": {
     "end_time": "2024-06-14T10:41:14.681201Z",
     "start_time": "2024-06-14T10:41:14.665895Z"
    }
   },
   "outputs": [],
   "source": [
    "BASE_URL = 'http://127.0.0.1:5000/institution'"
   ]
  },
  {
   "cell_type": "code",
   "execution_count": 3,
   "id": "d55f833f0886d9d1",
   "metadata": {
    "ExecuteTime": {
     "end_time": "2024-06-14T10:41:14.685644Z",
     "start_time": "2024-06-14T10:41:14.681201Z"
    }
   },
   "outputs": [],
   "source": [
    "object = {\n",
    "    'name': 'LNCC'\n",
    "}\n",
    "object_args_name = {'name': 'LNCC'}\n",
    "object_args_loan_date = {'loan_date': '2024-06-25'}\n",
    "object_args_return_loan_date = {'return_loan_date': '2024-06-30'}"
   ]
  },
  {
   "cell_type": "markdown",
   "id": "a572beed1f1d6ccf",
   "metadata": {},
   "source": [
    "Request - get_all"
   ]
  },
  {
   "cell_type": "code",
   "execution_count": 4,
   "id": "fcb8d961154cca44",
   "metadata": {
    "ExecuteTime": {
     "end_time": "2024-06-14T10:41:15.101532Z",
     "start_time": "2024-06-14T10:41:14.685644Z"
    }
   },
   "outputs": [
    {
     "data": {
      "text/plain": [
       "<IPython.core.display.JSON object>"
      ]
     },
     "metadata": {
      "application/json": {
       "expanded": false,
       "root": "root"
      }
     },
     "output_type": "display_data"
    }
   ],
   "source": [
    "def get_all():\n",
    "    response = requests.get(f\"{BASE_URL}/\")\n",
    "    if response.status_code == 200:\n",
    "        data = response.json()\n",
    "        return display(JSON(data))\n",
    "    else:\n",
    "        return f\"Error: {response.status_code}\"\n",
    "\n",
    "get_all()"
   ]
  },
  {
   "cell_type": "markdown",
   "id": "88636abb9a2a296c",
   "metadata": {},
   "source": [
    "Request - get_by_id"
   ]
  },
  {
   "cell_type": "code",
   "execution_count": 5,
   "id": "3f8350c4c9816850",
   "metadata": {
    "ExecuteTime": {
     "end_time": "2024-06-14T10:41:15.127492Z",
     "start_time": "2024-06-14T10:41:15.101532Z"
    }
   },
   "outputs": [
    {
     "data": {
      "application/json": {
       "id": 1,
       "name": "LNCC",
       "works_of_art": [
        {
         "author": "Mozart",
         "creation_date": "Wed, 19 Jun 2024 00:00:00 GMT",
         "description": "tudo e mais um pouco",
         "name": "O Tudo",
         "type": "Painting"
        }
       ]
      },
      "text/plain": [
       "<IPython.core.display.JSON object>"
      ]
     },
     "metadata": {
      "application/json": {
       "expanded": false,
       "root": "root"
      }
     },
     "output_type": "display_data"
    }
   ],
   "source": [
    "def get_by_id(id):\n",
    "    response = requests.get(f\"{BASE_URL}/{id}\")\n",
    "    if response.status_code == 200:\n",
    "        data = response.json()\n",
    "        return display(JSON(data))\n",
    "    else:\n",
    "        return f\"Error: {response.status_code}, {response.json()}\"\n",
    "\n",
    "get_by_id(1)"
   ]
  },
  {
   "cell_type": "markdown",
   "id": "3e1cde749b90fa0",
   "metadata": {},
   "source": [
    "Request - create"
   ]
  },
  {
   "cell_type": "code",
   "execution_count": 6,
   "id": "87f2f7e3562159f8",
   "metadata": {
    "ExecuteTime": {
     "end_time": "2024-06-14T10:41:15.150374Z",
     "start_time": "2024-06-14T10:41:15.127492Z"
    }
   },
   "outputs": [
    {
     "data": {
      "application/json": {
       "id": 9,
       "name": "LNCC",
       "works_of_art": []
      },
      "text/plain": [
       "<IPython.core.display.JSON object>"
      ]
     },
     "metadata": {
      "application/json": {
       "expanded": false,
       "root": "root"
      }
     },
     "output_type": "display_data"
    }
   ],
   "source": [
    "def create(data):\n",
    "    headers = {'Content-Type': 'application/json'}\n",
    "    response = requests.post(f\"{BASE_URL}/\", json=data, headers=headers)\n",
    "    if response.status_code == 200:\n",
    "        data = response.json()\n",
    "        return display(JSON(data))\n",
    "    else:\n",
    "        return f\"Error: {response.status_code}, {response.json()}\"\n",
    "    \n",
    "create(object)"
   ]
  },
  {
   "cell_type": "markdown",
   "id": "13e9cd0c286d6f4c",
   "metadata": {},
   "source": [
    "Request - update"
   ]
  },
  {
   "cell_type": "code",
   "execution_count": 7,
   "id": "9dd8ec21254600dd",
   "metadata": {
    "ExecuteTime": {
     "end_time": "2024-06-14T10:41:15.171257Z",
     "start_time": "2024-06-14T10:41:15.150374Z"
    }
   },
   "outputs": [
    {
     "data": {
      "application/json": {
       "id": 1,
       "name": "LNCC",
       "works_of_art": [
        {
         "author": "Mozart",
         "creation_date": "Wed, 19 Jun 2024 00:00:00 GMT",
         "description": "tudo e mais um pouco",
         "name": "O Tudo",
         "type": "Painting"
        }
       ]
      },
      "text/plain": [
       "<IPython.core.display.JSON object>"
      ]
     },
     "metadata": {
      "application/json": {
       "expanded": false,
       "root": "root"
      }
     },
     "output_type": "display_data"
    }
   ],
   "source": [
    "def update(id, data):\n",
    "    headers = {'Content-Type': 'application/json'}\n",
    "    response = requests.put(f\"{BASE_URL}/{id}\", json=data, headers=headers)\n",
    "    if response.status_code == 200:\n",
    "        data = response.json()\n",
    "        return display(JSON(data))\n",
    "    else:\n",
    "        return f\"Error: {response.status_code}, {response.json()}\"\n",
    "\n",
    "id=1\n",
    "update(id, object)"
   ]
  },
  {
   "cell_type": "markdown",
   "id": "fe0e450e2dd4c59f",
   "metadata": {},
   "source": [
    "Request - delete"
   ]
  },
  {
   "cell_type": "code",
   "execution_count": 8,
   "id": "44afd3a7177ea9fb",
   "metadata": {
    "ExecuteTime": {
     "end_time": "2024-06-14T10:41:15.184546Z",
     "start_time": "2024-06-14T10:41:15.171257Z"
    }
   },
   "outputs": [
    {
     "data": {
      "text/plain": [
       "\"Error: 404, {'error': 'Institution not found'}\""
      ]
     },
     "execution_count": 8,
     "metadata": {},
     "output_type": "execute_result"
    }
   ],
   "source": [
    "def delete(id):\n",
    "    response = requests.delete(f\"{BASE_URL}/{id}\")\n",
    "    if response.status_code == 204:\n",
    "        return response.status_code\n",
    "    else:\n",
    "        return f\"Error: {response.status_code}, {response.json()}\"\n",
    "\n",
    "id = 122\n",
    "delete(122)"
   ]
  },
  {
   "cell_type": "markdown",
   "id": "70a537ed25591880",
   "metadata": {},
   "source": [
    "Request - get_by_args_name"
   ]
  },
  {
   "cell_type": "code",
   "execution_count": 9,
   "id": "5b56b70a23fc8d82",
   "metadata": {
    "ExecuteTime": {
     "end_time": "2024-06-14T10:41:15.203971Z",
     "start_time": "2024-06-14T10:41:15.184546Z"
    }
   },
   "outputs": [
    {
     "data": {
      "text/plain": [
       "<IPython.core.display.JSON object>"
      ]
     },
     "metadata": {
      "application/json": {
       "expanded": false,
       "root": "root"
      }
     },
     "output_type": "display_data"
    }
   ],
   "source": [
    "def get_by_args(object_args):\n",
    "    query_string = '&'.join(f\"{key}={value}\" for key, value in object_args.items())\n",
    "    response = requests.get(f\"{BASE_URL}?{query_string}\")\n",
    "    \n",
    "    if response.status_code == 200:\n",
    "        data = response.json()\n",
    "        display(JSON(data))\n",
    "    else:\n",
    "        return f\"Erro: {response.status_code}, {response.json()}\"\n",
    "\n",
    "\n",
    "get_by_args(object_args_name)"
   ]
  },
  {
   "cell_type": "markdown",
   "id": "451105863aedc5d1",
   "metadata": {},
   "source": [
    "Request - get_by_args_loan_date"
   ]
  },
  {
   "cell_type": "code",
   "execution_count": 10,
   "id": "d7e37adb5cf6fe9c",
   "metadata": {
    "ExecuteTime": {
     "end_time": "2024-06-14T10:41:15.222840Z",
     "start_time": "2024-06-14T10:41:15.203971Z"
    }
   },
   "outputs": [
    {
     "data": {
      "application/json": "",
      "text/plain": [
       "<IPython.core.display.JSON object>"
      ]
     },
     "metadata": {
      "application/json": {
       "expanded": false,
       "root": "root"
      }
     },
     "output_type": "display_data"
    }
   ],
   "source": [
    "def get_by_args(object_args):\n",
    "    query_string = '&'.join(f\"{key}={value}\" for key, value in object_args.items())\n",
    "    response = requests.get(f\"{BASE_URL}?{query_string}\")\n",
    "    \n",
    "    if response.status_code == 200:\n",
    "        data = response.json()\n",
    "        display(JSON(data))\n",
    "    else:\n",
    "        return f\"Erro: {response.status_code}, {response.json()}\"\n",
    "\n",
    "\n",
    "get_by_args(object_args_loan_date)"
   ]
  },
  {
   "cell_type": "markdown",
   "id": "d2c945f898994a4c",
   "metadata": {},
   "source": [
    "Request - get_by_args_return_loan_date"
   ]
  },
  {
   "cell_type": "code",
   "execution_count": 11,
   "id": "f2a71e6e598ee88b",
   "metadata": {
    "ExecuteTime": {
     "end_time": "2024-06-14T10:41:15.239507Z",
     "start_time": "2024-06-14T10:41:15.222840Z"
    }
   },
   "outputs": [
    {
     "data": {
      "application/json": "",
      "text/plain": [
       "<IPython.core.display.JSON object>"
      ]
     },
     "metadata": {
      "application/json": {
       "expanded": false,
       "root": "root"
      }
     },
     "output_type": "display_data"
    }
   ],
   "source": [
    "def get_by_args(object_args):\n",
    "    query_string = '&'.join(f\"{key}={value}\" for key, value in object_args.items())\n",
    "    response = requests.get(f\"{BASE_URL}?{query_string}\")\n",
    "    \n",
    "    if response.status_code == 200:\n",
    "        data = response.json()\n",
    "        display(JSON(data))\n",
    "    else:\n",
    "        return f\"Erro: {response.status_code}, {response.json()}\"\n",
    "\n",
    "\n",
    "get_by_args(object_args_return_loan_date)"
   ]
  }
 ],
 "metadata": {
  "kernelspec": {
   "display_name": "Python 3",
   "language": "python",
   "name": "python3"
  },
  "language_info": {
   "codemirror_mode": {
    "name": "ipython",
    "version": 3
   },
   "file_extension": ".py",
   "mimetype": "text/x-python",
   "name": "python",
   "nbconvert_exporter": "python",
   "pygments_lexer": "ipython3",
   "version": "3.12.3"
  }
 },
 "nbformat": 4,
 "nbformat_minor": 5
}
