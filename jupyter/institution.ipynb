{
 "cells": [
  {
   "cell_type": "code",
   "id": "initial_id",
   "metadata": {
    "collapsed": true,
    "ExecuteTime": {
     "end_time": "2024-06-14T10:41:14.663389Z",
     "start_time": "2024-06-14T10:41:14.650161Z"
    }
   },
   "source": [
    "import requests\n",
    "from IPython.display import display, JSON"
   ],
   "execution_count": 41,
   "outputs": []
  },
  {
   "metadata": {
    "ExecuteTime": {
     "end_time": "2024-06-14T10:41:14.681201Z",
     "start_time": "2024-06-14T10:41:14.665895Z"
    }
   },
   "cell_type": "code",
   "source": "BASE_URL = 'http://127.0.0.1:5000/institution'",
   "id": "c624fa6a7921edfe",
   "execution_count": 42,
   "outputs": []
  },
  {
   "metadata": {
    "ExecuteTime": {
     "end_time": "2024-06-14T10:41:14.685644Z",
     "start_time": "2024-06-14T10:41:14.681201Z"
    }
   },
   "cell_type": "code",
   "source": [
    "object = {\n",
    "    'name': 'LNCC'\n",
    "}\n",
    "object_args_name = {'name': 'LNCC'}\n",
    "object_args_loan_date = {'loan_date': '2024-06-09'}\n",
    "object_args_return_loan_date = {'return_loan_date': '2024-06-15'}"
   ],
   "id": "d55f833f0886d9d1",
   "execution_count": 43,
   "outputs": []
  },
  {
   "metadata": {},
   "cell_type": "markdown",
   "source": "Request - get_all",
   "id": "a572beed1f1d6ccf"
  },
  {
   "metadata": {
    "ExecuteTime": {
     "end_time": "2024-06-14T10:41:15.101532Z",
     "start_time": "2024-06-14T10:41:14.685644Z"
    }
   },
   "cell_type": "code",
   "source": [
    "def get_all():\n",
    "    response = requests.get(f\"{BASE_URL}/\")\n",
    "    if response.status_code == 200:\n",
    "        data = response.json()\n",
    "        return display(JSON(data))\n",
    "    else:\n",
    "        return f\"Error: {response.status_code}\"\n",
    "\n",
    "get_all()"
   ],
   "id": "fcb8d961154cca44",
   "execution_count": 44,
   "outputs": []
  },
  {
   "metadata": {},
   "cell_type": "markdown",
   "source": "Request - get_by_id",
   "id": "88636abb9a2a296c"
  },
  {
   "metadata": {
    "ExecuteTime": {
     "end_time": "2024-06-14T10:41:15.127492Z",
     "start_time": "2024-06-14T10:41:15.101532Z"
    }
   },
   "cell_type": "code",
   "source": [
    "def get_by_id(id):\n",
    "    response = requests.get(f\"{BASE_URL}/{id}\")\n",
    "    if response.status_code == 200:\n",
    "        data = response.json()\n",
    "        return display(JSON(data))\n",
    "    else:\n",
    "        return f\"Error: {response.status_code}, {response.json()}\"\n",
    "\n",
    "get_by_id(1)"
   ],
   "id": "3f8350c4c9816850",
   "execution_count": 45,
   "outputs": []
  },
  {
   "metadata": {},
   "cell_type": "markdown",
   "source": "Request - create",
   "id": "3e1cde749b90fa0"
  },
  {
   "metadata": {
    "ExecuteTime": {
     "end_time": "2024-06-14T10:41:15.150374Z",
     "start_time": "2024-06-14T10:41:15.127492Z"
    }
   },
   "cell_type": "code",
   "source": [
    "def create(data):\n",
    "    headers = {'Content-Type': 'application/json'}\n",
    "    response = requests.post(f\"{BASE_URL}/\", json=data, headers=headers)\n",
    "    if response.status_code == 200:\n",
    "        data = response.json()\n",
    "        return display(JSON(data))\n",
    "    else:\n",
    "        return f\"Error: {response.status_code}, {response.json()}\"\n",
    "    \n",
    "create(object)"
   ],
   "id": "87f2f7e3562159f8",
   "execution_count": 46,
   "outputs": []
  },
  {
   "metadata": {},
   "cell_type": "markdown",
   "source": "Request - update",
   "id": "13e9cd0c286d6f4c"
  },
  {
   "metadata": {
    "ExecuteTime": {
     "end_time": "2024-06-14T10:41:15.171257Z",
     "start_time": "2024-06-14T10:41:15.150374Z"
    }
   },
   "cell_type": "code",
   "source": [
    "def update(id, data):\n",
    "    headers = {'Content-Type': 'application/json'}\n",
    "    response = requests.put(f\"{BASE_URL}/{id}\", json=data, headers=headers)\n",
    "    if response.status_code == 200:\n",
    "        data = response.json()\n",
    "        return display(JSON(data))\n",
    "    else:\n",
    "        return f\"Error: {response.status_code}, {response.json()}\"\n",
    "\n",
    "id=1\n",
    "update(id, object)"
   ],
   "id": "9dd8ec21254600dd",
   "execution_count": 47,
   "outputs": []
  },
  {
   "metadata": {},
   "cell_type": "markdown",
   "source": "Request - delete",
   "id": "fe0e450e2dd4c59f"
  },
  {
   "metadata": {
    "ExecuteTime": {
     "end_time": "2024-06-14T10:41:15.184546Z",
     "start_time": "2024-06-14T10:41:15.171257Z"
    }
   },
   "cell_type": "code",
   "source": [
    "def delete(id):\n",
    "    response = requests.delete(f\"{BASE_URL}/{id}\")\n",
    "    if response.status_code == 204:\n",
    "        return response.status_code\n",
    "    else:\n",
    "        return f\"Error: {response.status_code}, {response.json()}\"\n",
    "\n",
    "id = 122\n",
    "delete(122)"
   ],
   "id": "44afd3a7177ea9fb",
   "execution_count": 48,
   "outputs": []
  },
  {
   "metadata": {},
   "cell_type": "markdown",
   "source": "Request - get_by_args_name",
   "id": "70a537ed25591880"
  },
  {
   "metadata": {
    "ExecuteTime": {
     "end_time": "2024-06-14T10:41:15.203971Z",
     "start_time": "2024-06-14T10:41:15.184546Z"
    }
   },
   "cell_type": "code",
   "source": [
    "def get_by_args(object_args):\n",
    "    query_string = '&'.join(f\"{key}={value}\" for key, value in object_args.items())\n",
    "    response = requests.get(f\"{BASE_URL}?{query_string}\")\n",
    "    \n",
    "    if response.status_code == 200:\n",
    "        data = response.json()\n",
    "        display(JSON(data))\n",
    "    else:\n",
    "        return f\"Erro: {response.status_code}, {response.json()}\"\n",
    "\n",
    "\n",
    "get_by_args(object_args_name)"
   ],
   "id": "5b56b70a23fc8d82",
   "execution_count": 49,
   "outputs": []
  },
  {
   "metadata": {},
   "cell_type": "markdown",
   "source": "Request - get_by_args_loan_date",
   "id": "451105863aedc5d1"
  },
  {
   "metadata": {
    "ExecuteTime": {
     "end_time": "2024-06-14T10:41:15.222840Z",
     "start_time": "2024-06-14T10:41:15.203971Z"
    }
   },
   "cell_type": "code",
   "source": [
    "def get_by_args(object_args):\n",
    "    query_string = '&'.join(f\"{key}={value}\" for key, value in object_args.items())\n",
    "    response = requests.get(f\"{BASE_URL}?{query_string}\")\n",
    "    \n",
    "    if response.status_code == 200:\n",
    "        data = response.json()\n",
    "        display(JSON(data))\n",
    "    else:\n",
    "        return f\"Erro: {response.status_code}, {response.json()}\"\n",
    "\n",
    "\n",
    "get_by_args(object_args_loan_date)"
   ],
   "id": "d7e37adb5cf6fe9c",
   "execution_count": 50,
   "outputs": []
  },
  {
   "metadata": {},
   "cell_type": "markdown",
   "source": "Request - get_by_args_return_loan_date",
   "id": "d2c945f898994a4c"
  },
  {
   "metadata": {
    "ExecuteTime": {
     "end_time": "2024-06-14T10:41:15.239507Z",
     "start_time": "2024-06-14T10:41:15.222840Z"
    }
   },
   "cell_type": "code",
   "source": [
    "def get_by_args(object_args):\n",
    "    query_string = '&'.join(f\"{key}={value}\" for key, value in object_args.items())\n",
    "    response = requests.get(f\"{BASE_URL}?{query_string}\")\n",
    "    \n",
    "    if response.status_code == 200:\n",
    "        data = response.json()\n",
    "        display(JSON(data))\n",
    "    else:\n",
    "        return f\"Erro: {response.status_code}, {response.json()}\"\n",
    "\n",
    "\n",
    "get_by_args(object_args_return_loan_date)"
   ],
   "id": "f2a71e6e598ee88b",
   "execution_count": 51,
   "outputs": []
  }
 ],
 "metadata": {
  "kernelspec": {
   "display_name": "Python 3",
   "language": "python",
   "name": "python3"
  },
  "language_info": {
   "codemirror_mode": {
    "name": "ipython",
    "version": 2
   },
   "file_extension": ".py",
   "mimetype": "text/x-python",
   "name": "python",
   "nbconvert_exporter": "python",
   "pygments_lexer": "ipython2",
   "version": "2.7.6"
  }
 },
 "nbformat": 4,
 "nbformat_minor": 5
}
