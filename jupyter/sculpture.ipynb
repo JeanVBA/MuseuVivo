{
 "cells": [
  {
   "cell_type": "markdown",
   "id": "13a4aa73227264d6",
   "metadata": {},
   "source": [
    "Importações e configurações bases"
   ]
  },
  {
   "cell_type": "code",
   "execution_count": 11,
   "id": "bfa88d3a0afbfa81",
   "metadata": {
    "ExecuteTime": {
     "end_time": "2024-06-04T23:29:00.368280Z",
     "start_time": "2024-06-04T23:29:00.365685Z"
    },
    "vscode": {
     "languageId": "python"
    }
   },
   "outputs": [],
   "source": [
    "import requests\n",
    "from IPython.display import display, JSON"
   ]
  },
  {
   "cell_type": "code",
   "execution_count": 12,
   "id": "e462f35484182ef0",
   "metadata": {
    "ExecuteTime": {
     "end_time": "2024-06-04T23:29:00.396229Z",
     "start_time": "2024-06-04T23:29:00.393297Z"
    },
    "vscode": {
     "languageId": "python"
    }
   },
   "outputs": [],
   "source": [
    "BASE_URL = 'http://127.0.0.1:5000/sculpture'"
   ]
  },
  {
   "cell_type": "code",
   "execution_count": null,
   "id": "da5231bf",
   "metadata": {
    "vscode": {
     "languageId": "python"
    }
   },
   "outputs": [],
   "source": [
    "object = {\n",
    "    \"work_of_art_id\": 1,\n",
    "    \"material\": \"granito\",\n",
    "    \"weight\": 50.5\n",
    "}\n",
    "\n",
    "object_args_work_of_art_name = {'work_of_art_name': 'O Algo'}\n",
    "object_args_material = {'material': 'Granito'}\n",
    "object_args_weight = {'weight': 50.0}"
   ]
  },
  {
   "cell_type": "markdown",
   "id": "3893f899c7d97e7f",
   "metadata": {},
   "source": [
    "Requisição - GET_ALL"
   ]
  },
  {
   "cell_type": "code",
   "execution_count": 13,
   "id": "6cdb8ab79d55b242",
   "metadata": {
    "ExecuteTime": {
     "end_time": "2024-06-04T23:29:00.429085Z",
     "start_time": "2024-06-04T23:29:00.397238Z"
    },
    "vscode": {
     "languageId": "python"
    }
   },
   "outputs": [],
   "source": [
    "#Endpoint que buscara todos os registros\n",
    "def get_all():\n",
    "    response = requests.get(f\"{BASE_URL}/\")\n",
    "    if response.status_code == 200:\n",
    "        data = response.json()\n",
    "        return display(JSON(data))\n",
    "    else:\n",
    "        return f\"Error: {response.status_code}\"\n",
    "\n",
    "\n",
    "get_all()"
   ]
  },
  {
   "cell_type": "markdown",
   "id": "97fe1138d059fec2",
   "metadata": {},
   "source": [
    "Requisição - GET_BY_ID"
   ]
  },
  {
   "cell_type": "code",
   "execution_count": 14,
   "id": "a0d9e1b3741dbd25",
   "metadata": {
    "ExecuteTime": {
     "end_time": "2024-06-04T23:29:00.441052Z",
     "start_time": "2024-06-04T23:29:00.430323Z"
    },
    "vscode": {
     "languageId": "python"
    }
   },
   "outputs": [],
   "source": [
    "#Endpoint que buscara o registro com base no id passado na URL\n",
    "def get_by_id(id):\n",
    "    response = requests.get(f\"{BASE_URL}/{id}\")\n",
    "    if response.status_code == 200:\n",
    "        data = response.json()\n",
    "        return display(JSON(data))\n",
    "    else:\n",
    "        return f\"Error: {response.status_code}, {response.json()}\"\n",
    "\n",
    "\n",
    "get_by_id(5)"
   ]
  },
  {
   "cell_type": "markdown",
   "id": "55fa87eb16195bb9",
   "metadata": {},
   "source": [
    "Requisição - GET_BY_NAME"
   ]
  },
  {
   "cell_type": "code",
   "execution_count": 15,
   "id": "aedaba80130927e4",
   "metadata": {
    "ExecuteTime": {
     "end_time": "2024-06-04T23:29:00.458734Z",
     "start_time": "2024-06-04T23:29:00.442060Z"
    },
    "vscode": {
     "languageId": "python"
    }
   },
   "outputs": [],
   "source": [
    "#Endpoint que buscara o registro com base no nome passado na URL\n",
    "def get_by_name(name):\n",
    "    response = requests.get(f\"{BASE_URL}/work_of_art/{name}\")\n",
    "    if response.status_code == 200:\n",
    "        data = response.json()\n",
    "        return display(JSON(data))\n",
    "    else:\n",
    "        return f\"Error: {response.status_code}, {response.json()}\"\n",
    "\n",
    "name = 'O Algo'\n",
    "get_by_name(name)"
   ]
  },
  {
   "cell_type": "markdown",
   "id": "a5d0cebb5174df3e",
   "metadata": {},
   "source": [
    "Requisição - CREATE"
   ]
  },
  {
   "cell_type": "code",
   "execution_count": 16,
   "id": "552dcb58855dfcb9",
   "metadata": {
    "ExecuteTime": {
     "end_time": "2024-06-04T23:29:00.484709Z",
     "start_time": "2024-06-04T23:29:00.460253Z"
    },
    "vscode": {
     "languageId": "python"
    }
   },
   "outputs": [],
   "source": [
    "#Enedpoint que registra na base\n",
    "def create(data):\n",
    "    headers = {'Content-Type': 'application/json'}\n",
    "    response = requests.post(f\"{BASE_URL}/\", json=data, headers=headers)\n",
    "    if response.status_code == 200:\n",
    "        data = response.json()\n",
    "        return display(JSON(data))\n",
    "    else:\n",
    "        return f\"Error: {response.status_code}, {response.json()}\"\n",
    "    \n",
    "create(object)"
   ]
  },
  {
   "cell_type": "markdown",
   "id": "991c29483658b7a9",
   "metadata": {},
   "source": [
    "Requisição - UPDATE"
   ]
  },
  {
   "cell_type": "code",
   "execution_count": 17,
   "id": "4afdf429a742a2db",
   "metadata": {
    "ExecuteTime": {
     "end_time": "2024-06-04T23:29:00.500891Z",
     "start_time": "2024-06-04T23:29:00.485717Z"
    },
    "vscode": {
     "languageId": "python"
    }
   },
   "outputs": [],
   "source": [
    "#Enedpoint que atualiza um registro na base\n",
    "def update(id, data):\n",
    "    headers = {'Content-Type': 'application/json'}\n",
    "    response = requests.put(f\"{BASE_URL}/{id}\", json=data, headers=headers)\n",
    "    if response.status_code == 200:\n",
    "        data = response.json()\n",
    "        return display(JSON(data))\n",
    "    else:\n",
    "        return f\"Error: {response.status_code}, {response.json()}\"\n",
    "\n",
    "id = 6\n",
    "update(id, object)"
   ]
  },
  {
   "cell_type": "markdown",
   "id": "d7122ac379dadb8a",
   "metadata": {},
   "source": [
    "Requisição - DELETE"
   ]
  },
  {
   "cell_type": "code",
   "execution_count": 18,
   "id": "8eb8bcfdfd90c345",
   "metadata": {
    "ExecuteTime": {
     "end_time": "2024-06-04T23:29:00.508465Z",
     "start_time": "2024-06-04T23:29:00.501903Z"
    },
    "vscode": {
     "languageId": "python"
    }
   },
   "outputs": [],
   "source": [
    "#Enedpoint que deleta um registro da base\n",
    "def delete(id):\n",
    "    response = requests.delete(f\"{BASE_URL}/{id}\")\n",
    "    if response.status_code == 204:\n",
    "        return response.status_code\n",
    "    else:\n",
    "        return f\"Error: {response.status_code}, {response.json()}\"\n",
    "    \n",
    "id = 320\n",
    "delete(id)"
   ]
  },
  {
   "cell_type": "markdown",
   "id": "95d31e4a24f4110e",
   "metadata": {},
   "source": [
    "Request - get_by_args_work_of_art_name"
   ]
  },
  {
   "cell_type": "code",
   "execution_count": null,
   "id": "3c040273",
   "metadata": {
    "vscode": {
     "languageId": "python"
    }
   },
   "outputs": [],
   "source": [
    "def get_by_args(object_args):\n",
    "    query_string = '&'.join(f\"{key}={value}\" for key, value in object_args.items())\n",
    "    response = requests.get(f\"{BASE_URL}?{query_string}\")\n",
    "    \n",
    "    if response.status_code == 200:\n",
    "        data = response.json()\n",
    "        display(JSON(data))\n",
    "    else:\n",
    "        return f\"Erro: {response.status_code}, {response.json()}\"\n",
    "\n",
    "\n",
    "get_by_args(object_args_work_of_art_name)"
   ]
  },
  {
   "cell_type": "markdown",
   "id": "e9f26a897d258a1d",
   "metadata": {},
   "source": [
    "Request - get_by_args_material"
   ]
  },
  {
   "cell_type": "code",
   "execution_count": null,
   "id": "198c5e7f",
   "metadata": {
    "vscode": {
     "languageId": "python"
    }
   },
   "outputs": [],
   "source": [
    "def get_by_args(object_args):\n",
    "    query_string = '&'.join(f\"{key}={value}\" for key, value in object_args.items())\n",
    "    response = requests.get(f\"{BASE_URL}?{query_string}\")\n",
    "    \n",
    "    if response.status_code == 200:\n",
    "        data = response.json()\n",
    "        display(JSON(data))\n",
    "    else:\n",
    "        return f\"Erro: {response.status_code}, {response.json()}\"\n",
    "\n",
    "\n",
    "get_by_args(object_args_material)"
   ]
  },
  {
   "cell_type": "markdown",
   "id": "37e5d90de9b16312",
   "metadata": {},
   "source": [
    "Request - get_by_args_weight"
   ]
  },
  {
   "cell_type": "code",
   "execution_count": null,
   "id": "35403b37",
   "metadata": {
    "vscode": {
     "languageId": "python"
    }
   },
   "outputs": [],
   "source": [
    "def get_by_args(object_args):\n",
    "    query_string = '&'.join(f\"{key}={value}\" for key, value in object_args.items())\n",
    "    response = requests.get(f\"{BASE_URL}?{query_string}\")\n",
    "    \n",
    "    if response.status_code == 200:\n",
    "        data = response.json()\n",
    "        display(JSON(data))\n",
    "    else:\n",
    "        return f\"Erro: {response.status_code}, {response.json()}\"\n",
    "\n",
    "\n",
    "get_by_args(object_args_weight)"
   ]
  }
 ],
 "metadata": {
  "kernelspec": {
   "display_name": "Python 3 (ipykernel)",
   "language": "python",
   "name": "python3"
  },
  "language_info": {
   "name": ""
  }
 },
 "nbformat": 4,
 "nbformat_minor": 5
}
