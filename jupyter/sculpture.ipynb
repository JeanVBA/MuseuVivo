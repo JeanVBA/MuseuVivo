{
 "cells": [
  {
   "cell_type": "markdown",
   "id": "13a4aa73227264d6",
   "metadata": {},
   "source": [
    "Importações e configurações bases"
   ]
  },
  {
   "cell_type": "code",
   "id": "bfa88d3a0afbfa81",
   "metadata": {
    "vscode": {
     "languageId": "python"
    },
    "ExecuteTime": {
     "end_time": "2024-06-14T10:56:49.654168Z",
     "start_time": "2024-06-14T10:56:49.646793Z"
    }
   },
   "source": [
    "import requests\n",
    "from IPython.display import display, JSON"
   ],
   "outputs": [],
   "execution_count": 43
  },
  {
   "cell_type": "code",
   "id": "e462f35484182ef0",
   "metadata": {
    "vscode": {
     "languageId": "python"
    },
    "ExecuteTime": {
     "end_time": "2024-06-14T10:56:49.679333Z",
     "start_time": "2024-06-14T10:56:49.675606Z"
    }
   },
   "source": [
    "BASE_URL = 'http://127.0.0.1:5000/sculpture'"
   ],
   "outputs": [],
   "execution_count": 44
  },
  {
   "cell_type": "code",
   "id": "da5231bf",
   "metadata": {
    "vscode": {
     "languageId": "python"
    },
    "ExecuteTime": {
     "end_time": "2024-06-14T10:56:49.690833Z",
     "start_time": "2024-06-14T10:56:49.679333Z"
    }
   },
   "source": [
    "object = {\n",
    "    \"work_of_art_id\": 1,\n",
    "    \"material\": \"granito\",\n",
    "    \"weight\": 50.5\n",
    "}\n",
    "\n",
    "object_args_work_of_art_name = {'work_of_art_name': 'O Algo'}\n",
    "object_args_material = {'material': 'Granito'}\n",
    "object_args_weight = {'weight': 50.5}"
   ],
   "outputs": [],
   "execution_count": 45
  },
  {
   "cell_type": "markdown",
   "id": "3893f899c7d97e7f",
   "metadata": {},
   "source": [
    "Requisição - GET_ALL"
   ]
  },
  {
   "cell_type": "code",
   "id": "6cdb8ab79d55b242",
   "metadata": {
    "vscode": {
     "languageId": "python"
    },
    "ExecuteTime": {
     "end_time": "2024-06-14T10:56:49.723299Z",
     "start_time": "2024-06-14T10:56:49.691947Z"
    }
   },
   "source": [
    "#Endpoint que buscara todos os registros\n",
    "def get_all():\n",
    "    response = requests.get(f\"{BASE_URL}/\")\n",
    "    if response.status_code == 200:\n",
    "        data = response.json()\n",
    "        return display(JSON(data))\n",
    "    else:\n",
    "        return f\"Error: {response.status_code}\"\n",
    "\n",
    "\n",
    "get_all()"
   ],
   "outputs": [
    {
     "data": {
      "text/plain": [
       "<IPython.core.display.JSON object>"
      ],
      "application/json": [
       {
        "id": 1,
        "material": "granito",
        "weight": "50.50",
        "work_of_art": {
         "author": "Mozart",
         "creation_date": "Sun, 01 Feb 1632 00:00:00 GMT",
         "description": "Escultura de alguem desconhecido",
         "id": 2,
         "location": "Centro Oeste",
         "name": "O algo",
         "type": "Sculpture"
        },
        "work_of_art_id": 2
       },
       {
        "id": 2,
        "material": "granito",
        "weight": "50.50",
        "work_of_art": {
         "author": "Mozart",
         "creation_date": "Sun, 01 Feb 1632 00:00:00 GMT",
         "description": "Escultura de alguem desconhecido",
         "id": 1,
         "location": "Centro Oeste",
         "name": "O algo",
         "type": "Sculpture"
        },
        "work_of_art_id": 1
       }
      ]
     },
     "metadata": {
      "application/json": {
       "expanded": false,
       "root": "root"
      }
     },
     "output_type": "display_data"
    }
   ],
   "execution_count": 46
  },
  {
   "cell_type": "markdown",
   "id": "97fe1138d059fec2",
   "metadata": {},
   "source": [
    "Requisição - GET_BY_ID"
   ]
  },
  {
   "cell_type": "code",
   "id": "a0d9e1b3741dbd25",
   "metadata": {
    "vscode": {
     "languageId": "python"
    },
    "ExecuteTime": {
     "end_time": "2024-06-14T10:56:49.738003Z",
     "start_time": "2024-06-14T10:56:49.723299Z"
    }
   },
   "source": [
    "#Endpoint que buscara o registro com base no id passado na URL\n",
    "def get_by_id(id):\n",
    "    response = requests.get(f\"{BASE_URL}/{id}\")\n",
    "    if response.status_code == 200:\n",
    "        data = response.json()\n",
    "        return display(JSON(data))\n",
    "    else:\n",
    "        return f\"Error: {response.status_code}, {response.json()}\"\n",
    "\n",
    "\n",
    "get_by_id(1)"
   ],
   "outputs": [
    {
     "data": {
      "text/plain": [
       "<IPython.core.display.JSON object>"
      ],
      "application/json": {
       "id": 1,
       "material": "granito",
       "weight": "50.50",
       "work_of_art": {
        "author": "Mozart",
        "creation_date": "Sun, 01 Feb 1632 00:00:00 GMT",
        "description": "Escultura de alguem desconhecido",
        "id": 2,
        "location": "Centro Oeste",
        "name": "O algo",
        "type": "Sculpture"
       },
       "work_of_art_id": 2
      }
     },
     "metadata": {
      "application/json": {
       "expanded": false,
       "root": "root"
      }
     },
     "output_type": "display_data"
    }
   ],
   "execution_count": 47
  },
  {
   "cell_type": "markdown",
   "id": "55fa87eb16195bb9",
   "metadata": {},
   "source": [
    "Requisição - GET_BY_NAME"
   ]
  },
  {
   "cell_type": "code",
   "id": "aedaba80130927e4",
   "metadata": {
    "vscode": {
     "languageId": "python"
    },
    "ExecuteTime": {
     "end_time": "2024-06-14T10:56:49.753663Z",
     "start_time": "2024-06-14T10:56:49.738892Z"
    }
   },
   "source": [
    "#Endpoint que buscara o registro com base no nome passado na URL\n",
    "def get_by_name(name):\n",
    "    response = requests.get(f\"{BASE_URL}/work_of_art/{name}\")\n",
    "    if response.status_code == 200:\n",
    "        data = response.json()\n",
    "        return display(JSON(data))\n",
    "    else:\n",
    "        return f\"Error: {response.status_code}, {response.json()}\"\n",
    "\n",
    "name = 'O Algo'\n",
    "get_by_name(name)"
   ],
   "outputs": [
    {
     "data": {
      "text/plain": [
       "<IPython.core.display.JSON object>"
      ],
      "application/json": [
       {
        "id": 1,
        "material": "granito",
        "weight": "50.50",
        "work_of_art": {
         "author": "Mozart",
         "creation_date": "Sun, 01 Feb 1632 00:00:00 GMT",
         "description": "Escultura de alguem desconhecido",
         "id": 2,
         "location": "Centro Oeste",
         "name": "O algo",
         "type": "Sculpture"
        },
        "work_of_art_id": 2
       },
       {
        "id": 2,
        "material": "granito",
        "weight": "50.50",
        "work_of_art": {
         "author": "Mozart",
         "creation_date": "Sun, 01 Feb 1632 00:00:00 GMT",
         "description": "Escultura de alguem desconhecido",
         "id": 1,
         "location": "Centro Oeste",
         "name": "O algo",
         "type": "Sculpture"
        },
        "work_of_art_id": 1
       }
      ]
     },
     "metadata": {
      "application/json": {
       "expanded": false,
       "root": "root"
      }
     },
     "output_type": "display_data"
    }
   ],
   "execution_count": 48
  },
  {
   "cell_type": "markdown",
   "id": "a5d0cebb5174df3e",
   "metadata": {},
   "source": [
    "Requisição - CREATE"
   ]
  },
  {
   "cell_type": "code",
   "id": "552dcb58855dfcb9",
   "metadata": {
    "vscode": {
     "languageId": "python"
    },
    "ExecuteTime": {
     "end_time": "2024-06-14T10:56:49.769509Z",
     "start_time": "2024-06-14T10:56:49.753663Z"
    }
   },
   "source": [
    "#Enedpoint que registra na base\n",
    "def create(data):\n",
    "    headers = {'Content-Type': 'application/json'}\n",
    "    response = requests.post(f\"{BASE_URL}/\", json=data, headers=headers)\n",
    "    if response.status_code == 200:\n",
    "        data = response.json()\n",
    "        return display(JSON(data))\n",
    "    else:\n",
    "        return f\"Error: {response.status_code}, {response.json()}\"\n",
    "    \n",
    "create(object)"
   ],
   "outputs": [
    {
     "data": {
      "text/plain": [
       "<IPython.core.display.JSON object>"
      ],
      "application/json": {
       "id": 3,
       "material": "granito",
       "weight": "50.50",
       "work_of_art": {
        "author": "Mozart",
        "creation_date": "Sun, 01 Feb 1632 00:00:00 GMT",
        "description": "Escultura de alguem desconhecido",
        "id": 1,
        "location": "Centro Oeste",
        "name": "O algo",
        "type": "Sculpture"
       },
       "work_of_art_id": 1
      }
     },
     "metadata": {
      "application/json": {
       "expanded": false,
       "root": "root"
      }
     },
     "output_type": "display_data"
    }
   ],
   "execution_count": 49
  },
  {
   "cell_type": "markdown",
   "id": "991c29483658b7a9",
   "metadata": {},
   "source": [
    "Requisição - UPDATE"
   ]
  },
  {
   "cell_type": "code",
   "id": "4afdf429a742a2db",
   "metadata": {
    "vscode": {
     "languageId": "python"
    },
    "ExecuteTime": {
     "end_time": "2024-06-14T10:56:49.786664Z",
     "start_time": "2024-06-14T10:56:49.769509Z"
    }
   },
   "source": [
    "#Enedpoint que atualiza um registro na base\n",
    "def update(id, data):\n",
    "    headers = {'Content-Type': 'application/json'}\n",
    "    response = requests.put(f\"{BASE_URL}/{id}\", json=data, headers=headers)\n",
    "    if response.status_code == 200:\n",
    "        data = response.json()\n",
    "        return display(JSON(data))\n",
    "    else:\n",
    "        return f\"Error: {response.status_code}, {response.json()}\"\n",
    "\n",
    "id = 1\n",
    "update(id, object)"
   ],
   "outputs": [
    {
     "data": {
      "text/plain": [
       "<IPython.core.display.JSON object>"
      ],
      "application/json": {
       "id": 1,
       "material": "granito",
       "weight": "50.50",
       "work_of_art": {
        "author": "Mozart",
        "creation_date": "Sun, 01 Feb 1632 00:00:00 GMT",
        "description": "Escultura de alguem desconhecido",
        "id": 1,
        "location": "Centro Oeste",
        "name": "O algo",
        "type": "Sculpture"
       },
       "work_of_art_id": 1
      }
     },
     "metadata": {
      "application/json": {
       "expanded": false,
       "root": "root"
      }
     },
     "output_type": "display_data"
    }
   ],
   "execution_count": 50
  },
  {
   "cell_type": "markdown",
   "id": "d7122ac379dadb8a",
   "metadata": {},
   "source": [
    "Requisição - DELETE"
   ]
  },
  {
   "cell_type": "code",
   "id": "8eb8bcfdfd90c345",
   "metadata": {
    "vscode": {
     "languageId": "python"
    },
    "ExecuteTime": {
     "end_time": "2024-06-14T10:56:49.794187Z",
     "start_time": "2024-06-14T10:56:49.786664Z"
    }
   },
   "source": [
    "#Enedpoint que deleta um registro da base\n",
    "def delete(id):\n",
    "    response = requests.delete(f\"{BASE_URL}/{id}\")\n",
    "    if response.status_code == 204:\n",
    "        return response.status_code\n",
    "    else:\n",
    "        return f\"Error: {response.status_code}, {response.json()}\"\n",
    "    \n",
    "id = 320\n",
    "delete(id)"
   ],
   "outputs": [
    {
     "data": {
      "text/plain": [
       "\"Error: 404, {'error': 'Sculpture not found'}\""
      ]
     },
     "execution_count": 51,
     "metadata": {},
     "output_type": "execute_result"
    }
   ],
   "execution_count": 51
  },
  {
   "cell_type": "markdown",
   "id": "95d31e4a24f4110e",
   "metadata": {},
   "source": [
    "Request - get_by_args_work_of_art_name"
   ]
  },
  {
   "cell_type": "code",
   "id": "3c040273",
   "metadata": {
    "vscode": {
     "languageId": "python"
    },
    "ExecuteTime": {
     "end_time": "2024-06-14T10:56:49.807012Z",
     "start_time": "2024-06-14T10:56:49.794187Z"
    }
   },
   "source": [
    "def get_by_args(object_args):\n",
    "    query_string = '&'.join(f\"{key}={value}\" for key, value in object_args.items())\n",
    "    response = requests.get(f\"{BASE_URL}?{query_string}\")\n",
    "    \n",
    "    if response.status_code == 200:\n",
    "        data = response.json()\n",
    "        display(JSON(data))\n",
    "    else:\n",
    "        return f\"Erro: {response.status_code}, {response.json()}\"\n",
    "\n",
    "\n",
    "get_by_args(object_args_work_of_art_name)"
   ],
   "outputs": [
    {
     "data": {
      "text/plain": [
       "<IPython.core.display.JSON object>"
      ],
      "application/json": [
       {
        "id": 1,
        "material": "granito",
        "weight": "50.50",
        "work_of_art": {
         "author": "Mozart",
         "creation_date": "Sun, 01 Feb 1632 00:00:00 GMT",
         "description": "Escultura de alguem desconhecido",
         "id": 1,
         "location": "Centro Oeste",
         "name": "O algo",
         "type": "Sculpture"
        },
        "work_of_art_id": 1
       },
       {
        "id": 2,
        "material": "granito",
        "weight": "50.50",
        "work_of_art": {
         "author": "Mozart",
         "creation_date": "Sun, 01 Feb 1632 00:00:00 GMT",
         "description": "Escultura de alguem desconhecido",
         "id": 1,
         "location": "Centro Oeste",
         "name": "O algo",
         "type": "Sculpture"
        },
        "work_of_art_id": 1
       },
       {
        "id": 3,
        "material": "granito",
        "weight": "50.50",
        "work_of_art": {
         "author": "Mozart",
         "creation_date": "Sun, 01 Feb 1632 00:00:00 GMT",
         "description": "Escultura de alguem desconhecido",
         "id": 1,
         "location": "Centro Oeste",
         "name": "O algo",
         "type": "Sculpture"
        },
        "work_of_art_id": 1
       }
      ]
     },
     "metadata": {
      "application/json": {
       "expanded": false,
       "root": "root"
      }
     },
     "output_type": "display_data"
    }
   ],
   "execution_count": 52
  },
  {
   "cell_type": "markdown",
   "id": "e9f26a897d258a1d",
   "metadata": {},
   "source": [
    "Request - get_by_args_material"
   ]
  },
  {
   "cell_type": "code",
   "id": "198c5e7f",
   "metadata": {
    "vscode": {
     "languageId": "python"
    },
    "ExecuteTime": {
     "end_time": "2024-06-14T10:56:49.820977Z",
     "start_time": "2024-06-14T10:56:49.808031Z"
    }
   },
   "source": [
    "def get_by_args(object_args):\n",
    "    query_string = '&'.join(f\"{key}={value}\" for key, value in object_args.items())\n",
    "    response = requests.get(f\"{BASE_URL}?{query_string}\")\n",
    "    \n",
    "    if response.status_code == 200:\n",
    "        data = response.json()\n",
    "        display(JSON(data))\n",
    "    else:\n",
    "        return f\"Erro: {response.status_code}, {response.json()}\"\n",
    "\n",
    "\n",
    "get_by_args(object_args_material)"
   ],
   "outputs": [
    {
     "data": {
      "text/plain": [
       "<IPython.core.display.JSON object>"
      ],
      "application/json": [
       {
        "id": 1,
        "material": "granito",
        "weight": "50.50",
        "work_of_art": {
         "author": "Mozart",
         "creation_date": "Sun, 01 Feb 1632 00:00:00 GMT",
         "description": "Escultura de alguem desconhecido",
         "id": 1,
         "location": "Centro Oeste",
         "name": "O algo",
         "type": "Sculpture"
        },
        "work_of_art_id": 1
       },
       {
        "id": 2,
        "material": "granito",
        "weight": "50.50",
        "work_of_art": {
         "author": "Mozart",
         "creation_date": "Sun, 01 Feb 1632 00:00:00 GMT",
         "description": "Escultura de alguem desconhecido",
         "id": 1,
         "location": "Centro Oeste",
         "name": "O algo",
         "type": "Sculpture"
        },
        "work_of_art_id": 1
       },
       {
        "id": 3,
        "material": "granito",
        "weight": "50.50",
        "work_of_art": {
         "author": "Mozart",
         "creation_date": "Sun, 01 Feb 1632 00:00:00 GMT",
         "description": "Escultura de alguem desconhecido",
         "id": 1,
         "location": "Centro Oeste",
         "name": "O algo",
         "type": "Sculpture"
        },
        "work_of_art_id": 1
       }
      ]
     },
     "metadata": {
      "application/json": {
       "expanded": false,
       "root": "root"
      }
     },
     "output_type": "display_data"
    }
   ],
   "execution_count": 53
  },
  {
   "cell_type": "markdown",
   "id": "37e5d90de9b16312",
   "metadata": {},
   "source": [
    "Request - get_by_args_weight"
   ]
  },
  {
   "cell_type": "code",
   "id": "35403b37",
   "metadata": {
    "vscode": {
     "languageId": "python"
    },
    "ExecuteTime": {
     "end_time": "2024-06-14T10:56:49.834766Z",
     "start_time": "2024-06-14T10:56:49.820977Z"
    }
   },
   "source": [
    "def get_by_args(object_args):\n",
    "    query_string = '&'.join(f\"{key}={value}\" for key, value in object_args.items())\n",
    "    response = requests.get(f\"{BASE_URL}?{query_string}\")\n",
    "    \n",
    "    if response.status_code == 200:\n",
    "        data = response.json()\n",
    "        display(JSON(data))\n",
    "    else:\n",
    "        return f\"Erro: {response.status_code}, {response.json()}\"\n",
    "\n",
    "\n",
    "get_by_args(object_args_weight)"
   ],
   "outputs": [
    {
     "data": {
      "text/plain": [
       "<IPython.core.display.JSON object>"
      ],
      "application/json": [
       {
        "id": 1,
        "material": "granito",
        "weight": "50.50",
        "work_of_art": {
         "author": "Mozart",
         "creation_date": "Sun, 01 Feb 1632 00:00:00 GMT",
         "description": "Escultura de alguem desconhecido",
         "id": 1,
         "location": "Centro Oeste",
         "name": "O algo",
         "type": "Sculpture"
        },
        "work_of_art_id": 1
       },
       {
        "id": 2,
        "material": "granito",
        "weight": "50.50",
        "work_of_art": {
         "author": "Mozart",
         "creation_date": "Sun, 01 Feb 1632 00:00:00 GMT",
         "description": "Escultura de alguem desconhecido",
         "id": 1,
         "location": "Centro Oeste",
         "name": "O algo",
         "type": "Sculpture"
        },
        "work_of_art_id": 1
       },
       {
        "id": 3,
        "material": "granito",
        "weight": "50.50",
        "work_of_art": {
         "author": "Mozart",
         "creation_date": "Sun, 01 Feb 1632 00:00:00 GMT",
         "description": "Escultura de alguem desconhecido",
         "id": 1,
         "location": "Centro Oeste",
         "name": "O algo",
         "type": "Sculpture"
        },
        "work_of_art_id": 1
       }
      ]
     },
     "metadata": {
      "application/json": {
       "expanded": false,
       "root": "root"
      }
     },
     "output_type": "display_data"
    }
   ],
   "execution_count": 54
  }
 ],
 "metadata": {
  "kernelspec": {
   "display_name": "Python 3 (ipykernel)",
   "language": "python",
   "name": "python3"
  },
  "language_info": {
   "name": ""
  }
 },
 "nbformat": 4,
 "nbformat_minor": 5
}
