{
 "cells": [
  {
   "cell_type": "code",
   "id": "initial_id",
   "metadata": {
    "collapsed": true,
    "ExecuteTime": {
     "end_time": "2024-06-14T10:52:59.884181Z",
     "start_time": "2024-06-14T10:52:59.869667Z"
    }
   },
   "source": [
    "import requests\n",
    "from IPython.display import display, JSON"
   ],
   "outputs": [],
   "execution_count": 37
  },
  {
   "metadata": {
    "ExecuteTime": {
     "end_time": "2024-06-14T10:52:59.892157Z",
     "start_time": "2024-06-14T10:52:59.885736Z"
    }
   },
   "cell_type": "code",
   "source": "BASE_URL = 'http://127.0.0.1:5000/location'",
   "id": "832094a83d084519",
   "outputs": [],
   "execution_count": 38
  },
  {
   "metadata": {
    "ExecuteTime": {
     "end_time": "2024-06-14T10:52:59.896175Z",
     "start_time": "2024-06-14T10:52:59.892157Z"
    }
   },
   "cell_type": "code",
   "source": [
    "object = {\n",
    "    'name': 'Centro Oeste'\n",
    "}\n",
    "\n",
    "information = 'Hall de Entrada'"
   ],
   "id": "639ae171c5d44d",
   "outputs": [],
   "execution_count": 39
  },
  {
   "metadata": {},
   "cell_type": "markdown",
   "source": "Request - get_all",
   "id": "327a4367539aad63"
  },
  {
   "metadata": {
    "ExecuteTime": {
     "end_time": "2024-06-14T10:53:00.310781Z",
     "start_time": "2024-06-14T10:52:59.896175Z"
    }
   },
   "cell_type": "code",
   "source": [
    "def get_all():\n",
    "    response = requests.get(f\"{BASE_URL}/\")\n",
    "    if response.status_code == 200:\n",
    "        data = response.json()\n",
    "        return display(JSON(data))\n",
    "    else:\n",
    "        return f\"Error: {response.status_code}\"\n",
    "\n",
    "get_all()"
   ],
   "id": "5b09bbc15768795",
   "outputs": [
    {
     "data": {
      "text/plain": [
       "<IPython.core.display.JSON object>"
      ],
      "application/json": [
       {
        "id": 1,
        "name": "Centro Oeste"
       },
       {
        "id": 2,
        "name": "Hall de Entrada"
       },
       {
        "id": 4,
        "name": "Centro Oeste"
       },
       {
        "id": 5,
        "name": "Centro Oeste"
       },
       {
        "id": 6,
        "name": "Centro Oeste"
       }
      ]
     },
     "metadata": {
      "application/json": {
       "expanded": false,
       "root": "root"
      }
     },
     "output_type": "display_data"
    }
   ],
   "execution_count": 40
  },
  {
   "metadata": {},
   "cell_type": "markdown",
   "source": "Request - get_by_id",
   "id": "231904062fe4c680"
  },
  {
   "metadata": {
    "ExecuteTime": {
     "end_time": "2024-06-14T10:53:00.324257Z",
     "start_time": "2024-06-14T10:53:00.310781Z"
    }
   },
   "cell_type": "code",
   "source": [
    "def get_by_id(id):\n",
    "    response = requests.get(f\"{BASE_URL}/{id}\")\n",
    "    if response.status_code == 200:\n",
    "        data = response.json()\n",
    "        return display(JSON(data))\n",
    "    else:\n",
    "        return f\"Error: {response.status_code}, {response.json()}\"\n",
    "\n",
    "get_by_id(1)"
   ],
   "id": "f974af26371fa0c9",
   "outputs": [
    {
     "data": {
      "text/plain": [
       "<IPython.core.display.JSON object>"
      ],
      "application/json": {
       "id": 1,
       "name": "Centro Oeste"
      }
     },
     "metadata": {
      "application/json": {
       "expanded": false,
       "root": "root"
      }
     },
     "output_type": "display_data"
    }
   ],
   "execution_count": 41
  },
  {
   "metadata": {},
   "cell_type": "markdown",
   "source": "Request - create",
   "id": "747e7c6b4d4891e7"
  },
  {
   "metadata": {
    "ExecuteTime": {
     "end_time": "2024-06-14T10:53:00.338998Z",
     "start_time": "2024-06-14T10:53:00.324257Z"
    }
   },
   "cell_type": "code",
   "source": [
    "def create(data):\n",
    "    headers = {'Content-Type': 'application/json'}\n",
    "    response = requests.post(f\"{BASE_URL}/\", json=data, headers=headers)\n",
    "    if response.status_code == 200:\n",
    "        data = response.json()\n",
    "        return display(JSON(data))\n",
    "    else:\n",
    "        return f\"Error: {response.status_code}, {response.json()}\"\n",
    "    \n",
    "create(object)"
   ],
   "id": "3672e7f325bc53b4",
   "outputs": [
    {
     "data": {
      "text/plain": [
       "<IPython.core.display.JSON object>"
      ],
      "application/json": {
       "id": 7,
       "name": "Centro Oeste"
      }
     },
     "metadata": {
      "application/json": {
       "expanded": false,
       "root": "root"
      }
     },
     "output_type": "display_data"
    }
   ],
   "execution_count": 42
  },
  {
   "metadata": {},
   "cell_type": "markdown",
   "source": "Request - update",
   "id": "e092ccd913993f7f"
  },
  {
   "metadata": {
    "ExecuteTime": {
     "end_time": "2024-06-14T10:53:00.350639Z",
     "start_time": "2024-06-14T10:53:00.338998Z"
    }
   },
   "cell_type": "code",
   "source": [
    "def update(id, data):\n",
    "    headers = {'Content-Type': 'application/json'}\n",
    "    response = requests.put(f\"{BASE_URL}/{id}\", json=data, headers=headers)\n",
    "    if response.status_code == 200:\n",
    "        data = response.json()\n",
    "        return display(JSON(data))\n",
    "    else:\n",
    "        return f\"Error: {response.status_code}, {response.json()}\"\n",
    "\n",
    "id=1\n",
    "update(id, object)"
   ],
   "id": "75768d40a041ca34",
   "outputs": [
    {
     "data": {
      "text/plain": [
       "<IPython.core.display.JSON object>"
      ],
      "application/json": {
       "id": 1,
       "name": "Centro Oeste"
      }
     },
     "metadata": {
      "application/json": {
       "expanded": false,
       "root": "root"
      }
     },
     "output_type": "display_data"
    }
   ],
   "execution_count": 43
  },
  {
   "metadata": {},
   "cell_type": "markdown",
   "source": "Request - delete",
   "id": "ef7b133151091fd0"
  },
  {
   "metadata": {
    "ExecuteTime": {
     "end_time": "2024-06-14T10:53:00.361864Z",
     "start_time": "2024-06-14T10:53:00.350639Z"
    }
   },
   "cell_type": "code",
   "source": [
    "def delete(id):\n",
    "    response = requests.delete(f\"{BASE_URL}/{id}\")\n",
    "    if response.status_code == 204:\n",
    "        return response.status_code\n",
    "    else:\n",
    "        return f\"Error: {response.status_code}, {response.json()}\"\n",
    "\n",
    "delete(3)"
   ],
   "id": "b3515d2235c8e86",
   "outputs": [
    {
     "data": {
      "text/plain": [
       "\"Error: 404, {'error': 'Location not found'}\""
      ]
     },
     "execution_count": 44,
     "metadata": {},
     "output_type": "execute_result"
    }
   ],
   "execution_count": 44
  },
  {
   "metadata": {},
   "cell_type": "markdown",
   "source": "Request - get_by_name",
   "id": "b32886640f74d055"
  },
  {
   "metadata": {
    "ExecuteTime": {
     "end_time": "2024-06-14T10:53:00.375464Z",
     "start_time": "2024-06-14T10:53:00.361864Z"
    }
   },
   "cell_type": "code",
   "source": [
    "def get_by_parameter(information):\n",
    "    response = requests.get(f\"{BASE_URL}/{information}\")\n",
    "    if response.status_code == 200:\n",
    "        data = response.json()\n",
    "        return display(JSON(data))\n",
    "    else:\n",
    "        return f\"Error: {response.status_code}, {response.json()}\"\n",
    "\n",
    "get_by_parameter(information)"
   ],
   "id": "a40403e20a916e6e",
   "outputs": [
    {
     "data": {
      "text/plain": [
       "<IPython.core.display.JSON object>"
      ],
      "application/json": {
       "id": 2,
       "name": "Hall de Entrada"
      }
     },
     "metadata": {
      "application/json": {
       "expanded": false,
       "root": "root"
      }
     },
     "output_type": "display_data"
    }
   ],
   "execution_count": 45
  }
 ],
 "metadata": {
  "kernelspec": {
   "display_name": "Python 3",
   "language": "python",
   "name": "python3"
  },
  "language_info": {
   "codemirror_mode": {
    "name": "ipython",
    "version": 2
   },
   "file_extension": ".py",
   "mimetype": "text/x-python",
   "name": "python",
   "nbconvert_exporter": "python",
   "pygments_lexer": "ipython2",
   "version": "2.7.6"
  }
 },
 "nbformat": 4,
 "nbformat_minor": 5
}
