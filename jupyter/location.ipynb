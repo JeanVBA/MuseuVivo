{
 "cells": [
  {
   "cell_type": "code",
   "execution_count": null,
   "id": "initial_id",
   "metadata": {
    "collapsed": true
   },
   "source": [
    "import requests\n",
    "from IPython.display import display, JSON"
   ],
   "outputs": []
  },
  {
   "metadata": {},
   "cell_type": "code",
   "execution_count": null,
   "source": "BASE_URL = 'http://127.0.0.1:5000/location'",
   "id": "832094a83d084519",
   "outputs": []
  },
  {
   "metadata": {},
   "cell_type": "code",
   "execution_count": null,
   "source": [
    "object = {\n",
    "    'name': 'Centro Oeste'\n",
    "}\n",
    "\n",
    "information = 'Hall da Fama'"
   ],
   "id": "639ae171c5d44d",
   "outputs": []
  },
  {
   "metadata": {},
   "cell_type": "markdown",
   "source": "Request - get_all",
   "id": "327a4367539aad63"
  },
  {
   "metadata": {},
   "cell_type": "code",
   "execution_count": null,
   "source": [
    "def get_all():\n",
    "    response = requests.get(f\"{BASE_URL}/\")\n",
    "    if response.status_code == 200:\n",
    "        data = response.json()\n",
    "        return display(JSON(data))\n",
    "    else:\n",
    "        return f\"Error: {response.status_code}\"\n",
    "\n",
    "get_all()"
   ],
   "id": "5b09bbc15768795",
   "outputs": []
  },
  {
   "metadata": {},
   "cell_type": "markdown",
   "source": "Request - get_by_id",
   "id": "231904062fe4c680"
  },
  {
   "metadata": {},
   "cell_type": "code",
   "execution_count": null,
   "source": [
    "def get_by_id(id):\n",
    "    response = requests.get(f\"{BASE_URL}/{id}\")\n",
    "    if response.status_code == 200:\n",
    "        data = response.json()\n",
    "        return display(JSON(data))\n",
    "    else:\n",
    "        return f\"Error: {response.status_code}, {response.json()}\"\n",
    "\n",
    "get_by_id(1)"
   ],
   "id": "f974af26371fa0c9",
   "outputs": []
  },
  {
   "metadata": {},
   "cell_type": "markdown",
   "source": "Request - create",
   "id": "747e7c6b4d4891e7"
  },
  {
   "metadata": {},
   "cell_type": "code",
   "execution_count": null,
   "source": [
    "def create(data):\n",
    "    headers = {'Content-Type': 'application/json'}\n",
    "    response = requests.post(f\"{BASE_URL}/\", json=data, headers=headers)\n",
    "    if response.status_code == 200:\n",
    "        data = response.json()\n",
    "        return display(JSON(data))\n",
    "    else:\n",
    "        return f\"Error: {response.status_code}, {response.json()}\"\n",
    "    \n",
    "create(object)"
   ],
   "id": "3672e7f325bc53b4",
   "outputs": []
  },
  {
   "metadata": {},
   "cell_type": "markdown",
   "source": "Request - update",
   "id": "e092ccd913993f7f"
  },
  {
   "metadata": {},
   "cell_type": "code",
   "execution_count": null,
   "source": [
    "def update(id, data):\n",
    "    headers = {'Content-Type': 'application/json'}\n",
    "    response = requests.put(f\"{BASE_URL}/{id}\", json=data, headers=headers)\n",
    "    if response.status_code == 200:\n",
    "        data = response.json()\n",
    "        return display(JSON(data))\n",
    "    else:\n",
    "        return f\"Error: {response.status_code}, {response.json()}\"\n",
    "\n",
    "id=1\n",
    "update(id, object)"
   ],
   "id": "75768d40a041ca34",
   "outputs": []
  },
  {
   "metadata": {},
   "cell_type": "markdown",
   "source": "Request - delete",
   "id": "ef7b133151091fd0"
  },
  {
   "metadata": {},
   "cell_type": "code",
   "execution_count": null,
   "source": [
    "def delete(id):\n",
    "    response = requests.delete(f\"{BASE_URL}/{id}\")\n",
    "    if response.status_code == 204:\n",
    "        return response.status_code\n",
    "    else:\n",
    "        return f\"Error: {response.status_code}, {response.json()}\"\n",
    "\n",
    "delete(122)"
   ],
   "id": "b3515d2235c8e86",
   "outputs": []
  },
  {
   "metadata": {},
   "cell_type": "markdown",
   "source": "Request - get_by_name",
   "id": "b32886640f74d055"
  },
  {
   "metadata": {},
   "cell_type": "code",
   "execution_count": null,
   "source": [
    "def get_by_parameter(information):\n",
    "    response = requests.get(f\"{BASE_URL}/{information}\")\n",
    "    if response.status_code == 200:\n",
    "        data = response.json()\n",
    "        return display(JSON(data))\n",
    "    else:\n",
    "        return f\"Error: {response.status_code}, {response.json()}\"\n",
    "\n",
    "get_by_parameter(information)"
   ],
   "id": "a40403e20a916e6e",
   "outputs": []
  }
 ],
 "metadata": {
  "kernelspec": {
   "display_name": "Python 3",
   "language": "python",
   "name": "python3"
  },
  "language_info": {
   "codemirror_mode": {
    "name": "ipython",
    "version": 2
   },
   "file_extension": ".py",
   "mimetype": "text/x-python",
   "name": "python",
   "nbconvert_exporter": "python",
   "pygments_lexer": "ipython2",
   "version": "2.7.6"
  }
 },
 "nbformat": 4,
 "nbformat_minor": 5
}
