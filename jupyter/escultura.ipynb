{
 "cells": [
  {
   "metadata": {},
   "cell_type": "markdown",
   "source": "Importações e configurações bases",
   "id": "13a4aa73227264d6"
  },
  {
   "metadata": {
    "ExecuteTime": {
     "end_time": "2024-06-04T23:29:00.368280Z",
     "start_time": "2024-06-04T23:29:00.365685Z"
    }
   },
   "cell_type": "code",
   "source": [
    "import requests\n",
    "from IPython.display import display, JSON"
   ],
   "id": "bfa88d3a0afbfa81",
   "outputs": [],
   "execution_count": 11
  },
  {
   "metadata": {
    "ExecuteTime": {
     "end_time": "2024-06-04T23:29:00.396229Z",
     "start_time": "2024-06-04T23:29:00.393297Z"
    }
   },
   "cell_type": "code",
   "source": "BASE_URL = 'http://127.0.0.1:5000/escultura'",
   "id": "e462f35484182ef0",
   "outputs": [],
   "execution_count": 12
  },
  {
   "metadata": {},
   "cell_type": "markdown",
   "source": "Requisição - GET_ALL",
   "id": "3893f899c7d97e7f"
  },
  {
   "metadata": {
    "ExecuteTime": {
     "end_time": "2024-06-04T23:29:00.429085Z",
     "start_time": "2024-06-04T23:29:00.397238Z"
    }
   },
   "cell_type": "code",
   "source": [
    "#Endpoint que buscara todos os registros\n",
    "def get_all():\n",
    "    response = requests.get(f\"{BASE_URL}/\")\n",
    "    if response.status_code == 200:\n",
    "        data = response.json()\n",
    "        return display(JSON(data))\n",
    "    else:\n",
    "        return f\"Error: {response.status_code}\"\n",
    "\n",
    "\n",
    "get_all()"
   ],
   "id": "6cdb8ab79d55b242",
   "outputs": [
    {
     "data": {
      "text/plain": [
       "<IPython.core.display.JSON object>"
      ],
      "application/json": [
       {
        "id": 2,
        "material": "marmore",
        "obra": {
         "autor": "Leonardo da Vinci",
         "data_criacao": "Sun, 01 Feb 1632 00:00:00 GMT",
         "descricao": "Escultura de um homem pensando",
         "id": 2,
         "localizacao": null,
         "nome": "O pensador",
         "tipo": "Escultura"
        },
        "obra_id": 2,
        "peso": "50.50"
       },
       {
        "id": 3,
        "material": "marmore",
        "obra": {
         "autor": "Leonardo da Vinci",
         "data_criacao": "Sun, 01 Feb 1632 00:00:00 GMT",
         "descricao": "Escultura de um homem pensando",
         "id": 2,
         "localizacao": null,
         "nome": "O pensador",
         "tipo": "Escultura"
        },
        "obra_id": 2,
        "peso": "50.50"
       },
       {
        "id": 4,
        "material": "marmore",
        "obra": {
         "autor": "Leonardo da Vinci",
         "data_criacao": "Tue, 25 Jun 1489 00:00:00 GMT",
         "descricao": "Pintura de uma jovem mulher",
         "id": 1,
         "localizacao": null,
         "nome": "Monalisa",
         "tipo": "Pintura"
        },
        "obra_id": 1,
        "peso": "10.20"
       },
       {
        "id": 5,
        "material": "granito",
        "obra": {
         "autor": "Leonardo da Vinci",
         "data_criacao": "Sun, 01 Feb 1632 00:00:00 GMT",
         "descricao": "Escultura de um homem pensando",
         "id": 2,
         "localizacao": null,
         "nome": "O pensador",
         "tipo": "Escultura"
        },
        "obra_id": 2,
        "peso": "50.50"
       },
       {
        "id": 6,
        "material": "granito",
        "obra": {
         "autor": "Leonardo da Vinci",
         "data_criacao": "Sun, 01 Feb 1632 00:00:00 GMT",
         "descricao": "Escultura de um homem pensando",
         "id": 2,
         "localizacao": null,
         "nome": "O pensador",
         "tipo": "Escultura"
        },
        "obra_id": 2,
        "peso": "50.50"
       },
       {
        "id": 7,
        "material": "Mármore",
        "obra": {
         "autor": "Leonardo da Vinci",
         "data_criacao": "Sun, 01 Feb 1632 00:00:00 GMT",
         "descricao": "Escultura de um homem pensando",
         "id": 2,
         "localizacao": null,
         "nome": "O pensador",
         "tipo": "Escultura"
        },
        "obra_id": 2,
        "peso": "0.00"
       },
       {
        "id": 8,
        "material": "Mármore",
        "obra": {
         "autor": "Leonardo da Vinci",
         "data_criacao": "Sun, 01 Feb 1632 00:00:00 GMT",
         "descricao": "Escultura de alguem desconhecido",
         "id": 5,
         "localizacao": null,
         "nome": "O algo",
         "tipo": "Escultura"
        },
        "obra_id": 5,
        "peso": "0.00"
       },
       {
        "id": 9,
        "material": "Mármore",
        "obra": {
         "autor": "Leonardo da Vinci",
         "data_criacao": "Sun, 01 Feb 1632 00:00:00 GMT",
         "descricao": "Escultura de alguem desconhecido",
         "id": 6,
         "localizacao": null,
         "nome": "O algo",
         "tipo": "Escultura"
        },
        "obra_id": 6,
        "peso": "0.00"
       },
       {
        "id": 10,
        "material": "Mármore",
        "obra": {
         "autor": "Donatelo",
         "data_criacao": "Thu, 08 Sep 1504 00:00:00 GMT",
         "descricao": "Escultura renascentista de Michelangelo",
         "id": 13,
         "localizacao": "Ala-Oeste",
         "nome": "David",
         "tipo": "Escultura"
        },
        "obra_id": 13,
        "peso": "0.00"
       },
       {
        "id": 11,
        "material": "Mármore",
        "obra": {
         "autor": "Leonardo da Vinci",
         "data_criacao": "Sat, 01 Jan 1881 00:00:00 GMT",
         "descricao": "Escultura de Edgar Degas",
         "id": 19,
         "localizacao": "Galeria 6",
         "nome": "A Pequena Bailarina de Quatorze Anos",
         "tipo": "Escultura"
        },
        "obra_id": 19,
        "peso": "0.00"
       }
      ]
     },
     "metadata": {
      "application/json": {
       "expanded": false,
       "root": "root"
      }
     },
     "output_type": "display_data"
    }
   ],
   "execution_count": 13
  },
  {
   "metadata": {},
   "cell_type": "markdown",
   "source": "Requisição - GET_BY_ID",
   "id": "97fe1138d059fec2"
  },
  {
   "metadata": {
    "ExecuteTime": {
     "end_time": "2024-06-04T23:29:00.441052Z",
     "start_time": "2024-06-04T23:29:00.430323Z"
    }
   },
   "cell_type": "code",
   "source": [
    "#Endpoint que buscara o registro com base no id passado na URL\n",
    "def get_by_id(id):\n",
    "    response = requests.get(f\"{BASE_URL}/{id}\")\n",
    "    if response.status_code == 200:\n",
    "        data = response.json()\n",
    "        return display(JSON(data))\n",
    "    else:\n",
    "        return f\"Error: {response.status_code}, {response.json()}\"\n",
    "\n",
    "\n",
    "get_by_id(5)"
   ],
   "id": "a0d9e1b3741dbd25",
   "outputs": [
    {
     "data": {
      "text/plain": [
       "<IPython.core.display.JSON object>"
      ],
      "application/json": {
       "id": 5,
       "material": "granito",
       "obra": {
        "autor": "Leonardo da Vinci",
        "data_criacao": "Sun, 01 Feb 1632 00:00:00 GMT",
        "descricao": "Escultura de um homem pensando",
        "id": 2,
        "localizacao": null,
        "nome": "O pensador",
        "tipo": "Escultura"
       },
       "obra_id": 2,
       "peso": "50.50"
      }
     },
     "metadata": {
      "application/json": {
       "expanded": false,
       "root": "root"
      }
     },
     "output_type": "display_data"
    }
   ],
   "execution_count": 14
  },
  {
   "metadata": {},
   "cell_type": "markdown",
   "source": "Requisição - GET_BY_NAME",
   "id": "55fa87eb16195bb9"
  },
  {
   "metadata": {
    "ExecuteTime": {
     "end_time": "2024-06-04T23:29:00.458734Z",
     "start_time": "2024-06-04T23:29:00.442060Z"
    }
   },
   "cell_type": "code",
   "source": [
    "#Endpoint que buscara o registro com base no nome passado na URL\n",
    "def get_by_name(name):\n",
    "    response = requests.get(f\"{BASE_URL}/obra/{name}\")\n",
    "    if response.status_code == 200:\n",
    "        data = response.json()\n",
    "        return display(JSON(data))\n",
    "    else:\n",
    "        return f\"Error: {response.status_code}, {response.json()}\"\n",
    "\n",
    "name = 'O pensador'\n",
    "get_by_name(name)"
   ],
   "id": "aedaba80130927e4",
   "outputs": [
    {
     "data": {
      "text/plain": [
       "<IPython.core.display.JSON object>"
      ],
      "application/json": [
       {
        "id": 2,
        "material": "marmore",
        "obra": {
         "autor": "Leonardo da Vinci",
         "data_criacao": "Sun, 01 Feb 1632 00:00:00 GMT",
         "descricao": "Escultura de um homem pensando",
         "id": 2,
         "localizacao": null,
         "nome": "O pensador",
         "tipo": "Escultura"
        },
        "obra_id": 2,
        "peso": "50.50"
       },
       {
        "id": 3,
        "material": "marmore",
        "obra": {
         "autor": "Leonardo da Vinci",
         "data_criacao": "Sun, 01 Feb 1632 00:00:00 GMT",
         "descricao": "Escultura de um homem pensando",
         "id": 2,
         "localizacao": null,
         "nome": "O pensador",
         "tipo": "Escultura"
        },
        "obra_id": 2,
        "peso": "50.50"
       },
       {
        "id": 5,
        "material": "granito",
        "obra": {
         "autor": "Leonardo da Vinci",
         "data_criacao": "Sun, 01 Feb 1632 00:00:00 GMT",
         "descricao": "Escultura de um homem pensando",
         "id": 2,
         "localizacao": null,
         "nome": "O pensador",
         "tipo": "Escultura"
        },
        "obra_id": 2,
        "peso": "50.50"
       },
       {
        "id": 6,
        "material": "granito",
        "obra": {
         "autor": "Leonardo da Vinci",
         "data_criacao": "Sun, 01 Feb 1632 00:00:00 GMT",
         "descricao": "Escultura de um homem pensando",
         "id": 2,
         "localizacao": null,
         "nome": "O pensador",
         "tipo": "Escultura"
        },
        "obra_id": 2,
        "peso": "50.50"
       },
       {
        "id": 7,
        "material": "Mármore",
        "obra": {
         "autor": "Leonardo da Vinci",
         "data_criacao": "Sun, 01 Feb 1632 00:00:00 GMT",
         "descricao": "Escultura de um homem pensando",
         "id": 2,
         "localizacao": null,
         "nome": "O pensador",
         "tipo": "Escultura"
        },
        "obra_id": 2,
        "peso": "0.00"
       }
      ]
     },
     "metadata": {
      "application/json": {
       "expanded": false,
       "root": "root"
      }
     },
     "output_type": "display_data"
    }
   ],
   "execution_count": 15
  },
  {
   "metadata": {},
   "cell_type": "markdown",
   "source": "Requisição - CREATE",
   "id": "a5d0cebb5174df3e"
  },
  {
   "metadata": {
    "ExecuteTime": {
     "end_time": "2024-06-04T23:29:00.484709Z",
     "start_time": "2024-06-04T23:29:00.460253Z"
    }
   },
   "cell_type": "code",
   "source": [
    "#Enedpoint que registra na base\n",
    "def create(data):\n",
    "    headers = {'Content-Type': 'application/json'}\n",
    "    response = requests.post(f\"{BASE_URL}/\", json=data, headers=headers)\n",
    "    if response.status_code == 200:\n",
    "        data = response.json()\n",
    "        return display(JSON(data))\n",
    "    else:\n",
    "        return f\"Error: {response.status_code}, {response.json()}\"\n",
    "    \n",
    "object = {\n",
    "    \"obra_id\": 2,\n",
    "    \"material\": \"granito\",\n",
    "    \"peso\": 50.5\n",
    "}\n",
    "create(object)"
   ],
   "id": "552dcb58855dfcb9",
   "outputs": [
    {
     "data": {
      "text/plain": [
       "<IPython.core.display.JSON object>"
      ],
      "application/json": {
       "id": 12,
       "material": "granito",
       "obra": {
        "autor": "Leonardo da Vinci",
        "data_criacao": "Sun, 01 Feb 1632 00:00:00 GMT",
        "descricao": "Escultura de um homem pensando",
        "id": 2,
        "localizacao": null,
        "nome": "O pensador",
        "tipo": "Escultura"
       },
       "obra_id": 2,
       "peso": "50.50"
      }
     },
     "metadata": {
      "application/json": {
       "expanded": false,
       "root": "root"
      }
     },
     "output_type": "display_data"
    }
   ],
   "execution_count": 16
  },
  {
   "metadata": {},
   "cell_type": "markdown",
   "source": "Requisição - UPDATE",
   "id": "991c29483658b7a9"
  },
  {
   "metadata": {
    "ExecuteTime": {
     "end_time": "2024-06-04T23:29:00.500891Z",
     "start_time": "2024-06-04T23:29:00.485717Z"
    }
   },
   "cell_type": "code",
   "source": [
    "#Enedpoint que atualiza um registro na base\n",
    "def update(id, data):\n",
    "    headers = {'Content-Type': 'application/json'}\n",
    "    response = requests.put(f\"{BASE_URL}/{id}\", json=data, headers=headers)\n",
    "    if response.status_code == 200:\n",
    "        data = response.json()\n",
    "        return display(JSON(data))\n",
    "    else:\n",
    "        return f\"Error: {response.status_code}, {response.json()}\"\n",
    "\n",
    "id = 6\n",
    "object = {\n",
    "    \"obra_id\": 2,\n",
    "    \"material\": \"granito\",\n",
    "    \"peso\": 50.5\n",
    "}\n",
    "update(id, object)"
   ],
   "id": "4afdf429a742a2db",
   "outputs": [
    {
     "data": {
      "text/plain": [
       "<IPython.core.display.JSON object>"
      ],
      "application/json": {
       "id": 6,
       "material": "granito",
       "obra": {
        "autor": "Leonardo da Vinci",
        "data_criacao": "Sun, 01 Feb 1632 00:00:00 GMT",
        "descricao": "Escultura de um homem pensando",
        "id": 2,
        "localizacao": null,
        "nome": "O pensador",
        "tipo": "Escultura"
       },
       "obra_id": 2,
       "peso": "50.50"
      }
     },
     "metadata": {
      "application/json": {
       "expanded": false,
       "root": "root"
      }
     },
     "output_type": "display_data"
    }
   ],
   "execution_count": 17
  },
  {
   "metadata": {},
   "cell_type": "markdown",
   "source": "Requisição - DELETE",
   "id": "d7122ac379dadb8a"
  },
  {
   "metadata": {
    "ExecuteTime": {
     "end_time": "2024-06-04T23:29:00.508465Z",
     "start_time": "2024-06-04T23:29:00.501903Z"
    }
   },
   "cell_type": "code",
   "source": [
    "#Enedpoint que deleta um registro da base\n",
    "def delete(id):\n",
    "    response = requests.delete(f\"{BASE_URL}/{id}\")\n",
    "    if response.status_code == 204:\n",
    "        return response.status_code\n",
    "    else:\n",
    "        return f\"Error: {response.status_code}, {response.json()}\"\n",
    "    \n",
    "id = 320\n",
    "delete(id)"
   ],
   "id": "8eb8bcfdfd90c345",
   "outputs": [
    {
     "data": {
      "text/plain": [
       "\"Error: 404, {'error': 'Escultura não encontrada'}\""
      ]
     },
     "execution_count": 18,
     "metadata": {},
     "output_type": "execute_result"
    }
   ],
   "execution_count": 18
  }
 ],
 "metadata": {
  "kernelspec": {
   "display_name": "Python 3 (ipykernel)",
   "name": "python3",
   "language": "python"
  },
  "language_info": {
   "name": ""
  }
 },
 "nbformat": 4,
 "nbformat_minor": 5
}
