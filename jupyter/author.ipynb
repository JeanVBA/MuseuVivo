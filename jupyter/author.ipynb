{
 "cells": [
  {
   "cell_type": "markdown",
   "id": "13a4aa73227264d6",
   "metadata": {},
   "source": [
    "Importações e configurações bases"
   ]
  },
  {
   "cell_type": "code",
   "id": "bfa88d3a0afbfa81",
   "metadata": {
    "ExecuteTime": {
     "end_time": "2024-06-13T11:27:53.746825Z",
     "start_time": "2024-06-13T11:27:53.741481Z"
    }
   },
   "source": [
    "import requests\n",
    "from IPython.display import display, JSON"
   ],
   "execution_count": 45,
   "outputs": []
  },
  {
   "cell_type": "code",
   "id": "e462f35484182ef0",
   "metadata": {
    "ExecuteTime": {
     "end_time": "2024-06-13T11:27:53.771669Z",
     "start_time": "2024-06-13T11:27:53.757333Z"
    }
   },
   "source": [
    "BASE_URL = 'http://127.0.0.1:5000/author'"
   ],
   "execution_count": 46,
   "outputs": []
  },
  {
   "cell_type": "code",
   "id": "33a90ae59e216f7e",
   "metadata": {
    "ExecuteTime": {
     "end_time": "2024-06-13T11:27:53.776442Z",
     "start_time": "2024-06-13T11:27:53.773175Z"
    }
   },
   "source": [
    "object = {\n",
    "    'name': 'Carlos Druino'\n",
    "}\n",
    "\n",
    "object_args_name = {'name': 'Mozart'}\n",
    "object_args_id = {'id': 1}\n",
    "object_args_all = {'name': 'Mozart', 'id': 1}"
   ],
   "execution_count": 47,
   "outputs": []
  },
  {
   "cell_type": "markdown",
   "id": "3893f899c7d97e7f",
   "metadata": {},
   "source": [
    "Requisição - GET_ALL"
   ]
  },
  {
   "cell_type": "code",
   "id": "6cdb8ab79d55b242",
   "metadata": {
    "ExecuteTime": {
     "end_time": "2024-06-13T11:27:54.052037Z",
     "start_time": "2024-06-13T11:27:53.776442Z"
    }
   },
   "source": [
    "def get_all():\n",
    "    response = requests.get(f\"{BASE_URL}/\")\n",
    "    if response.status_code == 200:\n",
    "        data = response.json()\n",
    "        return display(JSON(data))\n",
    "    else:\n",
    "        return f\"Error: {response.status_code}\"\n",
    "\n",
    "\n",
    "get_all()"
   ],
   "execution_count": 48,
   "outputs": []
  },
  {
   "cell_type": "markdown",
   "id": "97fe1138d059fec2",
   "metadata": {},
   "source": [
    "Requisição - GET_BY_ID"
   ]
  },
  {
   "cell_type": "code",
   "id": "a0d9e1b3741dbd25",
   "metadata": {
    "ExecuteTime": {
     "end_time": "2024-06-13T11:27:54.063997Z",
     "start_time": "2024-06-13T11:27:54.052390Z"
    }
   },
   "source": [
    "def get_by_id(id):\n",
    "    response = requests.get(f\"{BASE_URL}/{id}\")\n",
    "    if response.status_code == 200:\n",
    "        data = response.json()\n",
    "        return display(JSON(data))\n",
    "    else:\n",
    "        return f\"Error: {response.status_code}, {response.json()}\"\n",
    "\n",
    "\n",
    "get_by_id(1)"
   ],
   "execution_count": 49,
   "outputs": []
  },
  {
   "cell_type": "markdown",
   "id": "55fa87eb16195bb9",
   "metadata": {},
   "source": [
    "Requisição - GET_BY_NAME"
   ]
  },
  {
   "cell_type": "code",
   "id": "aedaba80130927e4",
   "metadata": {
    "ExecuteTime": {
     "end_time": "2024-06-13T11:27:54.075492Z",
     "start_time": "2024-06-13T11:27:54.063997Z"
    }
   },
   "source": [
    "def get_by_name(name):\n",
    "    response = requests.get(f\"{BASE_URL}/{name}\")\n",
    "    if response.status_code == 200:\n",
    "        data = response.json()\n",
    "        return display(JSON(data))\n",
    "    else:\n",
    "        return f\"Error: {response.status_code}, {response.json()}\"\n",
    "\n",
    "name = 'Carlos Druino'\n",
    "get_by_name(name)"
   ],
   "execution_count": 50,
   "outputs": []
  },
  {
   "cell_type": "markdown",
   "id": "974613c0fbd21dad",
   "metadata": {},
   "source": [
    "Request - get_args"
   ]
  },
  {
   "cell_type": "code",
   "id": "9088562ad5b4f84e",
   "metadata": {
    "ExecuteTime": {
     "end_time": "2024-06-13T11:27:54.089053Z",
     "start_time": "2024-06-13T11:27:54.075785Z"
    }
   },
   "source": [
    "def get_by_args(object_args):\n",
    "    query_string = '&'.join(f\"{key}={value}\" for key, value in object_args.items())\n",
    "    response = requests.get(f\"{BASE_URL}?{query_string}\")\n",
    "    \n",
    "    if response.status_code == 200:\n",
    "        data = response.json()\n",
    "        display(JSON(data))\n",
    "    else:\n",
    "        return f\"Erro: {response.status_code}, {response.json()}\"\n",
    "\n",
    "get_by_args(object_args_name)"
   ],
   "execution_count": 51,
   "outputs": []
  },
  {
   "cell_type": "markdown",
   "id": "1513e21ce490df37",
   "metadata": {},
   "source": [
    "Requisição  -  Args_id"
   ]
  },
  {
   "cell_type": "code",
   "id": "7c6a8a8568994e58",
   "metadata": {
    "ExecuteTime": {
     "end_time": "2024-06-13T11:27:54.098996Z",
     "start_time": "2024-06-13T11:27:54.089053Z"
    }
   },
   "source": [
    "def get_by_args(object_args):\n",
    "    query_string = '&'.join(f\"{key}={value}\" for key, value in object_args.items())\n",
    "    response = requests.get(f\"{BASE_URL}?{query_string}\")\n",
    "    \n",
    "    if response.status_code == 200:\n",
    "        data = response.json()\n",
    "        display(JSON(data))\n",
    "    else:\n",
    "        return f\"Erro: {response.status_code}, {response.json()}\"\n",
    "\n",
    "get_by_args(object_args_id)"
   ],
   "execution_count": 52,
   "outputs": []
  },
  {
   "cell_type": "markdown",
   "id": "a5d0cebb5174df3e",
   "metadata": {},
   "source": [
    "Requisição - CREATE"
   ]
  },
  {
   "cell_type": "code",
   "id": "552dcb58855dfcb9",
   "metadata": {
    "ExecuteTime": {
     "end_time": "2024-06-13T11:27:54.103010Z",
     "start_time": "2024-06-13T11:27:54.098996Z"
    }
   },
   "source": [
    "def create(data):\n",
    "    headers = {'Content-Type': 'application/json'}\n",
    "    response = requests.post(f\"{BASE_URL}/\", json=data, headers=headers)\n",
    "    if response.status_code == 200:\n",
    "        data = response.json()\n",
    "        return display(JSON(data))\n",
    "    else:\n",
    "        return f\"Error: {response.status_code}, {response.json()}\"\n",
    "    \n",
    "#create(object)"
   ],
   "execution_count": 53,
   "outputs": []
  },
  {
   "cell_type": "markdown",
   "id": "991c29483658b7a9",
   "metadata": {},
   "source": [
    "Requisição - UPDATE"
   ]
  },
  {
   "cell_type": "code",
   "id": "4afdf429a742a2db",
   "metadata": {
    "ExecuteTime": {
     "end_time": "2024-06-13T11:27:54.108422Z",
     "start_time": "2024-06-13T11:27:54.103010Z"
    }
   },
   "source": [
    "def update(id, data):\n",
    "    headers = {'Content-Type': 'application/json'}\n",
    "    response = requests.put(f\"{BASE_URL}/{id}\", json=data, headers=headers)\n",
    "    if response.status_code == 200:\n",
    "        data = response.json()\n",
    "        return display(JSON(data))\n",
    "    else:\n",
    "        return f\"Error: {response.status_code}, {response.json()}\"\n",
    "\n",
    "#update(6, object)"
   ],
   "execution_count": 54,
   "outputs": []
  },
  {
   "cell_type": "markdown",
   "id": "d7122ac379dadb8a",
   "metadata": {},
   "source": [
    "Requisição - DELETE"
   ]
  },
  {
   "cell_type": "code",
   "id": "8eb8bcfdfd90c345",
   "metadata": {
    "ExecuteTime": {
     "end_time": "2024-06-13T11:27:54.113080Z",
     "start_time": "2024-06-13T11:27:54.108422Z"
    }
   },
   "source": [
    "def delete(id):\n",
    "    response = requests.delete(f\"{BASE_URL}/{id}\")\n",
    "    if response.status_code == 204:\n",
    "        return response.status_code\n",
    "    else:\n",
    "        return f\"Error: {response.status_code}, {response.json()}\"\n",
    "    \n",
    "#delete(6)"
   ],
   "execution_count": 55,
   "outputs": []
  }
 ],
 "metadata": {
  "kernelspec": {
   "display_name": "Python 3 (ipykernel)",
   "language": "python",
   "name": "python3"
  },
  "language_info": {
   "codemirror_mode": {
    "name": "ipython",
    "version": 3
   },
   "file_extension": ".py",
   "mimetype": "text/x-python",
   "name": "python",
   "nbconvert_exporter": "python",
   "pygments_lexer": "ipython3",
   "version": "3.12.3"
  }
 },
 "nbformat": 4,
 "nbformat_minor": 5
}
