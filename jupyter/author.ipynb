{
 "cells": [
  {
   "metadata": {},
   "cell_type": "markdown",
   "source": "Importações e configurações bases",
   "id": "13a4aa73227264d6"
  },
  {
   "metadata": {
    "ExecuteTime": {
     "end_time": "2024-06-06T15:53:43.778742Z",
     "start_time": "2024-06-06T15:53:43.491315Z"
    }
   },
   "cell_type": "code",
   "source": [
    "import requests\n",
    "from IPython.display import display, JSON"
   ],
   "id": "bfa88d3a0afbfa81",
   "execution_count": 1,
   "outputs": []
  },
  {
   "metadata": {
    "ExecuteTime": {
     "end_time": "2024-06-06T15:53:43.783255Z",
     "start_time": "2024-06-06T15:53:43.779749Z"
    }
   },
   "cell_type": "code",
   "source": "BASE_URL = 'http://127.0.0.1:5000/autor'",
   "id": "e462f35484182ef0",
   "execution_count": 2,
   "outputs": []
  },
  {
   "metadata": {},
   "cell_type": "markdown",
   "source": "Requisição - GET_ALL",
   "id": "3893f899c7d97e7f"
  },
  {
   "metadata": {
    "ExecuteTime": {
     "end_time": "2024-06-06T15:53:45.973619Z",
     "start_time": "2024-06-06T15:53:43.784262Z"
    }
   },
   "cell_type": "code",
   "source": [
    "#Endpoint que buscara todos os autores\n",
    "def get_all():\n",
    "    response = requests.get(f\"{BASE_URL}/\")\n",
    "    if response.status_code == 200:\n",
    "        data = response.json()\n",
    "        return display(JSON(data))\n",
    "    else:\n",
    "        return f\"Error: {response.status_code}\"\n",
    "\n",
    "\n",
    "get_all()"
   ],
   "id": "6cdb8ab79d55b242",
   "execution_count": 3,
   "outputs": []
  },
  {
   "metadata": {},
   "cell_type": "markdown",
   "source": "Requisição - GET_BY_ID",
   "id": "97fe1138d059fec2"
  },
  {
   "metadata": {
    "ExecuteTime": {
     "end_time": "2024-06-06T15:53:45.990285Z",
     "start_time": "2024-06-06T15:53:45.974628Z"
    }
   },
   "cell_type": "code",
   "source": [
    "#Endpoint que buscara o autor com base no id passado na URL\n",
    "def get_by_id(id):\n",
    "    response = requests.get(f\"{BASE_URL}/{id}\")\n",
    "    if response.status_code == 200:\n",
    "        data = response.json()\n",
    "        return display(JSON(data))\n",
    "    else:\n",
    "        return f\"Error: {response.status_code}, {response.json()}\"\n",
    "\n",
    "\n",
    "get_by_id('1')"
   ],
   "id": "a0d9e1b3741dbd25",
   "execution_count": 4,
   "outputs": []
  },
  {
   "metadata": {},
   "cell_type": "markdown",
   "source": "Requisição - GET_BY_NAME",
   "id": "55fa87eb16195bb9"
  },
  {
   "metadata": {
    "ExecuteTime": {
     "end_time": "2024-06-06T15:53:46.001986Z",
     "start_time": "2024-06-06T15:53:45.991291Z"
    }
   },
   "cell_type": "code",
   "source": [
    "#Endpoint que buscara o autor com base no nome passado na URL\n",
    "def get_by_name(name):\n",
    "    response = requests.get(f\"{BASE_URL}/{name}\")\n",
    "    if response.status_code == 200:\n",
    "        data = response.json()\n",
    "        return display(JSON(data))\n",
    "    else:\n",
    "        return f\"Error: {response.status_code}, {response.json()}\"\n",
    "\n",
    "name = 'Donatelo'\n",
    "get_by_name(name)"
   ],
   "id": "aedaba80130927e4",
   "execution_count": 5,
   "outputs": []
  },
  {
   "metadata": {},
   "cell_type": "markdown",
   "source": "Requisição  -  Args_Nome",
   "id": "974613c0fbd21dad"
  },
  {
   "metadata": {
    "ExecuteTime": {
     "end_time": "2024-06-06T15:53:46.011758Z",
     "start_time": "2024-06-06T15:53:46.003499Z"
    }
   },
   "cell_type": "code",
   "source": [
    "#Endpoint que buscara o autor com base no nome passado na URL\n",
    "def get_by_args_name(name):\n",
    "    response = requests.get(f\"{BASE_URL}?nome={name}\")\n",
    "    if response.status_code == 200:\n",
    "        data = response.json()\n",
    "        return display(JSON(data))\n",
    "    else:\n",
    "        return f\"Error: {response.status_code}, {response.json()}\"\n",
    "\n",
    "name = 'Donatelo'\n",
    "get_by_name(name)"
   ],
   "id": "9088562ad5b4f84e",
   "execution_count": 6,
   "outputs": []
  },
  {
   "metadata": {},
   "cell_type": "markdown",
   "source": "Requisição  -  Args_id",
   "id": "1513e21ce490df37"
  },
  {
   "metadata": {
    "ExecuteTime": {
     "end_time": "2024-06-06T15:53:46.021105Z",
     "start_time": "2024-06-06T15:53:46.011758Z"
    }
   },
   "cell_type": "code",
   "source": [
    "#Endpoint que buscara o autor com base no nome passado na URL\n",
    "def get_by_args_id(autor_id):\n",
    "    response = requests.get(f\"{BASE_URL}?id={autor_id}\")\n",
    "    if response.status_code == 200:\n",
    "        data = response.json()\n",
    "        return display(JSON(data))\n",
    "    else:\n",
    "        return f\"Error: {response.status_code}, {response.json()}\"\n",
    "\n",
    "autor_id = 12\n",
    "get_by_name(autor_id)"
   ],
   "id": "7c6a8a8568994e58",
   "execution_count": 7,
   "outputs": []
  },
  {
   "metadata": {},
   "cell_type": "markdown",
   "source": "Requisição - CREATE",
   "id": "a5d0cebb5174df3e"
  },
  {
   "metadata": {
    "ExecuteTime": {
     "end_time": "2024-06-06T15:53:46.025737Z",
     "start_time": "2024-06-06T15:53:46.022115Z"
    }
   },
   "cell_type": "code",
   "source": [
    "#Enedpoint que registra um novo autor na base\n",
    "def create(data):\n",
    "    headers = {'Content-Type': 'application/json'}\n",
    "    response = requests.post(f\"{BASE_URL}/\", json=data, headers=headers)\n",
    "    if response.status_code == 200:\n",
    "        data = response.json()\n",
    "        return display(JSON(data))\n",
    "    else:\n",
    "        return f\"Error: {response.status_code}, {response.json()}\"\n",
    "    \n",
    "autor = {\n",
    "    'nome': 'Carlos Druino'\n",
    "}\n",
    "#create(autor)"
   ],
   "id": "552dcb58855dfcb9",
   "execution_count": 8,
   "outputs": []
  },
  {
   "metadata": {},
   "cell_type": "markdown",
   "source": "Requisição - UPDATE",
   "id": "991c29483658b7a9"
  },
  {
   "metadata": {
    "ExecuteTime": {
     "end_time": "2024-06-06T15:53:46.296587Z",
     "start_time": "2024-06-06T15:53:46.025737Z"
    }
   },
   "cell_type": "code",
   "source": [
    "#Enedpoint que atualiza um autor da base\n",
    "def update(id, data):\n",
    "    headers = {'Content-Type': 'application/json'}\n",
    "    response = requests.put(f\"{BASE_URL}/{id}\", json=data, headers=headers)\n",
    "    if response.status_code == 200:\n",
    "        data = response.json()\n",
    "        return display(JSON(data))\n",
    "    else:\n",
    "        return f\"Error: {response.status_code}, {response.json()}\"\n",
    "\n",
    "autor_id = 320\n",
    "autor = {\n",
    "    'nome': 'Carlos Druino'\n",
    "}\n",
    "update(autor_id, autor)"
   ],
   "id": "4afdf429a742a2db",
   "execution_count": 9,
   "outputs": []
  },
  {
   "metadata": {},
   "cell_type": "markdown",
   "source": "Requisição - DELETE",
   "id": "d7122ac379dadb8a"
  },
  {
   "metadata": {},
   "cell_type": "code",
   "source": [
    "#Enedpoint que deleta um autor da base\n",
    "def delete(id):\n",
    "    response = requests.delete(f\"{BASE_URL}/{id}\")\n",
    "    if response.status_code == 204:\n",
    "        return response.status_code\n",
    "    else:\n",
    "        return f\"Error: {response.status_code}, {response.json()}\"\n",
    "    \n",
    "autor_id = 320\n",
    "delete(autor_id)"
   ],
   "id": "8eb8bcfdfd90c345",
   "execution_count": null,
   "outputs": []
  }
 ],
 "metadata": {
  "kernelspec": {
   "display_name": "Python 3 (ipykernel)",
   "name": "python3",
   "language": "python"
  },
  "language_info": {
   "name": ""
  }
 },
 "nbformat": 4,
 "nbformat_minor": 5
}
