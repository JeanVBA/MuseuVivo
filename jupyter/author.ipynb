{
 "cells": [
  {
   "cell_type": "markdown",
   "id": "13a4aa73227264d6",
   "metadata": {},
   "source": [
    "Importações e configurações bases"
   ]
  },
  {
   "cell_type": "code",
   "id": "bfa88d3a0afbfa81",
   "metadata": {
    "ExecuteTime": {
     "end_time": "2024-06-12T11:46:33.129247Z",
     "start_time": "2024-06-12T11:46:33.125113Z"
    }
   },
   "source": [
    "import requests\n",
    "from IPython.display import display, JSON"
   ],
   "outputs": [],
   "execution_count": 11
  },
  {
   "cell_type": "code",
   "id": "e462f35484182ef0",
   "metadata": {
    "ExecuteTime": {
     "end_time": "2024-06-12T11:46:33.163019Z",
     "start_time": "2024-06-12T11:46:33.159017Z"
    }
   },
   "source": [
    "BASE_URL = 'http://127.0.0.1:5000/author'"
   ],
   "outputs": [],
   "execution_count": 12
  },
  {
   "cell_type": "code",
   "id": "33a90ae59e216f7e",
   "metadata": {
    "ExecuteTime": {
     "end_time": "2024-06-12T11:46:33.172901Z",
     "start_time": "2024-06-12T11:46:33.169570Z"
    }
   },
   "source": [
    "object = {\n",
    "    'name': 'Carlos Druino'\n",
    "}\n",
    "\n",
    "object_args_name = {'name': 'Carlos Druino'}\n",
    "object_args_id = {'id': 1}\n",
    "object_args_all = {'name': 'Carlos Druino', 'id': 1}"
   ],
   "outputs": [],
   "execution_count": 13
  },
  {
   "cell_type": "markdown",
   "id": "3893f899c7d97e7f",
   "metadata": {},
   "source": [
    "Requisição - GET_ALL"
   ]
  },
  {
   "cell_type": "code",
   "id": "6cdb8ab79d55b242",
   "metadata": {
    "ExecuteTime": {
     "end_time": "2024-06-12T11:46:33.528407Z",
     "start_time": "2024-06-12T11:46:33.173906Z"
    }
   },
   "source": [
    "def get_all():\n",
    "    response = requests.get(f\"{BASE_URL}/\")\n",
    "    if response.status_code == 200:\n",
    "        data = response.json()\n",
    "        return display(JSON(data))\n",
    "    else:\n",
    "        return f\"Error: {response.status_code}\"\n",
    "\n",
    "\n",
    "get_all()"
   ],
   "outputs": [
    {
     "data": {
      "text/plain": [
       "<IPython.core.display.JSON object>"
      ],
      "application/json": [
       {
        "id": 1,
        "name": "Mozart"
       },
       {
        "id": 2,
        "name": "Leonardo Da Vinci"
       },
       {
        "id": 3,
        "name": "Leonardo Da Vinci"
       },
       {
        "id": 4,
        "name": "Carlos Druino"
       },
       {
        "id": 5,
        "name": "Carlos Druino"
       }
      ]
     },
     "metadata": {
      "application/json": {
       "expanded": false,
       "root": "root"
      }
     },
     "output_type": "display_data"
    }
   ],
   "execution_count": 14
  },
  {
   "cell_type": "markdown",
   "id": "97fe1138d059fec2",
   "metadata": {},
   "source": [
    "Requisição - GET_BY_ID"
   ]
  },
  {
   "cell_type": "code",
   "id": "a0d9e1b3741dbd25",
   "metadata": {
    "ExecuteTime": {
     "end_time": "2024-06-12T11:46:33.543831Z",
     "start_time": "2024-06-12T11:46:33.530415Z"
    }
   },
   "source": [
    "def get_by_id(id):\n",
    "    response = requests.get(f\"{BASE_URL}/{id}\")\n",
    "    if response.status_code == 200:\n",
    "        data = response.json()\n",
    "        return display(JSON(data))\n",
    "    else:\n",
    "        return f\"Error: {response.status_code}, {response.json()}\"\n",
    "\n",
    "\n",
    "get_by_id(1)"
   ],
   "outputs": [
    {
     "data": {
      "text/plain": [
       "<IPython.core.display.JSON object>"
      ],
      "application/json": {
       "id": 1,
       "name": "Mozart"
      }
     },
     "metadata": {
      "application/json": {
       "expanded": false,
       "root": "root"
      }
     },
     "output_type": "display_data"
    }
   ],
   "execution_count": 15
  },
  {
   "cell_type": "markdown",
   "id": "55fa87eb16195bb9",
   "metadata": {},
   "source": [
    "Requisição - GET_BY_NAME"
   ]
  },
  {
   "cell_type": "code",
   "id": "aedaba80130927e4",
   "metadata": {
    "ExecuteTime": {
     "end_time": "2024-06-12T11:46:33.558762Z",
     "start_time": "2024-06-12T11:46:33.544970Z"
    }
   },
   "source": [
    "def get_by_name(name):\n",
    "    response = requests.get(f\"{BASE_URL}/{name}\")\n",
    "    if response.status_code == 200:\n",
    "        data = response.json()\n",
    "        return display(JSON(data))\n",
    "    else:\n",
    "        return f\"Error: {response.status_code}, {response.json()}\"\n",
    "\n",
    "name = 'Donatelo'\n",
    "get_by_name(name)"
   ],
   "outputs": [
    {
     "data": {
      "text/plain": [
       "\"Error: 404, {'error': 'Author not found'}\""
      ]
     },
     "execution_count": 16,
     "metadata": {},
     "output_type": "execute_result"
    }
   ],
   "execution_count": 16
  },
  {
   "cell_type": "markdown",
   "id": "974613c0fbd21dad",
   "metadata": {},
   "source": [
    "Request - get_args"
   ]
  },
  {
   "cell_type": "code",
   "id": "9088562ad5b4f84e",
   "metadata": {
    "ExecuteTime": {
     "end_time": "2024-06-12T11:46:33.571948Z",
     "start_time": "2024-06-12T11:46:33.559769Z"
    }
   },
   "source": [
    "def get_by_args(object_args):\n",
    "    query_string = '&'.join(f\"{key}={value}\" for key, value in object_args.items())\n",
    "    response = requests.get(f\"{BASE_URL}?{query_string}\")\n",
    "    \n",
    "    if response.status_code == 200:\n",
    "        data = response.json()\n",
    "        display(JSON(data))\n",
    "    else:\n",
    "        return f\"Erro: {response.status_code}, {response.json()}\"\n",
    "\n",
    "get_by_args(object_args_name)"
   ],
   "outputs": [
    {
     "data": {
      "text/plain": [
       "<IPython.core.display.JSON object>"
      ],
      "application/json": []
     },
     "metadata": {
      "application/json": {
       "expanded": false,
       "root": "root"
      }
     },
     "output_type": "display_data"
    }
   ],
   "execution_count": 17
  },
  {
   "cell_type": "markdown",
   "id": "1513e21ce490df37",
   "metadata": {},
   "source": [
    "Requisição  -  Args_id"
   ]
  },
  {
   "cell_type": "code",
   "id": "7c6a8a8568994e58",
   "metadata": {
    "ExecuteTime": {
     "end_time": "2024-06-12T11:46:33.585239Z",
     "start_time": "2024-06-12T11:46:33.572897Z"
    }
   },
   "source": [
    "def get_by_args(object_args):\n",
    "    query_string = '&'.join(f\"{key}={value}\" for key, value in object_args.items())\n",
    "    response = requests.get(f\"{BASE_URL}?{query_string}\")\n",
    "    \n",
    "    if response.status_code == 200:\n",
    "        data = response.json()\n",
    "        display(JSON(data))\n",
    "    else:\n",
    "        return f\"Erro: {response.status_code}, {response.json()}\"\n",
    "\n",
    "get_by_args(object_args_id)"
   ],
   "outputs": [
    {
     "data": {
      "text/plain": [
       "<IPython.core.display.JSON object>"
      ],
      "application/json": [
       {
        "id": 1,
        "name": "Mozart"
       }
      ]
     },
     "metadata": {
      "application/json": {
       "expanded": false,
       "root": "root"
      }
     },
     "output_type": "display_data"
    }
   ],
   "execution_count": 18
  },
  {
   "cell_type": "markdown",
   "id": "a5d0cebb5174df3e",
   "metadata": {},
   "source": [
    "Requisição - CREATE"
   ]
  },
  {
   "cell_type": "code",
   "id": "552dcb58855dfcb9",
   "metadata": {
    "ExecuteTime": {
     "end_time": "2024-06-12T11:46:33.600870Z",
     "start_time": "2024-06-12T11:46:33.586246Z"
    }
   },
   "source": [
    "def create(data):\n",
    "    headers = {'Content-Type': 'application/json'}\n",
    "    response = requests.post(f\"{BASE_URL}/\", json=data, headers=headers)\n",
    "    if response.status_code == 200:\n",
    "        data = response.json()\n",
    "        return display(JSON(data))\n",
    "    else:\n",
    "        return f\"Error: {response.status_code}, {response.json()}\"\n",
    "    \n",
    "create(object)"
   ],
   "outputs": [
    {
     "data": {
      "text/plain": [
       "<IPython.core.display.JSON object>"
      ],
      "application/json": {
       "id": 6,
       "name": "Carlos Druino"
      }
     },
     "metadata": {
      "application/json": {
       "expanded": false,
       "root": "root"
      }
     },
     "output_type": "display_data"
    }
   ],
   "execution_count": 19
  },
  {
   "cell_type": "markdown",
   "id": "991c29483658b7a9",
   "metadata": {},
   "source": [
    "Requisição - UPDATE"
   ]
  },
  {
   "cell_type": "code",
   "id": "4afdf429a742a2db",
   "metadata": {
    "ExecuteTime": {
     "end_time": "2024-06-12T11:46:33.611498Z",
     "start_time": "2024-06-12T11:46:33.601876Z"
    }
   },
   "source": [
    "def update(id, data):\n",
    "    headers = {'Content-Type': 'application/json'}\n",
    "    response = requests.put(f\"{BASE_URL}/{id}\", json=data, headers=headers)\n",
    "    if response.status_code == 200:\n",
    "        data = response.json()\n",
    "        return display(JSON(data))\n",
    "    else:\n",
    "        return f\"Error: {response.status_code}, {response.json()}\"\n",
    "\n",
    "update(320, object)"
   ],
   "outputs": [
    {
     "data": {
      "text/plain": [
       "\"Error: 404, {'error': 'Author not found'}\""
      ]
     },
     "execution_count": 20,
     "metadata": {},
     "output_type": "execute_result"
    }
   ],
   "execution_count": 20
  },
  {
   "cell_type": "markdown",
   "id": "d7122ac379dadb8a",
   "metadata": {},
   "source": [
    "Requisição - DELETE"
   ]
  },
  {
   "cell_type": "code",
   "id": "8eb8bcfdfd90c345",
   "metadata": {
    "ExecuteTime": {
     "end_time": "2024-06-12T11:46:33.621470Z",
     "start_time": "2024-06-12T11:46:33.612441Z"
    }
   },
   "source": [
    "def delete(id):\n",
    "    response = requests.delete(f\"{BASE_URL}/{id}\")\n",
    "    if response.status_code == 204:\n",
    "        return response.status_code\n",
    "    else:\n",
    "        return f\"Error: {response.status_code}, {response.json()}\"\n",
    "    \n",
    "delete(122)"
   ],
   "outputs": [
    {
     "data": {
      "text/plain": [
       "\"Error: 404, {'error': 'Author not found'}\""
      ]
     },
     "execution_count": 21,
     "metadata": {},
     "output_type": "execute_result"
    }
   ],
   "execution_count": 21
  }
 ],
 "metadata": {
  "kernelspec": {
   "display_name": "Python 3 (ipykernel)",
   "language": "python",
   "name": "python3"
  },
  "language_info": {
   "codemirror_mode": {
    "name": "ipython",
    "version": 3
   },
   "file_extension": ".py",
   "mimetype": "text/x-python",
   "name": "python",
   "nbconvert_exporter": "python",
   "pygments_lexer": "ipython3",
   "version": "3.12.3"
  }
 },
 "nbformat": 4,
 "nbformat_minor": 5
}
