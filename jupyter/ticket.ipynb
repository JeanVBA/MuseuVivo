{
 "cells": [
  {
   "cell_type": "code",
   "execution_count": null,
   "id": "initial_id",
   "metadata": {
    "collapsed": true
   },
   "outputs": [],
   "source": [
    "import requests\n",
    "from IPython.display import display, JSON"
   ]
  },
  {
   "cell_type": "code",
   "execution_count": null,
   "id": "cc766ed4a972840",
   "metadata": {},
   "outputs": [],
   "source": [
    "BASE_URL = 'http://127.0.0.1:5000/ticket'"
   ]
  },
  {
   "cell_type": "code",
   "execution_count": null,
   "id": "3c291075",
   "metadata": {},
   "outputs": [],
   "source": [
    "object = {\n",
    "    \"visitor_id\": 1,\n",
    "    \"type\": \"Premium\",\n",
    "    \"visit_date\": \"2024-06-12\",\n",
    "    \"purchase_date\": \"2024-06-13\",\n",
    "    \"guided_visit_id\": 1\n",
    "}\n",
    "\n",
    "object_args_ticket_type = {'type': 'Premium'}\n",
    "object_args_visitor_name = {'visitor_name': 'Carlos Druino'}"
   ]
  },
  {
   "cell_type": "markdown",
   "id": "50b255b2b10b80d9",
   "metadata": {},
   "source": [
    "Request - get_all"
   ]
  },
  {
   "cell_type": "code",
   "execution_count": null,
   "id": "9c996713",
   "metadata": {},
   "outputs": [],
   "source": [
    "def get_all():\n",
    "    response = requests.get(f\"{BASE_URL}/\")\n",
    "    if response.status_code == 200:\n",
    "        data = response.json()\n",
    "        return display(JSON(data))\n",
    "    else:\n",
    "        return f\"Error: {response.status_code}\"\n",
    "\n",
    "get_all()"
   ]
  },
  {
   "cell_type": "markdown",
   "id": "9a9ef66ea41931c3",
   "metadata": {},
   "source": [
    "Request - get_by_id"
   ]
  },
  {
   "cell_type": "code",
   "execution_count": null,
   "id": "839491ff",
   "metadata": {},
   "outputs": [],
   "source": [
    "def get_by_id(id):\n",
    "    response = requests.get(f\"{BASE_URL}/{id}\")\n",
    "    if response.status_code == 200:\n",
    "        data = response.json()\n",
    "        return display(JSON(data))\n",
    "    else:\n",
    "        return f\"Error: {response.status_code}, {response.json()}\"\n",
    "\n",
    "get_by_id(1)"
   ]
  },
  {
   "cell_type": "markdown",
   "id": "20ff337b2c1d0fcb",
   "metadata": {},
   "source": [
    "Request - create"
   ]
  },
  {
   "cell_type": "code",
   "execution_count": null,
   "id": "38793c64",
   "metadata": {},
   "outputs": [],
   "source": [
    "def create(data):\n",
    "    headers = {'Content-Type': 'application/json'}\n",
    "    response = requests.post(f\"{BASE_URL}/\", json=data, headers=headers)\n",
    "    if response.status_code == 200:\n",
    "        data = response.json()\n",
    "        return display(JSON(data))\n",
    "    else:\n",
    "        return f\"Error: {response.status_code}, {response.json()}\"\n",
    "    \n",
    "create(object)"
   ]
  },
  {
   "cell_type": "markdown",
   "id": "a5691f9dd55a748a",
   "metadata": {},
   "source": [
    "Request - update"
   ]
  },
  {
   "cell_type": "code",
   "execution_count": null,
   "id": "bcdb4842",
   "metadata": {},
   "outputs": [],
   "source": [
    "def update(id, data):\n",
    "    headers = {'Content-Type': 'application/json'}\n",
    "    response = requests.put(f\"{BASE_URL}/{id}\", json=data, headers=headers)\n",
    "    if response.status_code == 200:\n",
    "        data = response.json()\n",
    "        return display(JSON(data))\n",
    "    else:\n",
    "        return f\"Error: {response.status_code}, {response.json()}\"\n",
    "\n",
    "id=1\n",
    "update(id, object)"
   ]
  },
  {
   "cell_type": "markdown",
   "id": "6aa98434ba5f76e1",
   "metadata": {},
   "source": [
    "Request - delete"
   ]
  },
  {
   "cell_type": "code",
   "execution_count": null,
   "id": "a3a2bc7b",
   "metadata": {},
   "outputs": [],
   "source": [
    "def delete(id):\n",
    "    response = requests.delete(f\"{BASE_URL}/{id}\")\n",
    "    if response.status_code == 204:\n",
    "        return response.status_code\n",
    "    else:\n",
    "        return f\"Error: {response.status_code}, {response.json()}\"\n",
    "\n",
    "id = 122\n",
    "delete(122)"
   ]
  },
  {
   "cell_type": "markdown",
   "id": "f9d664200aea76cf",
   "metadata": {},
   "source": [
    "Request - get_by_args_ticket_type"
   ]
  },
  {
   "cell_type": "code",
   "execution_count": null,
   "id": "7af7d0ca",
   "metadata": {},
   "outputs": [],
   "source": [
    "def get_by_args(object_args):\n",
    "    query_string = '&'.join(f\"{key}={value}\" for key, value in object_args.items())\n",
    "    response = requests.get(f\"{BASE_URL}?{query_string}\")\n",
    "    \n",
    "    if response.status_code == 200:\n",
    "        data = response.json()\n",
    "        display(JSON(data))\n",
    "    else:\n",
    "        return f\"Erro: {response.status_code}, {response.json()}\"\n",
    "\n",
    "\n",
    "get_by_args(object_args_ticket_type)"
   ]
  },
  {
   "cell_type": "markdown",
   "id": "cd48babcf932dec7",
   "metadata": {},
   "source": [
    "Request - get_by_args_visitor_name"
   ]
  },
  {
   "cell_type": "code",
   "execution_count": null,
   "id": "9f92de2b",
   "metadata": {},
   "outputs": [],
   "source": [
    "def get_by_args(object_args):\n",
    "    query_string = '&'.join(f\"{key}={value}\" for key, value in object_args.items())\n",
    "    response = requests.get(f\"{BASE_URL}?{query_string}\")\n",
    "    \n",
    "    if response.status_code == 200:\n",
    "        data = response.json()\n",
    "        display(JSON(data))\n",
    "    else:\n",
    "        return f\"Erro: {response.status_code}, {response.json()}\"\n",
    "\n",
    "\n",
    "get_by_args(object_args_visitor_name)"
   ]
  }
 ],
 "metadata": {
  "kernelspec": {
   "display_name": "Python 3",
   "language": "python",
   "name": "python3"
  },
  "language_info": {
   "codemirror_mode": {
    "name": "ipython",
    "version": 2
   },
   "file_extension": ".py",
   "mimetype": "text/x-python",
   "name": "python",
   "nbconvert_exporter": "python",
   "pygments_lexer": "ipython2",
   "version": "2.7.6"
  }
 },
 "nbformat": 4,
 "nbformat_minor": 5
}
