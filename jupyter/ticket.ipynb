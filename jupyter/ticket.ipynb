{
 "cells": [
  {
   "cell_type": "code",
   "id": "initial_id",
   "metadata": {
    "collapsed": true,
    "ExecuteTime": {
     "end_time": "2024-06-14T11:00:39.478180Z",
     "start_time": "2024-06-14T11:00:39.474294Z"
    }
   },
   "source": [
    "import requests\n",
    "from IPython.display import display, JSON"
   ],
   "execution_count": 11,
   "outputs": []
  },
  {
   "cell_type": "code",
   "id": "cc766ed4a972840",
   "metadata": {
    "ExecuteTime": {
     "end_time": "2024-06-14T11:00:39.500200Z",
     "start_time": "2024-06-14T11:00:39.490188Z"
    }
   },
   "source": [
    "BASE_URL = 'http://127.0.0.1:5000/ticket'"
   ],
   "execution_count": 12,
   "outputs": []
  },
  {
   "cell_type": "code",
   "id": "3c291075",
   "metadata": {
    "ExecuteTime": {
     "end_time": "2024-06-14T11:00:39.506856Z",
     "start_time": "2024-06-14T11:00:39.500200Z"
    }
   },
   "source": [
    "object = {\n",
    "    \"visitor_id\": 1,\n",
    "    \"type\": \"Premium\",\n",
    "    \"visit_date\": \"2024-06-21\",\n",
    "    \"purchase_date\": \"2024-06-20\",\n",
    "    \"guided_visit_id\": 1\n",
    "}\n",
    "\n",
    "object_args_ticket_type = {'type': 'Premium'}\n",
    "object_args_visitor_name = {'visitor_name': 'Carlos'}"
   ],
   "execution_count": 13,
   "outputs": []
  },
  {
   "cell_type": "markdown",
   "id": "50b255b2b10b80d9",
   "metadata": {},
   "source": [
    "Request - get_all"
   ]
  },
  {
   "cell_type": "code",
   "id": "9c996713",
   "metadata": {
    "ExecuteTime": {
     "end_time": "2024-06-14T11:00:39.520124Z",
     "start_time": "2024-06-14T11:00:39.506856Z"
    }
   },
   "source": [
    "def get_all():\n",
    "    response = requests.get(f\"{BASE_URL}/\")\n",
    "    if response.status_code == 200:\n",
    "        data = response.json()\n",
    "        return display(JSON(data))\n",
    "    else:\n",
    "        return f\"Error: {response.status_code}\"\n",
    "\n",
    "get_all()"
   ],
   "execution_count": 14,
   "outputs": []
  },
  {
   "cell_type": "markdown",
   "id": "9a9ef66ea41931c3",
   "metadata": {},
   "source": [
    "Request - get_by_id"
   ]
  },
  {
   "cell_type": "code",
   "id": "839491ff",
   "metadata": {
    "ExecuteTime": {
     "end_time": "2024-06-14T11:00:39.532167Z",
     "start_time": "2024-06-14T11:00:39.520124Z"
    }
   },
   "source": [
    "def get_by_id(id):\n",
    "    response = requests.get(f\"{BASE_URL}/{id}\")\n",
    "    if response.status_code == 200:\n",
    "        data = response.json()\n",
    "        return display(JSON(data))\n",
    "    else:\n",
    "        return f\"Error: {response.status_code}, {response.json()}\"\n",
    "\n",
    "get_by_id(1)"
   ],
   "execution_count": 15,
   "outputs": []
  },
  {
   "cell_type": "markdown",
   "id": "20ff337b2c1d0fcb",
   "metadata": {},
   "source": [
    "Request - create"
   ]
  },
  {
   "cell_type": "code",
   "id": "38793c64",
   "metadata": {
    "ExecuteTime": {
     "end_time": "2024-06-14T11:00:39.547802Z",
     "start_time": "2024-06-14T11:00:39.532167Z"
    }
   },
   "source": [
    "def create(data):\n",
    "    headers = {'Content-Type': 'application/json'}\n",
    "    response = requests.post(f\"{BASE_URL}/\", json=data, headers=headers)\n",
    "    if response.status_code == 200:\n",
    "        data = response.json()\n",
    "        return display(JSON(data))\n",
    "    else:\n",
    "        return f\"Error: {response.status_code}, {response.json()}\"\n",
    "    \n",
    "create(object)"
   ],
   "execution_count": 16,
   "outputs": []
  },
  {
   "cell_type": "markdown",
   "id": "a5691f9dd55a748a",
   "metadata": {},
   "source": [
    "Request - update"
   ]
  },
  {
   "cell_type": "code",
   "id": "bcdb4842",
   "metadata": {
    "ExecuteTime": {
     "end_time": "2024-06-14T11:00:39.567193Z",
     "start_time": "2024-06-14T11:00:39.547802Z"
    }
   },
   "source": [
    "def update(id, data):\n",
    "    headers = {'Content-Type': 'application/json'}\n",
    "    response = requests.put(f\"{BASE_URL}/{id}\", json=data, headers=headers)\n",
    "    if response.status_code == 200:\n",
    "        data = response.json()\n",
    "        return display(JSON(data))\n",
    "    else:\n",
    "        return f\"Error: {response.status_code}, {response.json()}\"\n",
    "\n",
    "id=1\n",
    "update(id, object)"
   ],
   "execution_count": 17,
   "outputs": []
  },
  {
   "cell_type": "markdown",
   "id": "6aa98434ba5f76e1",
   "metadata": {},
   "source": [
    "Request - delete"
   ]
  },
  {
   "cell_type": "code",
   "id": "a3a2bc7b",
   "metadata": {
    "ExecuteTime": {
     "end_time": "2024-06-14T11:00:39.575516Z",
     "start_time": "2024-06-14T11:00:39.567193Z"
    }
   },
   "source": [
    "def delete(id):\n",
    "    response = requests.delete(f\"{BASE_URL}/{id}\")\n",
    "    if response.status_code == 204:\n",
    "        return response.status_code\n",
    "    else:\n",
    "        return f\"Error: {response.status_code}, {response.json()}\"\n",
    "\n",
    "id = 122\n",
    "delete(122)"
   ],
   "execution_count": 18,
   "outputs": []
  },
  {
   "cell_type": "markdown",
   "id": "f9d664200aea76cf",
   "metadata": {},
   "source": [
    "Request - get_by_args_ticket_type"
   ]
  },
  {
   "cell_type": "code",
   "id": "7af7d0ca",
   "metadata": {
    "ExecuteTime": {
     "end_time": "2024-06-14T11:00:39.587902Z",
     "start_time": "2024-06-14T11:00:39.575516Z"
    }
   },
   "source": [
    "def get_by_args(object_args):\n",
    "    query_string = '&'.join(f\"{key}={value}\" for key, value in object_args.items())\n",
    "    response = requests.get(f\"{BASE_URL}?{query_string}\")\n",
    "    \n",
    "    if response.status_code == 200:\n",
    "        data = response.json()\n",
    "        display(JSON(data))\n",
    "    else:\n",
    "        return f\"Erro: {response.status_code}, {response.json()}\"\n",
    "\n",
    "\n",
    "get_by_args(object_args_ticket_type)"
   ],
   "execution_count": 19,
   "outputs": []
  },
  {
   "cell_type": "markdown",
   "id": "cd48babcf932dec7",
   "metadata": {},
   "source": [
    "Request - get_by_args_visitor_name"
   ]
  },
  {
   "cell_type": "code",
   "id": "9f92de2b",
   "metadata": {
    "ExecuteTime": {
     "end_time": "2024-06-14T11:00:39.605775Z",
     "start_time": "2024-06-14T11:00:39.587902Z"
    }
   },
   "source": [
    "def get_by_args(object_args):\n",
    "    query_string = '&'.join(f\"{key}={value}\" for key, value in object_args.items())\n",
    "    response = requests.get(f\"{BASE_URL}?{query_string}\")\n",
    "    \n",
    "    if response.status_code == 200:\n",
    "        data = response.json()\n",
    "        display(JSON(data))\n",
    "    else:\n",
    "        return f\"Erro: {response.status_code}, {response.json()}\"\n",
    "\n",
    "\n",
    "get_by_args(object_args_visitor_name)"
   ],
   "execution_count": 20,
   "outputs": []
  }
 ],
 "metadata": {
  "kernelspec": {
   "display_name": "Python 3",
   "language": "python",
   "name": "python3"
  },
  "language_info": {
   "codemirror_mode": {
    "name": "ipython",
    "version": 2
   },
   "file_extension": ".py",
   "mimetype": "text/x-python",
   "name": "python",
   "nbconvert_exporter": "python",
   "pygments_lexer": "ipython2",
   "version": "2.7.6"
  }
 },
 "nbformat": 4,
 "nbformat_minor": 5
}
