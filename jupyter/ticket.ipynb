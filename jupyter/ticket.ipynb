{
 "cells": [
  {
   "cell_type": "code",
   "id": "initial_id",
   "metadata": {
    "collapsed": true,
    "ExecuteTime": {
     "end_time": "2024-06-14T11:00:39.478180Z",
     "start_time": "2024-06-14T11:00:39.474294Z"
    }
   },
   "source": [
    "import requests\n",
    "from IPython.display import display, JSON"
   ],
   "outputs": [],
   "execution_count": 11
  },
  {
   "cell_type": "code",
   "id": "cc766ed4a972840",
   "metadata": {
    "ExecuteTime": {
     "end_time": "2024-06-14T11:00:39.500200Z",
     "start_time": "2024-06-14T11:00:39.490188Z"
    }
   },
   "source": [
    "BASE_URL = 'http://127.0.0.1:5000/ticket'"
   ],
   "outputs": [],
   "execution_count": 12
  },
  {
   "cell_type": "code",
   "id": "3c291075",
   "metadata": {
    "ExecuteTime": {
     "end_time": "2024-06-14T11:00:39.506856Z",
     "start_time": "2024-06-14T11:00:39.500200Z"
    }
   },
   "source": [
    "object = {\n",
    "    \"visitor_id\": 1,\n",
    "    \"type\": \"Premium\",\n",
    "    \"visit_date\": \"2024-06-21\",\n",
    "    \"purchase_date\": \"2024-06-20\",\n",
    "    \"guided_visit_id\": 1\n",
    "}\n",
    "\n",
    "object_args_ticket_type = {'type': 'Premium'}\n",
    "object_args_visitor_name = {'visitor_name': 'Carlos'}"
   ],
   "outputs": [],
   "execution_count": 13
  },
  {
   "cell_type": "markdown",
   "id": "50b255b2b10b80d9",
   "metadata": {},
   "source": [
    "Request - get_all"
   ]
  },
  {
   "cell_type": "code",
   "id": "9c996713",
   "metadata": {
    "ExecuteTime": {
     "end_time": "2024-06-14T11:00:39.520124Z",
     "start_time": "2024-06-14T11:00:39.506856Z"
    }
   },
   "source": [
    "def get_all():\n",
    "    response = requests.get(f\"{BASE_URL}/\")\n",
    "    if response.status_code == 200:\n",
    "        data = response.json()\n",
    "        return display(JSON(data))\n",
    "    else:\n",
    "        return f\"Error: {response.status_code}\"\n",
    "\n",
    "get_all()"
   ],
   "outputs": [
    {
     "data": {
      "text/plain": [
       "<IPython.core.display.JSON object>"
      ],
      "application/json": [
       {
        "guided_visit": {
         "group": "Group A",
         "guide": {
          "name": "Maria"
         }
        },
        "id": 1,
        "purchase_date": "Thu, 20 Jun 2024 00:00:00 GMT",
        "type": "Premium",
        "visit_date": "Fri, 21 Jun 2024 00:00:00 GMT",
        "visitor": {
         "name": "Carlos"
        }
       },
       {
        "guided_visit": {
         "group": "Group A",
         "guide": {
          "name": "Maria"
         }
        },
        "id": 2,
        "purchase_date": "Tue, 11 Jun 2024 00:00:00 GMT",
        "type": "Silver",
        "visit_date": "Tue, 11 Jun 2024 00:00:00 GMT",
        "visitor": {
         "name": "Carlos"
        }
       },
       {
        "guided_visit": {
         "group": "Group A",
         "guide": {
          "name": "Maria"
         }
        },
        "id": 3,
        "purchase_date": "Wed, 12 Jun 2024 00:00:00 GMT",
        "type": "Silver",
        "visit_date": "Tue, 11 Jun 2024 00:00:00 GMT",
        "visitor": {
         "name": "Carlos"
        }
       },
       {
        "guided_visit": {
         "group": "Group A",
         "guide": {
          "name": "Maria"
         }
        },
        "id": 4,
        "purchase_date": "Thu, 13 Jun 2024 00:00:00 GMT",
        "type": "Premium",
        "visit_date": "Tue, 11 Jun 2024 00:00:00 GMT",
        "visitor": {
         "name": "Carlos"
        }
       },
       {
        "guided_visit": {
         "group": "Group A",
         "guide": {
          "name": "Maria"
         }
        },
        "id": 5,
        "purchase_date": "Thu, 13 Jun 2024 00:00:00 GMT",
        "type": "Premium",
        "visit_date": "Wed, 12 Jun 2024 00:00:00 GMT",
        "visitor": {
         "name": "Carlos"
        }
       },
       {
        "guided_visit": {
         "group": "Group A",
         "guide": {
          "name": "Maria"
         }
        },
        "id": 6,
        "purchase_date": "Thu, 20 Jun 2024 00:00:00 GMT",
        "type": "Premium",
        "visit_date": "Fri, 21 Jun 2024 00:00:00 GMT",
        "visitor": {
         "name": "Carlos"
        }
       }
      ]
     },
     "metadata": {
      "application/json": {
       "expanded": false,
       "root": "root"
      }
     },
     "output_type": "display_data"
    }
   ],
   "execution_count": 14
  },
  {
   "cell_type": "markdown",
   "id": "9a9ef66ea41931c3",
   "metadata": {},
   "source": [
    "Request - get_by_id"
   ]
  },
  {
   "cell_type": "code",
   "id": "839491ff",
   "metadata": {
    "ExecuteTime": {
     "end_time": "2024-06-14T11:00:39.532167Z",
     "start_time": "2024-06-14T11:00:39.520124Z"
    }
   },
   "source": [
    "def get_by_id(id):\n",
    "    response = requests.get(f\"{BASE_URL}/{id}\")\n",
    "    if response.status_code == 200:\n",
    "        data = response.json()\n",
    "        return display(JSON(data))\n",
    "    else:\n",
    "        return f\"Error: {response.status_code}, {response.json()}\"\n",
    "\n",
    "get_by_id(1)"
   ],
   "outputs": [
    {
     "data": {
      "text/plain": [
       "<IPython.core.display.JSON object>"
      ],
      "application/json": {
       "guided_visit": {
        "group": "Group A",
        "guide": {
         "name": "Maria"
        }
       },
       "id": 1,
       "purchase_date": "Thu, 20 Jun 2024 00:00:00 GMT",
       "type": "Premium",
       "visit_date": "Fri, 21 Jun 2024 00:00:00 GMT",
       "visitor": {
        "name": "Carlos"
       }
      }
     },
     "metadata": {
      "application/json": {
       "expanded": false,
       "root": "root"
      }
     },
     "output_type": "display_data"
    }
   ],
   "execution_count": 15
  },
  {
   "cell_type": "markdown",
   "id": "20ff337b2c1d0fcb",
   "metadata": {},
   "source": [
    "Request - create"
   ]
  },
  {
   "cell_type": "code",
   "id": "38793c64",
   "metadata": {
    "ExecuteTime": {
     "end_time": "2024-06-14T11:00:39.547802Z",
     "start_time": "2024-06-14T11:00:39.532167Z"
    }
   },
   "source": [
    "def create(data):\n",
    "    headers = {'Content-Type': 'application/json'}\n",
    "    response = requests.post(f\"{BASE_URL}/\", json=data, headers=headers)\n",
    "    if response.status_code == 200:\n",
    "        data = response.json()\n",
    "        return display(JSON(data))\n",
    "    else:\n",
    "        return f\"Error: {response.status_code}, {response.json()}\"\n",
    "    \n",
    "create(object)"
   ],
   "outputs": [
    {
     "data": {
      "text/plain": [
       "<IPython.core.display.JSON object>"
      ],
      "application/json": {
       "guided_visit": {
        "group": "Group A",
        "guide": {
         "name": "Maria"
        }
       },
       "id": 7,
       "purchase_date": "Thu, 20 Jun 2024 00:00:00 GMT",
       "type": "Premium",
       "visit_date": "Fri, 21 Jun 2024 00:00:00 GMT",
       "visitor": {
        "name": "Carlos"
       }
      }
     },
     "metadata": {
      "application/json": {
       "expanded": false,
       "root": "root"
      }
     },
     "output_type": "display_data"
    }
   ],
   "execution_count": 16
  },
  {
   "cell_type": "markdown",
   "id": "a5691f9dd55a748a",
   "metadata": {},
   "source": [
    "Request - update"
   ]
  },
  {
   "cell_type": "code",
   "id": "bcdb4842",
   "metadata": {
    "ExecuteTime": {
     "end_time": "2024-06-14T11:00:39.567193Z",
     "start_time": "2024-06-14T11:00:39.547802Z"
    }
   },
   "source": [
    "def update(id, data):\n",
    "    headers = {'Content-Type': 'application/json'}\n",
    "    response = requests.put(f\"{BASE_URL}/{id}\", json=data, headers=headers)\n",
    "    if response.status_code == 200:\n",
    "        data = response.json()\n",
    "        return display(JSON(data))\n",
    "    else:\n",
    "        return f\"Error: {response.status_code}, {response.json()}\"\n",
    "\n",
    "id=1\n",
    "update(id, object)"
   ],
   "outputs": [
    {
     "data": {
      "text/plain": [
       "<IPython.core.display.JSON object>"
      ],
      "application/json": {
       "guided_visit": {
        "group": "Group A",
        "guide": {
         "name": "Maria"
        }
       },
       "id": 1,
       "purchase_date": "Thu, 20 Jun 2024 00:00:00 GMT",
       "type": "Premium",
       "visit_date": "Fri, 21 Jun 2024 00:00:00 GMT",
       "visitor": {
        "name": "Carlos"
       }
      }
     },
     "metadata": {
      "application/json": {
       "expanded": false,
       "root": "root"
      }
     },
     "output_type": "display_data"
    }
   ],
   "execution_count": 17
  },
  {
   "cell_type": "markdown",
   "id": "6aa98434ba5f76e1",
   "metadata": {},
   "source": [
    "Request - delete"
   ]
  },
  {
   "cell_type": "code",
   "id": "a3a2bc7b",
   "metadata": {
    "ExecuteTime": {
     "end_time": "2024-06-14T11:00:39.575516Z",
     "start_time": "2024-06-14T11:00:39.567193Z"
    }
   },
   "source": [
    "def delete(id):\n",
    "    response = requests.delete(f\"{BASE_URL}/{id}\")\n",
    "    if response.status_code == 204:\n",
    "        return response.status_code\n",
    "    else:\n",
    "        return f\"Error: {response.status_code}, {response.json()}\"\n",
    "\n",
    "id = 122\n",
    "delete(122)"
   ],
   "outputs": [
    {
     "data": {
      "text/plain": [
       "\"Error: 404, {'error': 'Ticket not found'}\""
      ]
     },
     "execution_count": 18,
     "metadata": {},
     "output_type": "execute_result"
    }
   ],
   "execution_count": 18
  },
  {
   "cell_type": "markdown",
   "id": "f9d664200aea76cf",
   "metadata": {},
   "source": [
    "Request - get_by_args_ticket_type"
   ]
  },
  {
   "cell_type": "code",
   "id": "7af7d0ca",
   "metadata": {
    "ExecuteTime": {
     "end_time": "2024-06-14T11:00:39.587902Z",
     "start_time": "2024-06-14T11:00:39.575516Z"
    }
   },
   "source": [
    "def get_by_args(object_args):\n",
    "    query_string = '&'.join(f\"{key}={value}\" for key, value in object_args.items())\n",
    "    response = requests.get(f\"{BASE_URL}?{query_string}\")\n",
    "    \n",
    "    if response.status_code == 200:\n",
    "        data = response.json()\n",
    "        display(JSON(data))\n",
    "    else:\n",
    "        return f\"Erro: {response.status_code}, {response.json()}\"\n",
    "\n",
    "\n",
    "get_by_args(object_args_ticket_type)"
   ],
   "outputs": [
    {
     "data": {
      "text/plain": [
       "<IPython.core.display.JSON object>"
      ],
      "application/json": [
       {
        "guided_visit": {
         "group": "Group A",
         "guide": {
          "name": "Maria"
         }
        },
        "id": 1,
        "purchase_date": "Thu, 20 Jun 2024 00:00:00 GMT",
        "type": "Premium",
        "visit_date": "Fri, 21 Jun 2024 00:00:00 GMT",
        "visitor": {
         "name": "Carlos"
        }
       },
       {
        "guided_visit": {
         "group": "Group A",
         "guide": {
          "name": "Maria"
         }
        },
        "id": 4,
        "purchase_date": "Thu, 13 Jun 2024 00:00:00 GMT",
        "type": "Premium",
        "visit_date": "Tue, 11 Jun 2024 00:00:00 GMT",
        "visitor": {
         "name": "Carlos"
        }
       },
       {
        "guided_visit": {
         "group": "Group A",
         "guide": {
          "name": "Maria"
         }
        },
        "id": 5,
        "purchase_date": "Thu, 13 Jun 2024 00:00:00 GMT",
        "type": "Premium",
        "visit_date": "Wed, 12 Jun 2024 00:00:00 GMT",
        "visitor": {
         "name": "Carlos"
        }
       },
       {
        "guided_visit": {
         "group": "Group A",
         "guide": {
          "name": "Maria"
         }
        },
        "id": 6,
        "purchase_date": "Thu, 20 Jun 2024 00:00:00 GMT",
        "type": "Premium",
        "visit_date": "Fri, 21 Jun 2024 00:00:00 GMT",
        "visitor": {
         "name": "Carlos"
        }
       },
       {
        "guided_visit": {
         "group": "Group A",
         "guide": {
          "name": "Maria"
         }
        },
        "id": 7,
        "purchase_date": "Thu, 20 Jun 2024 00:00:00 GMT",
        "type": "Premium",
        "visit_date": "Fri, 21 Jun 2024 00:00:00 GMT",
        "visitor": {
         "name": "Carlos"
        }
       }
      ]
     },
     "metadata": {
      "application/json": {
       "expanded": false,
       "root": "root"
      }
     },
     "output_type": "display_data"
    }
   ],
   "execution_count": 19
  },
  {
   "cell_type": "markdown",
   "id": "cd48babcf932dec7",
   "metadata": {},
   "source": [
    "Request - get_by_args_visitor_name"
   ]
  },
  {
   "cell_type": "code",
   "id": "9f92de2b",
   "metadata": {
    "ExecuteTime": {
     "end_time": "2024-06-14T11:00:39.605775Z",
     "start_time": "2024-06-14T11:00:39.587902Z"
    }
   },
   "source": [
    "def get_by_args(object_args):\n",
    "    query_string = '&'.join(f\"{key}={value}\" for key, value in object_args.items())\n",
    "    response = requests.get(f\"{BASE_URL}?{query_string}\")\n",
    "    \n",
    "    if response.status_code == 200:\n",
    "        data = response.json()\n",
    "        display(JSON(data))\n",
    "    else:\n",
    "        return f\"Erro: {response.status_code}, {response.json()}\"\n",
    "\n",
    "\n",
    "get_by_args(object_args_visitor_name)"
   ],
   "outputs": [
    {
     "data": {
      "text/plain": [
       "<IPython.core.display.JSON object>"
      ],
      "application/json": [
       {
        "guided_visit": {
         "group": "Group A",
         "guide": {
          "name": "Maria"
         }
        },
        "id": 1,
        "purchase_date": "Thu, 20 Jun 2024 00:00:00 GMT",
        "type": "Premium",
        "visit_date": "Fri, 21 Jun 2024 00:00:00 GMT",
        "visitor": {
         "name": "Carlos"
        }
       },
       {
        "guided_visit": {
         "group": "Group A",
         "guide": {
          "name": "Maria"
         }
        },
        "id": 2,
        "purchase_date": "Tue, 11 Jun 2024 00:00:00 GMT",
        "type": "Silver",
        "visit_date": "Tue, 11 Jun 2024 00:00:00 GMT",
        "visitor": {
         "name": "Carlos"
        }
       },
       {
        "guided_visit": {
         "group": "Group A",
         "guide": {
          "name": "Maria"
         }
        },
        "id": 3,
        "purchase_date": "Wed, 12 Jun 2024 00:00:00 GMT",
        "type": "Silver",
        "visit_date": "Tue, 11 Jun 2024 00:00:00 GMT",
        "visitor": {
         "name": "Carlos"
        }
       },
       {
        "guided_visit": {
         "group": "Group A",
         "guide": {
          "name": "Maria"
         }
        },
        "id": 4,
        "purchase_date": "Thu, 13 Jun 2024 00:00:00 GMT",
        "type": "Premium",
        "visit_date": "Tue, 11 Jun 2024 00:00:00 GMT",
        "visitor": {
         "name": "Carlos"
        }
       },
       {
        "guided_visit": {
         "group": "Group A",
         "guide": {
          "name": "Maria"
         }
        },
        "id": 5,
        "purchase_date": "Thu, 13 Jun 2024 00:00:00 GMT",
        "type": "Premium",
        "visit_date": "Wed, 12 Jun 2024 00:00:00 GMT",
        "visitor": {
         "name": "Carlos"
        }
       },
       {
        "guided_visit": {
         "group": "Group A",
         "guide": {
          "name": "Maria"
         }
        },
        "id": 6,
        "purchase_date": "Thu, 20 Jun 2024 00:00:00 GMT",
        "type": "Premium",
        "visit_date": "Fri, 21 Jun 2024 00:00:00 GMT",
        "visitor": {
         "name": "Carlos"
        }
       },
       {
        "guided_visit": {
         "group": "Group A",
         "guide": {
          "name": "Maria"
         }
        },
        "id": 7,
        "purchase_date": "Thu, 20 Jun 2024 00:00:00 GMT",
        "type": "Premium",
        "visit_date": "Fri, 21 Jun 2024 00:00:00 GMT",
        "visitor": {
         "name": "Carlos"
        }
       }
      ]
     },
     "metadata": {
      "application/json": {
       "expanded": false,
       "root": "root"
      }
     },
     "output_type": "display_data"
    }
   ],
   "execution_count": 20
  }
 ],
 "metadata": {
  "kernelspec": {
   "display_name": "Python 3",
   "language": "python",
   "name": "python3"
  },
  "language_info": {
   "codemirror_mode": {
    "name": "ipython",
    "version": 2
   },
   "file_extension": ".py",
   "mimetype": "text/x-python",
   "name": "python",
   "nbconvert_exporter": "python",
   "pygments_lexer": "ipython2",
   "version": "2.7.6"
  }
 },
 "nbformat": 4,
 "nbformat_minor": 5
}
