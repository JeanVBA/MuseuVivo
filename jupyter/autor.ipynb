{
 "cells": [
  {
   "metadata": {},
   "cell_type": "markdown",
   "source": "Importações e configurações bases",
   "id": "13a4aa73227264d6"
  },
  {
   "metadata": {
    "ExecuteTime": {
     "end_time": "2024-06-04T11:24:21.518947Z",
     "start_time": "2024-06-04T11:24:21.515442Z"
    }
   },
   "cell_type": "code",
   "source": [
    "import requests\n",
    "from IPython.display import display, JSON"
   ],
   "id": "bfa88d3a0afbfa81",
   "outputs": [],
   "execution_count": 40
  },
  {
   "metadata": {
    "ExecuteTime": {
     "end_time": "2024-06-04T11:24:21.531731Z",
     "start_time": "2024-06-04T11:24:21.527124Z"
    }
   },
   "cell_type": "code",
   "source": "BASE_URL = 'http://127.0.0.1:5000/autor'",
   "id": "e462f35484182ef0",
   "outputs": [],
   "execution_count": 41
  },
  {
   "metadata": {},
   "cell_type": "markdown",
   "source": "Requisição - GET_ALL",
   "id": "3893f899c7d97e7f"
  },
  {
   "metadata": {
    "ExecuteTime": {
     "end_time": "2024-06-04T11:24:21.568962Z",
     "start_time": "2024-06-04T11:24:21.555243Z"
    }
   },
   "cell_type": "code",
   "source": [
    "#Endpoint que buscara todos os autores\n",
    "def get_all():\n",
    "    response = requests.get(f\"{BASE_URL}/\")\n",
    "    if response.status_code == 200:\n",
    "        data = response.json()\n",
    "        return display(JSON(data))\n",
    "    else:\n",
    "        return f\"Error: {response.status_code}\"\n",
    "\n",
    "\n",
    "get_all()"
   ],
   "id": "6cdb8ab79d55b242",
   "outputs": [
    {
     "data": {
      "text/plain": [
       "<IPython.core.display.JSON object>"
      ],
      "application/json": [
       {
        "id": 1,
        "nome": "Leonardo da Vinci"
       },
       {
        "id": 3,
        "nome": "Donatelo"
       },
       {
        "id": 5,
        "nome": "Rafael"
       },
       {
        "id": 6,
        "nome": "Van Gogh"
       },
       {
        "id": 7,
        "nome": "Mozart"
       },
       {
        "id": 8,
        "nome": "Mozart"
       },
       {
        "id": 9,
        "nome": "Leonardo da Vinci"
       },
       {
        "id": 10,
        "nome": "Vincent van Gogh"
       },
       {
        "id": 11,
        "nome": "Michelangelo"
       },
       {
        "id": 12,
        "nome": "Pablo Picasso"
       },
       {
        "id": 13,
        "nome": "Claude Monet"
       },
       {
        "id": 14,
        "nome": "Salvador Dalí"
       },
       {
        "id": 15,
        "nome": "Rembrandt"
       },
       {
        "id": 16,
        "nome": "Johannes Vermeer"
       },
       {
        "id": 17,
        "nome": "Edgar Degas"
       },
       {
        "id": 18,
        "nome": "Paul Cézanne"
       },
       {
        "id": 19,
        "nome": "Henri Matisse"
       },
       {
        "id": 20,
        "nome": "Frida Kahlo"
       },
       {
        "id": 21,
        "nome": "Jackson Pollock"
       },
       {
        "id": 22,
        "nome": "Andy Warhol"
       },
       {
        "id": 23,
        "nome": "Gustav Klimt"
       },
       {
        "id": 24,
        "nome": "Georges Seurat"
       },
       {
        "id": 25,
        "nome": "Édouard Manet"
       },
       {
        "id": 26,
        "nome": "Goya"
       },
       {
        "id": 27,
        "nome": "Caravaggio"
       },
       {
        "id": 28,
        "nome": "Georgia O Keeffe"
       },
       {
        "id": 29,
        "nome": "Edvard Munch"
       },
       {
        "id": 30,
        "nome": "Raphael"
       },
       {
        "id": 31,
        "nome": "Titian"
       },
       {
        "id": 32,
        "nome": "Albrecht Dürer"
       },
       {
        "id": 33,
        "nome": "Peter Paul Rubens"
       }
      ]
     },
     "metadata": {
      "application/json": {
       "expanded": false,
       "root": "root"
      }
     },
     "output_type": "display_data"
    }
   ],
   "execution_count": 42
  },
  {
   "metadata": {},
   "cell_type": "markdown",
   "source": "Requisição - GET_BY_ID",
   "id": "97fe1138d059fec2"
  },
  {
   "metadata": {
    "ExecuteTime": {
     "end_time": "2024-06-04T11:24:21.581001Z",
     "start_time": "2024-06-04T11:24:21.569978Z"
    }
   },
   "cell_type": "code",
   "source": [
    "#Endpoint que buscara o autor com base no id passado na URL\n",
    "def get_by_id(id):\n",
    "    response = requests.get(f\"{BASE_URL}/{id}\")\n",
    "    if response.status_code == 200:\n",
    "        data = response.json()\n",
    "        return display(JSON(data))\n",
    "    else:\n",
    "        return f\"Error: {response.status_code}, {response.json()}\"\n",
    "\n",
    "\n",
    "get_by_id('1')"
   ],
   "id": "a0d9e1b3741dbd25",
   "outputs": [
    {
     "data": {
      "text/plain": [
       "<IPython.core.display.JSON object>"
      ],
      "application/json": {
       "id": 1,
       "nome": "Leonardo da Vinci"
      }
     },
     "metadata": {
      "application/json": {
       "expanded": false,
       "root": "root"
      }
     },
     "output_type": "display_data"
    }
   ],
   "execution_count": 43
  },
  {
   "metadata": {},
   "cell_type": "markdown",
   "source": "Requisição - GET_BY_NAME",
   "id": "55fa87eb16195bb9"
  },
  {
   "metadata": {
    "ExecuteTime": {
     "end_time": "2024-06-04T11:24:21.594488Z",
     "start_time": "2024-06-04T11:24:21.582007Z"
    }
   },
   "cell_type": "code",
   "source": [
    "#Endpoint que buscara o autor com base no nome passado na URL\n",
    "def get_by_name(name):\n",
    "    response = requests.get(f\"{BASE_URL}/{name}\")\n",
    "    if response.status_code == 200:\n",
    "        data = response.json()\n",
    "        return display(JSON(data))\n",
    "    else:\n",
    "        return f\"Error: {response.status_code}, {response.json()}\"\n",
    "\n",
    "name = 'Donatelo'\n",
    "get_by_name(name)"
   ],
   "id": "aedaba80130927e4",
   "outputs": [
    {
     "data": {
      "text/plain": [
       "<IPython.core.display.JSON object>"
      ],
      "application/json": {
       "id": 3,
       "nome": "Donatelo"
      }
     },
     "metadata": {
      "application/json": {
       "expanded": false,
       "root": "root"
      }
     },
     "output_type": "display_data"
    }
   ],
   "execution_count": 44
  },
  {
   "metadata": {},
   "cell_type": "markdown",
   "source": "Requisição - CREATE",
   "id": "a5d0cebb5174df3e"
  },
  {
   "metadata": {
    "ExecuteTime": {
     "end_time": "2024-06-04T11:24:21.615807Z",
     "start_time": "2024-06-04T11:24:21.596496Z"
    }
   },
   "cell_type": "code",
   "source": [
    "#Enedpoint que registra um novo autor na base\n",
    "def create(data):\n",
    "    headers = {'Content-Type': 'application/json'}\n",
    "    response = requests.post(f\"{BASE_URL}/\", json=data, headers=headers)\n",
    "    if response.status_code == 200:\n",
    "        data = response.json()\n",
    "        return display(JSON(data))\n",
    "    else:\n",
    "        return f\"Error: {response.status_code}, {response.json()}\"\n",
    "    \n",
    "autor = {\n",
    "    'nome': 'Carlos Druino'\n",
    "}\n",
    "create(autor)"
   ],
   "id": "552dcb58855dfcb9",
   "outputs": [
    {
     "data": {
      "text/plain": [
       "\"Error: 200, {'id': 34, 'nome': 'Carlos Druino'}\""
      ]
     },
     "execution_count": 45,
     "metadata": {},
     "output_type": "execute_result"
    }
   ],
   "execution_count": 45
  },
  {
   "metadata": {},
   "cell_type": "markdown",
   "source": "Requisição - UPDATE",
   "id": "991c29483658b7a9"
  },
  {
   "metadata": {
    "ExecuteTime": {
     "end_time": "2024-06-04T11:24:21.634611Z",
     "start_time": "2024-06-04T11:24:21.616813Z"
    }
   },
   "cell_type": "code",
   "source": [
    "#Enedpoint que atualiza um autor da base\n",
    "def update(id, data):\n",
    "    headers = {'Content-Type': 'application/json'}\n",
    "    response = requests.put(f\"{BASE_URL}/{id}\", json=data, headers=headers)\n",
    "    if response.status_code == 200:\n",
    "        data = response.json()\n",
    "        return display(JSON(data))\n",
    "    else:\n",
    "        return f\"Error: {response.status_code}, {response.json()}\"\n",
    "\n",
    "autor_id = 320\n",
    "autor = {\n",
    "    'nome': 'Carlos Druino'\n",
    "}\n",
    "update(autor_id, autor)"
   ],
   "id": "4afdf429a742a2db",
   "outputs": [
    {
     "data": {
      "text/plain": [
       "<IPython.core.display.JSON object>"
      ],
      "application/json": {
       "id": 32,
       "nome": "Carlos Druino"
      }
     },
     "metadata": {
      "application/json": {
       "expanded": false,
       "root": "root"
      }
     },
     "output_type": "display_data"
    }
   ],
   "execution_count": 46
  },
  {
   "metadata": {},
   "cell_type": "markdown",
   "source": "Requisição - DELETE",
   "id": "d7122ac379dadb8a"
  },
  {
   "metadata": {
    "ExecuteTime": {
     "end_time": "2024-06-04T11:24:21.658624Z",
     "start_time": "2024-06-04T11:24:21.635619Z"
    }
   },
   "cell_type": "code",
   "source": [
    "#Enedpoint que deleta um autor da base\n",
    "def delete(id):\n",
    "    response = requests.delete(f\"{BASE_URL}/{id}\")\n",
    "    if response.status_code == 204:\n",
    "        return response.status_code\n",
    "    else:\n",
    "        return f\"Error: {response.status_code}, {response.json()}\"\n",
    "    \n",
    "autor_id = 320\n",
    "delete(autor_id)"
   ],
   "id": "8eb8bcfdfd90c345",
   "outputs": [
    {
     "data": {
      "text/plain": [
       "204"
      ]
     },
     "execution_count": 47,
     "metadata": {},
     "output_type": "execute_result"
    }
   ],
   "execution_count": 47
  }
 ],
 "metadata": {
  "kernelspec": {
   "display_name": "Python 3 (ipykernel)",
   "name": "python3",
   "language": "python"
  },
  "language_info": {
   "name": ""
  }
 },
 "nbformat": 4,
 "nbformat_minor": 5
}
