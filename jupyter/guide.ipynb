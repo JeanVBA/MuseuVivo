{
 "cells": [
  {
   "metadata": {},
   "cell_type": "markdown",
   "source": "Importações e configurações bases",
   "id": "13a4aa73227264d6"
  },
  {
   "metadata": {
    "ExecuteTime": {
     "end_time": "2024-06-14T10:22:41.854922Z",
     "start_time": "2024-06-14T10:22:41.608907Z"
    }
   },
   "cell_type": "code",
   "source": [
    "import requests\n",
    "from IPython.display import display, JSON"
   ],
   "id": "bfa88d3a0afbfa81",
   "outputs": [],
   "execution_count": 1
  },
  {
   "metadata": {
    "ExecuteTime": {
     "end_time": "2024-06-14T10:22:41.859899Z",
     "start_time": "2024-06-14T10:22:41.854922Z"
    }
   },
   "cell_type": "code",
   "source": "BASE_URL = 'http://127.0.0.1:5000/guide'",
   "id": "e462f35484182ef0",
   "outputs": [],
   "execution_count": 2
  },
  {
   "metadata": {
    "ExecuteTime": {
     "end_time": "2024-06-14T10:22:41.864139Z",
     "start_time": "2024-06-14T10:22:41.859899Z"
    }
   },
   "cell_type": "code",
   "source": [
    "object = {\n",
    "    \"name\": \"Maria\",\n",
    "    \"email\": \"email@gmail.com\",\n",
    "    \"phone\": \"+5524988808088\"\n",
    "}\n",
    "\n",
    "object_args_name = {'name': 'Maria'}\n",
    "object_args_email = {'email': 'email@gmail.com'}\n",
    "object_args_phone = {'phone': '5524988808088'}"
   ],
   "id": "d6e5bf0db881effc",
   "outputs": [],
   "execution_count": 3
  },
  {
   "metadata": {},
   "cell_type": "markdown",
   "source": "Requisição - GET_ALL",
   "id": "3893f899c7d97e7f"
  },
  {
   "metadata": {
    "ExecuteTime": {
     "end_time": "2024-06-14T10:22:42.149480Z",
     "start_time": "2024-06-14T10:22:41.864139Z"
    }
   },
   "cell_type": "code",
   "source": [
    "#Endpoint que buscara todos os registros\n",
    "def get_all():\n",
    "    response = requests.get(f\"{BASE_URL}/\")\n",
    "    if response.status_code == 200:\n",
    "        data = response.json()\n",
    "        return display(JSON(data))\n",
    "    else:\n",
    "        return f\"Error: {response.status_code}\"\n",
    "\n",
    "\n",
    "get_all()"
   ],
   "id": "6cdb8ab79d55b242",
   "outputs": [
    {
     "data": {
      "text/plain": [
       "<IPython.core.display.JSON object>"
      ],
      "application/json": [
       {
        "email": "email@gmail.com",
        "id": 1,
        "name": "Maria",
        "phone": "+5524988808088"
       },
       {
        "email": "email@gmail.com",
        "id": 2,
        "name": "Maria",
        "phone": "+5524988808088"
       },
       {
        "email": "email@gmail.com",
        "id": 3,
        "name": "Maria",
        "phone": "+5524988808088"
       },
       {
        "email": "email@gmail.com",
        "id": 4,
        "name": "Maria",
        "phone": "+5524988808088"
       },
       {
        "email": "email@gmail.com",
        "id": 5,
        "name": "Maria",
        "phone": "+5524988808088"
       }
      ]
     },
     "metadata": {
      "application/json": {
       "expanded": false,
       "root": "root"
      }
     },
     "output_type": "display_data"
    }
   ],
   "execution_count": 4
  },
  {
   "metadata": {},
   "cell_type": "markdown",
   "source": "Requisição - GET_BY_ID",
   "id": "97fe1138d059fec2"
  },
  {
   "metadata": {
    "ExecuteTime": {
     "end_time": "2024-06-14T10:22:42.161151Z",
     "start_time": "2024-06-14T10:22:42.149480Z"
    }
   },
   "cell_type": "code",
   "source": [
    "#Endpoint que buscara o registro com base no id passado na URL\n",
    "def get_by_id(id):\n",
    "    response = requests.get(f\"{BASE_URL}/{id}\")\n",
    "    if response.status_code == 200:\n",
    "        data = response.json()\n",
    "        return display(JSON(data))\n",
    "    else:\n",
    "        return f\"Error: {response.status_code}, {response.json()}\"\n",
    "\n",
    "\n",
    "get_by_id(3)"
   ],
   "id": "a0d9e1b3741dbd25",
   "outputs": [
    {
     "data": {
      "text/plain": [
       "<IPython.core.display.JSON object>"
      ],
      "application/json": {
       "email": "email@gmail.com",
       "id": 3,
       "name": "Maria",
       "phone": "+5524988808088"
      }
     },
     "metadata": {
      "application/json": {
       "expanded": false,
       "root": "root"
      }
     },
     "output_type": "display_data"
    }
   ],
   "execution_count": 5
  },
  {
   "metadata": {},
   "cell_type": "markdown",
   "source": "Requisição - GET_BY_NAME",
   "id": "55fa87eb16195bb9"
  },
  {
   "metadata": {
    "ExecuteTime": {
     "end_time": "2024-06-14T10:22:42.172741Z",
     "start_time": "2024-06-14T10:22:42.161151Z"
    }
   },
   "cell_type": "code",
   "source": [
    "#Endpoint que buscara o registro com base no nome passado na URL\n",
    "def get_by_name(name):\n",
    "    response = requests.get(f\"{BASE_URL}/{name}\")\n",
    "    if response.status_code == 200:\n",
    "        data = response.json()\n",
    "        return display(JSON(data))\n",
    "    else:\n",
    "        return f\"Error: {response.status_code}, {response.json()}\"\n",
    "\n",
    "name = 'Maria'\n",
    "get_by_name(name)"
   ],
   "id": "aedaba80130927e4",
   "outputs": [
    {
     "data": {
      "text/plain": [
       "<IPython.core.display.JSON object>"
      ],
      "application/json": {
       "email": "email@gmail.com",
       "id": 1,
       "name": "Maria",
       "phone": "+5524988808088"
      }
     },
     "metadata": {
      "application/json": {
       "expanded": false,
       "root": "root"
      }
     },
     "output_type": "display_data"
    }
   ],
   "execution_count": 6
  },
  {
   "metadata": {},
   "cell_type": "markdown",
   "source": "Requisição - CREATE",
   "id": "a5d0cebb5174df3e"
  },
  {
   "metadata": {
    "ExecuteTime": {
     "end_time": "2024-06-14T10:22:42.177644Z",
     "start_time": "2024-06-14T10:22:42.172741Z"
    }
   },
   "cell_type": "code",
   "source": [
    "#Enedpoint que registra na base\n",
    "def create(data):\n",
    "    headers = {'Content-Type': 'application/json'}\n",
    "    response = requests.post(f\"{BASE_URL}/\", json=data, headers=headers)\n",
    "    if response.status_code == 200:\n",
    "        data = response.json()\n",
    "        return display(JSON(data))\n",
    "    else:\n",
    "        return f\"Error: {response.status_code}, {response.json()}\"\n",
    "    \n",
    "\n",
    "#create(object)"
   ],
   "id": "552dcb58855dfcb9",
   "outputs": [],
   "execution_count": 7
  },
  {
   "metadata": {},
   "cell_type": "markdown",
   "source": "Requisição - UPDATE",
   "id": "991c29483658b7a9"
  },
  {
   "metadata": {
    "ExecuteTime": {
     "end_time": "2024-06-14T10:22:42.182572Z",
     "start_time": "2024-06-14T10:22:42.177644Z"
    }
   },
   "cell_type": "code",
   "source": [
    "#Enedpoint que atualiza um registro na base\n",
    "def update(id, data):\n",
    "    headers = {'Content-Type': 'application/json'}\n",
    "    response = requests.put(f\"{BASE_URL}/{id}\", json=data, headers=headers)\n",
    "    if response.status_code == 200:\n",
    "        data = response.json()\n",
    "        return display(JSON(data))\n",
    "    else:\n",
    "        return f\"Error: {response.status_code}, {response.json()}\"\n",
    "\n",
    "id = 2\n",
    "object = {\n",
    "    \"name\": \"Maria\",\n",
    "    \"email\": \"email@gmail.com\",\n",
    "    \"phone\": \"+5524988808088\"\n",
    "}\n",
    "#update(id, object)"
   ],
   "id": "4afdf429a742a2db",
   "outputs": [],
   "execution_count": 8
  },
  {
   "metadata": {},
   "cell_type": "markdown",
   "source": "Requisição - DELETE",
   "id": "d7122ac379dadb8a"
  },
  {
   "metadata": {
    "ExecuteTime": {
     "end_time": "2024-06-14T10:22:42.187017Z",
     "start_time": "2024-06-14T10:22:42.182572Z"
    }
   },
   "cell_type": "code",
   "source": [
    "#Enedpoint que deleta um registro da base\n",
    "def delete(id):\n",
    "    response = requests.delete(f\"{BASE_URL}/{id}\")\n",
    "    if response.status_code == 204:\n",
    "        return response.status_code\n",
    "    else:\n",
    "        return f\"Error: {response.status_code}, {response.json()}\"\n",
    "    \n",
    "id = 320\n",
    "#delete(id)"
   ],
   "id": "8eb8bcfdfd90c345",
   "outputs": [],
   "execution_count": 9
  },
  {
   "metadata": {},
   "cell_type": "markdown",
   "source": "Request - get_by_args_name",
   "id": "606d105cb777c5ab"
  },
  {
   "metadata": {
    "ExecuteTime": {
     "end_time": "2024-06-14T10:22:42.199213Z",
     "start_time": "2024-06-14T10:22:42.188025Z"
    }
   },
   "cell_type": "code",
   "source": [
    "def get_by_args(object_args):\n",
    "    query_string = '&'.join(f\"{key}={value}\" for key, value in object_args.items())\n",
    "    response = requests.get(f\"{BASE_URL}?{query_string}\")\n",
    "    \n",
    "    if response.status_code == 200:\n",
    "        data = response.json()\n",
    "        display(JSON(data)) \n",
    "    else:\n",
    "        return f\"Erro: {response.status_code}, {response.json()}\"\n",
    "\n",
    "get_by_args(object_args_name)"
   ],
   "id": "4e26357624fc217c",
   "outputs": [
    {
     "data": {
      "text/plain": [
       "<IPython.core.display.JSON object>"
      ],
      "application/json": [
       {
        "email": "email@gmail.com",
        "id": 1,
        "name": "Maria",
        "phone": "+5524988808088"
       },
       {
        "email": "email@gmail.com",
        "id": 2,
        "name": "Maria",
        "phone": "+5524988808088"
       },
       {
        "email": "email@gmail.com",
        "id": 3,
        "name": "Maria",
        "phone": "+5524988808088"
       },
       {
        "email": "email@gmail.com",
        "id": 4,
        "name": "Maria",
        "phone": "+5524988808088"
       },
       {
        "email": "email@gmail.com",
        "id": 5,
        "name": "Maria",
        "phone": "+5524988808088"
       }
      ]
     },
     "metadata": {
      "application/json": {
       "expanded": false,
       "root": "root"
      }
     },
     "output_type": "display_data"
    }
   ],
   "execution_count": 10
  },
  {
   "metadata": {},
   "cell_type": "markdown",
   "source": "Request - get_by_args_email",
   "id": "6ea1a4c4ea74dd82"
  },
  {
   "metadata": {
    "ExecuteTime": {
     "end_time": "2024-06-14T10:22:42.210831Z",
     "start_time": "2024-06-14T10:22:42.199213Z"
    }
   },
   "cell_type": "code",
   "source": [
    "def get_by_args(object_args):\n",
    "    query_string = '&'.join(f\"{key}={value}\" for key, value in object_args.items())\n",
    "    response = requests.get(f\"{BASE_URL}?{query_string}\")\n",
    "    \n",
    "    if response.status_code == 200:\n",
    "        data = response.json()\n",
    "        display(JSON(data)) \n",
    "    else:\n",
    "        return f\"Erro: {response.status_code}, {response.json()}\"\n",
    "\n",
    "get_by_args(object_args_email)"
   ],
   "id": "9518a7f5377e768a",
   "outputs": [
    {
     "data": {
      "text/plain": [
       "<IPython.core.display.JSON object>"
      ],
      "application/json": [
       {
        "email": "email@gmail.com",
        "id": 1,
        "name": "Maria",
        "phone": "+5524988808088"
       },
       {
        "email": "email@gmail.com",
        "id": 2,
        "name": "Maria",
        "phone": "+5524988808088"
       },
       {
        "email": "email@gmail.com",
        "id": 3,
        "name": "Maria",
        "phone": "+5524988808088"
       },
       {
        "email": "email@gmail.com",
        "id": 4,
        "name": "Maria",
        "phone": "+5524988808088"
       },
       {
        "email": "email@gmail.com",
        "id": 5,
        "name": "Maria",
        "phone": "+5524988808088"
       }
      ]
     },
     "metadata": {
      "application/json": {
       "expanded": false,
       "root": "root"
      }
     },
     "output_type": "display_data"
    }
   ],
   "execution_count": 11
  },
  {
   "metadata": {},
   "cell_type": "markdown",
   "source": "Request - get_by_args_phone",
   "id": "4bba4d61cbad43d6"
  },
  {
   "metadata": {
    "ExecuteTime": {
     "end_time": "2024-06-14T10:22:42.222979Z",
     "start_time": "2024-06-14T10:22:42.210831Z"
    }
   },
   "cell_type": "code",
   "source": [
    "def get_by_args(object_args):\n",
    "    query_string = '&'.join(f\"{key}={value}\" for key, value in object_args.items())\n",
    "    response = requests.get(f\"{BASE_URL}?{query_string}\")\n",
    "    \n",
    "    if response.status_code == 200:\n",
    "        data = response.json()\n",
    "        display(JSON(data)) \n",
    "    else:\n",
    "        return f\"Erro: {response.status_code}, {response.json()}\"\n",
    "\n",
    "get_by_args(object_args_phone)"
   ],
   "id": "fefa1eb7f332da46",
   "outputs": [
    {
     "data": {
      "text/plain": [
       "<IPython.core.display.JSON object>"
      ],
      "application/json": [
       {
        "email": "email@gmail.com",
        "id": 1,
        "name": "Maria",
        "phone": "+5524988808088"
       },
       {
        "email": "email@gmail.com",
        "id": 2,
        "name": "Maria",
        "phone": "+5524988808088"
       },
       {
        "email": "email@gmail.com",
        "id": 3,
        "name": "Maria",
        "phone": "+5524988808088"
       },
       {
        "email": "email@gmail.com",
        "id": 4,
        "name": "Maria",
        "phone": "+5524988808088"
       },
       {
        "email": "email@gmail.com",
        "id": 5,
        "name": "Maria",
        "phone": "+5524988808088"
       }
      ]
     },
     "metadata": {
      "application/json": {
       "expanded": false,
       "root": "root"
      }
     },
     "output_type": "display_data"
    }
   ],
   "execution_count": 12
  }
 ],
 "metadata": {
  "kernelspec": {
   "display_name": "Python 3 (ipykernel)",
   "name": "python3",
   "language": "python"
  },
  "language_info": {
   "name": ""
  }
 },
 "nbformat": 4,
 "nbformat_minor": 5
}
