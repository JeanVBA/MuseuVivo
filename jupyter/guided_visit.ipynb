{
 "cells": [
  {
   "cell_type": "code",
   "id": "initial_id",
   "metadata": {
    "collapsed": true,
    "ExecuteTime": {
     "end_time": "2024-06-14T10:34:51.548200Z",
     "start_time": "2024-06-14T10:34:51.539569Z"
    }
   },
   "source": [
    "import requests\n",
    "from IPython.display import display, JSON"
   ],
   "outputs": [],
   "execution_count": 50
  },
  {
   "metadata": {
    "ExecuteTime": {
     "end_time": "2024-06-14T10:34:51.580776Z",
     "start_time": "2024-06-14T10:34:51.570849Z"
    }
   },
   "cell_type": "code",
   "source": "BASE_URL = 'http://127.0.0.1:5000/guided_visit'",
   "id": "54ac21100b90a979",
   "outputs": [],
   "execution_count": 51
  },
  {
   "metadata": {
    "ExecuteTime": {
     "end_time": "2024-06-14T10:34:51.585710Z",
     "start_time": "2024-06-14T10:34:51.580776Z"
    }
   },
   "cell_type": "code",
   "source": [
    "object = {\n",
    "    'group': 'Group A',\n",
    "    'visit_date': '2025-01-20',\n",
    "    'hours': '12:00',\n",
    "    'responsible_guide_id': 1\n",
    "}\n",
    "\n",
    "\n",
    "object_args_group = {'name': 'Carlos Druino'}\n",
    "object_args_visit_date = {'visit_date': '2025-01-20'}\n",
    "object_args_hours = {'hours': '12:00:00'}\n",
    "object_args_responsible_guide = {'responsible_guide': 'Maria'}"
   ],
   "id": "748047bf41d793f8",
   "outputs": [],
   "execution_count": 52
  },
  {
   "metadata": {},
   "cell_type": "markdown",
   "source": "Request- get_all",
   "id": "6350f309215d9f4d"
  },
  {
   "metadata": {
    "ExecuteTime": {
     "end_time": "2024-06-14T10:34:51.598084Z",
     "start_time": "2024-06-14T10:34:51.586721Z"
    }
   },
   "cell_type": "code",
   "source": [
    "def get_all():\n",
    "    response = requests.get(f\"{BASE_URL}/\")\n",
    "    if response.status_code == 200:\n",
    "        data = response.json()\n",
    "        return display(JSON(data))\n",
    "    else:\n",
    "        return f\"Error: {response.status_code}\"\n",
    "\n",
    "get_all()"
   ],
   "id": "82cce447a27319b9",
   "outputs": [
    {
     "data": {
      "text/plain": [
       "<IPython.core.display.JSON object>"
      ],
      "application/json": [
       {
        "group": "Group A",
        "guide": {
         "name": "Maria"
        },
        "hours": "12:00:00",
        "id": 1,
        "visit_date": "Mon, 20 Jan 2025 00:00:00 GMT"
       },
       {
        "group": "LNCC",
        "guide": {
         "name": "Maria"
        },
        "hours": "14:30:00",
        "id": 2,
        "visit_date": "Wed, 12 Jun 2024 00:00:00 GMT"
       }
      ]
     },
     "metadata": {
      "application/json": {
       "expanded": false,
       "root": "root"
      }
     },
     "output_type": "display_data"
    }
   ],
   "execution_count": 53
  },
  {
   "metadata": {},
   "cell_type": "markdown",
   "source": "Request - get_by_id",
   "id": "153d48b8cc3cec29"
  },
  {
   "metadata": {
    "ExecuteTime": {
     "end_time": "2024-06-14T10:34:51.609281Z",
     "start_time": "2024-06-14T10:34:51.598084Z"
    }
   },
   "cell_type": "code",
   "source": [
    "def get_by_id(id):\n",
    "    response = requests.get(f\"{BASE_URL}/{id}\")\n",
    "    if response.status_code == 200:\n",
    "        data = response.json()\n",
    "        return display(JSON(data))\n",
    "    else:\n",
    "        return f\"Error: {response.status_code}, {response.json()}\"\n",
    "\n",
    "\n",
    "get_by_id(1)"
   ],
   "id": "cfa75a6e6695a3b5",
   "outputs": [
    {
     "data": {
      "text/plain": [
       "<IPython.core.display.JSON object>"
      ],
      "application/json": {
       "group": "Group A",
       "guide": {
        "name": "Maria"
       },
       "hours": "12:00:00",
       "id": 1,
       "visit_date": "Mon, 20 Jan 2025 00:00:00 GMT"
      }
     },
     "metadata": {
      "application/json": {
       "expanded": false,
       "root": "root"
      }
     },
     "output_type": "display_data"
    }
   ],
   "execution_count": 54
  },
  {
   "metadata": {},
   "cell_type": "markdown",
   "source": "Request - create",
   "id": "bffdd87fee3d40a2"
  },
  {
   "metadata": {
    "ExecuteTime": {
     "end_time": "2024-06-14T10:34:51.629132Z",
     "start_time": "2024-06-14T10:34:51.609281Z"
    }
   },
   "cell_type": "code",
   "source": [
    "def create(data):\n",
    "    headers = {'Content-Type': 'application/json'}\n",
    "    response = requests.post(f\"{BASE_URL}/\", json=data, headers=headers)\n",
    "    if response.status_code == 200:\n",
    "        data = response.json()\n",
    "        return display(JSON(data))\n",
    "    else:\n",
    "        return f\"Error: {response.status_code}, {response.json()}\"\n",
    "    \n",
    "create(object)"
   ],
   "id": "fa343c43cb6edc50",
   "outputs": [
    {
     "data": {
      "text/plain": [
       "<IPython.core.display.JSON object>"
      ],
      "application/json": {
       "group": "Group A",
       "guide": {
        "name": "Maria"
       },
       "hours": "12:00:00",
       "id": 3,
       "visit_date": "Mon, 20 Jan 2025 00:00:00 GMT"
      }
     },
     "metadata": {
      "application/json": {
       "expanded": false,
       "root": "root"
      }
     },
     "output_type": "display_data"
    }
   ],
   "execution_count": 55
  },
  {
   "metadata": {},
   "cell_type": "markdown",
   "source": "Request - update",
   "id": "d42fcc368c67fbf"
  },
  {
   "metadata": {
    "ExecuteTime": {
     "end_time": "2024-06-14T10:34:51.652397Z",
     "start_time": "2024-06-14T10:34:51.629132Z"
    }
   },
   "cell_type": "code",
   "source": [
    "def update(id, data):\n",
    "    headers = {'Content-Type': 'application/json'}\n",
    "    response = requests.put(f\"{BASE_URL}/{id}\", json=data, headers=headers)\n",
    "    if response.status_code == 200:\n",
    "        data = response.json()\n",
    "        return display(JSON(data))\n",
    "    else:\n",
    "        return f\"Error: {response.status_code}, {response.json()}\"\n",
    "\n",
    "id = 1\n",
    "update(id, object)"
   ],
   "id": "fb8f912389b8f312",
   "outputs": [
    {
     "data": {
      "text/plain": [
       "<IPython.core.display.JSON object>"
      ],
      "application/json": {
       "group": "Group A",
       "guide": {
        "name": "Maria"
       },
       "hours": "12:00:00",
       "id": 1,
       "visit_date": "Mon, 20 Jan 2025 00:00:00 GMT"
      }
     },
     "metadata": {
      "application/json": {
       "expanded": false,
       "root": "root"
      }
     },
     "output_type": "display_data"
    }
   ],
   "execution_count": 56
  },
  {
   "metadata": {},
   "cell_type": "markdown",
   "source": "Request - delete",
   "id": "587f0f2045519381"
  },
  {
   "metadata": {
    "ExecuteTime": {
     "end_time": "2024-06-14T10:34:51.662421Z",
     "start_time": "2024-06-14T10:34:51.652397Z"
    }
   },
   "cell_type": "code",
   "source": [
    "def delete(id):\n",
    "    response = requests.delete(f\"{BASE_URL}/{id}\")\n",
    "    if response.status_code == 204:\n",
    "        return response.status_code\n",
    "    else:\n",
    "        return f\"Error: {response.status_code}, {response.json()}\"\n",
    "\n",
    "id = 122\n",
    "delete(122)"
   ],
   "id": "8ffc8d53057af900",
   "outputs": [
    {
     "data": {
      "text/plain": [
       "\"Error: 404, {'error': 'Guided Visit not found'}\""
      ]
     },
     "execution_count": 57,
     "metadata": {},
     "output_type": "execute_result"
    }
   ],
   "execution_count": 57
  },
  {
   "metadata": {},
   "cell_type": "markdown",
   "source": "Request - get_by_args_group",
   "id": "c54dde46e9cb6560"
  },
  {
   "metadata": {
    "ExecuteTime": {
     "end_time": "2024-06-14T10:34:51.673611Z",
     "start_time": "2024-06-14T10:34:51.662421Z"
    }
   },
   "cell_type": "code",
   "source": [
    "def get_by_args(object_args):\n",
    "    query_string = '&'.join(f\"{key}={value}\" for key, value in object_args.items())\n",
    "    response = requests.get(f\"{BASE_URL}?{query_string}\")\n",
    "    \n",
    "    if response.status_code == 200:\n",
    "        data = response.json()\n",
    "        display(JSON(data))  # Exibe os dados em formato JSON\n",
    "    else:\n",
    "        return f\"Erro: {response.status_code}, {response.json()}\"\n",
    "\n",
    "\n",
    "get_by_args(object_args_group)"
   ],
   "id": "2acd496ea9edb58e",
   "outputs": [
    {
     "data": {
      "text/plain": [
       "<IPython.core.display.JSON object>"
      ],
      "application/json": [
       {
        "group": "Group A",
        "guide": {
         "name": "Maria"
        },
        "hours": "12:00:00",
        "id": 1,
        "visit_date": "Mon, 20 Jan 2025 00:00:00 GMT"
       },
       {
        "group": "LNCC",
        "guide": {
         "name": "Maria"
        },
        "hours": "14:30:00",
        "id": 2,
        "visit_date": "Wed, 12 Jun 2024 00:00:00 GMT"
       },
       {
        "group": "Group A",
        "guide": {
         "name": "Maria"
        },
        "hours": "12:00:00",
        "id": 3,
        "visit_date": "Mon, 20 Jan 2025 00:00:00 GMT"
       }
      ]
     },
     "metadata": {
      "application/json": {
       "expanded": false,
       "root": "root"
      }
     },
     "output_type": "display_data"
    }
   ],
   "execution_count": 58
  },
  {
   "metadata": {},
   "cell_type": "markdown",
   "source": "Request - get_by_args_visit_date",
   "id": "caf2c45da40f1944"
  },
  {
   "metadata": {
    "ExecuteTime": {
     "end_time": "2024-06-14T10:34:51.687654Z",
     "start_time": "2024-06-14T10:34:51.673611Z"
    }
   },
   "cell_type": "code",
   "source": [
    "def get_by_args(object_args):\n",
    "    query_string = '&'.join(f\"{key}={value}\" for key, value in object_args.items())\n",
    "    response = requests.get(f\"{BASE_URL}?{query_string}\")\n",
    "    \n",
    "    if response.status_code == 200:\n",
    "        data = response.json()\n",
    "        display(JSON(data))  # Exibe os dados em formato JSON\n",
    "    else:\n",
    "        return f\"Erro: {response.status_code}, {response.json()}\"\n",
    "\n",
    "\n",
    "get_by_args(object_args_visit_date)"
   ],
   "id": "e9ee7bc1b56701",
   "outputs": [
    {
     "data": {
      "text/plain": [
       "<IPython.core.display.JSON object>"
      ],
      "application/json": [
       {
        "group": "Group A",
        "guide": {
         "name": "Maria"
        },
        "hours": "12:00:00",
        "id": 1,
        "visit_date": "Mon, 20 Jan 2025 00:00:00 GMT"
       },
       {
        "group": "Group A",
        "guide": {
         "name": "Maria"
        },
        "hours": "12:00:00",
        "id": 3,
        "visit_date": "Mon, 20 Jan 2025 00:00:00 GMT"
       }
      ]
     },
     "metadata": {
      "application/json": {
       "expanded": false,
       "root": "root"
      }
     },
     "output_type": "display_data"
    }
   ],
   "execution_count": 59
  },
  {
   "metadata": {},
   "cell_type": "markdown",
   "source": "Request - get_by_args_hours",
   "id": "bf540c5566dcda60"
  },
  {
   "metadata": {
    "ExecuteTime": {
     "end_time": "2024-06-14T10:34:51.698910Z",
     "start_time": "2024-06-14T10:34:51.687654Z"
    }
   },
   "cell_type": "code",
   "source": [
    "def get_by_args(object_args):\n",
    "    query_string = '&'.join(f\"{key}={value}\" for key, value in object_args.items())\n",
    "    response = requests.get(f\"{BASE_URL}?{query_string}\")\n",
    "    \n",
    "    if response.status_code == 200:\n",
    "        data = response.json()\n",
    "        display(JSON(data))  # Exibe os dados em formato JSON\n",
    "    else:\n",
    "        return f\"Erro: {response.status_code}, {response.json()}\"\n",
    "\n",
    "\n",
    "get_by_args(object_args_hours)"
   ],
   "id": "6796c4c45a24d60c",
   "outputs": [
    {
     "data": {
      "text/plain": [
       "<IPython.core.display.JSON object>"
      ],
      "application/json": [
       {
        "group": "Group A",
        "guide": {
         "name": "Maria"
        },
        "hours": "12:00:00",
        "id": 1,
        "visit_date": "Mon, 20 Jan 2025 00:00:00 GMT"
       },
       {
        "group": "Group A",
        "guide": {
         "name": "Maria"
        },
        "hours": "12:00:00",
        "id": 3,
        "visit_date": "Mon, 20 Jan 2025 00:00:00 GMT"
       }
      ]
     },
     "metadata": {
      "application/json": {
       "expanded": false,
       "root": "root"
      }
     },
     "output_type": "display_data"
    }
   ],
   "execution_count": 60
  },
  {
   "metadata": {},
   "cell_type": "markdown",
   "source": "Request - get_by_args_responsible_guide_name",
   "id": "ebdd320cd3e66469"
  },
  {
   "metadata": {
    "ExecuteTime": {
     "end_time": "2024-06-14T10:34:51.715484Z",
     "start_time": "2024-06-14T10:34:51.698910Z"
    }
   },
   "cell_type": "code",
   "source": [
    "def get_by_args(object_args):\n",
    "    query_string = '&'.join(f\"{key}={value}\" for key, value in object_args.items())\n",
    "    response = requests.get(f\"{BASE_URL}?{query_string}\")\n",
    "    \n",
    "    if response.status_code == 200:\n",
    "        data = response.json()\n",
    "        display(JSON(data))  # Exibe os dados em formato JSON\n",
    "    else:\n",
    "        return f\"Erro: {response.status_code}, {response.json()}\"\n",
    "\n",
    "\n",
    "get_by_args(object_args_responsible_guide)"
   ],
   "id": "efb369cb99993766",
   "outputs": [
    {
     "data": {
      "text/plain": [
       "<IPython.core.display.JSON object>"
      ],
      "application/json": [
       {
        "group": "Group A",
        "guide": {
         "name": "Maria"
        },
        "hours": "12:00:00",
        "id": 1,
        "visit_date": "Mon, 20 Jan 2025 00:00:00 GMT"
       },
       {
        "group": "LNCC",
        "guide": {
         "name": "Maria"
        },
        "hours": "14:30:00",
        "id": 2,
        "visit_date": "Wed, 12 Jun 2024 00:00:00 GMT"
       },
       {
        "group": "Group A",
        "guide": {
         "name": "Maria"
        },
        "hours": "12:00:00",
        "id": 3,
        "visit_date": "Mon, 20 Jan 2025 00:00:00 GMT"
       }
      ]
     },
     "metadata": {
      "application/json": {
       "expanded": false,
       "root": "root"
      }
     },
     "output_type": "display_data"
    }
   ],
   "execution_count": 61
  }
 ],
 "metadata": {
  "kernelspec": {
   "display_name": "Python 3",
   "language": "python",
   "name": "python3"
  },
  "language_info": {
   "codemirror_mode": {
    "name": "ipython",
    "version": 2
   },
   "file_extension": ".py",
   "mimetype": "text/x-python",
   "name": "python",
   "nbconvert_exporter": "python",
   "pygments_lexer": "ipython2",
   "version": "2.7.6"
  }
 },
 "nbformat": 4,
 "nbformat_minor": 5
}
