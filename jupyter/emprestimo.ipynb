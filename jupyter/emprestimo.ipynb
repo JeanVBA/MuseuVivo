{
 "cells": [
  {
   "metadata": {},
   "cell_type": "markdown",
   "source": "Importações e configurações bases",
   "id": "13a4aa73227264d6"
  },
  {
   "metadata": {
    "ExecuteTime": {
     "end_time": "2024-06-04T23:26:26.539904Z",
     "start_time": "2024-06-04T23:26:26.536598Z"
    }
   },
   "cell_type": "code",
   "source": [
    "import requests\n",
    "from IPython.display import display, JSON"
   ],
   "id": "bfa88d3a0afbfa81",
   "outputs": [],
   "execution_count": 31
  },
  {
   "metadata": {
    "ExecuteTime": {
     "end_time": "2024-06-04T23:26:26.568866Z",
     "start_time": "2024-06-04T23:26:26.565965Z"
    }
   },
   "cell_type": "code",
   "source": "BASE_URL = 'http://127.0.0.1:5000/emprestimo'",
   "id": "e462f35484182ef0",
   "outputs": [],
   "execution_count": 32
  },
  {
   "metadata": {},
   "cell_type": "markdown",
   "source": "Requisição - GET_ALL",
   "id": "3893f899c7d97e7f"
  },
  {
   "metadata": {
    "ExecuteTime": {
     "end_time": "2024-06-04T23:26:26.654308Z",
     "start_time": "2024-06-04T23:26:26.569872Z"
    }
   },
   "cell_type": "code",
   "source": [
    "#Endpoint que buscara todos os registros\n",
    "def get_all():\n",
    "    response = requests.get(f\"{BASE_URL}/\")\n",
    "    if response.status_code == 200:\n",
    "        data = response.json()\n",
    "        return display(JSON(data))\n",
    "    else:\n",
    "        return f\"Error: {response.status_code}\"\n",
    "\n",
    "\n",
    "get_all()"
   ],
   "id": "6cdb8ab79d55b242",
   "outputs": [
    {
     "data": {
      "text/plain": [
       "<IPython.core.display.JSON object>"
      ],
      "application/json": [
       {
        "data_emprestimo": "Thu, 23 May 2024 00:00:00 GMT",
        "data_retorno": "Thu, 30 May 2024 00:00:00 GMT",
        "id": 4,
        "instituicao": "UCP",
        "obra": {
         "autor": "Leonardo da Vinci",
         "data_criacao": "Tue, 25 Jun 1489 00:00:00 GMT",
         "descricao": "Pintura de uma jovem mulher",
         "id": 1,
         "localizacao": null,
         "nome": "Monalisa",
         "tipo": "Pintura"
        }
       },
       {
        "data_emprestimo": "Thu, 23 May 2024 00:00:00 GMT",
        "data_retorno": "Thu, 30 May 2024 00:00:00 GMT",
        "id": 5,
        "instituicao": "UCP",
        "obra": {
         "autor": "Leonardo da Vinci",
         "data_criacao": "Sun, 01 Feb 1632 00:00:00 GMT",
         "descricao": "Escultura de um homem pensando",
         "id": 2,
         "localizacao": null,
         "nome": "O pensador",
         "tipo": "Escultura"
        }
       },
       {
        "data_emprestimo": "Thu, 23 May 2024 00:00:00 GMT",
        "data_retorno": "Sun, 30 Jun 2024 00:00:00 GMT",
        "id": 6,
        "instituicao": "LNCC",
        "obra": {
         "autor": "Leonardo da Vinci",
         "data_criacao": "Sun, 01 Feb 1632 00:00:00 GMT",
         "descricao": "Escultura de um homem pensando",
         "id": 2,
         "localizacao": null,
         "nome": "O pensador",
         "tipo": "Escultura"
        }
       },
       {
        "data_emprestimo": "Thu, 23 May 2024 00:00:00 GMT",
        "data_retorno": "Thu, 30 May 2024 00:00:00 GMT",
        "id": 7,
        "instituicao": "LNCC",
        "obra": {
         "autor": "Leonardo da Vinci",
         "data_criacao": "Sun, 01 Feb 1632 00:00:00 GMT",
         "descricao": "Escultura de um homem pensando",
         "id": 2,
         "localizacao": null,
         "nome": "O pensador",
         "tipo": "Escultura"
        }
       },
       {
        "data_emprestimo": "Sun, 01 Jan 2023 00:00:00 GMT",
        "data_retorno": "Sun, 15 Jan 2023 00:00:00 GMT",
        "id": 8,
        "instituicao": "UCP",
        "obra": {
         "autor": "Johannes Vermeer",
         "data_criacao": "Tue, 01 Jan 1884 00:00:00 GMT",
         "descricao": "Pintura de Georges Seurat",
         "id": 26,
         "localizacao": "Armazém 3",
         "nome": "Tarde de Domingo na Ilha de Grande Jatte",
         "tipo": "Pintura"
        }
       },
       {
        "data_emprestimo": "Wed, 01 Feb 2023 00:00:00 GMT",
        "data_retorno": "Wed, 15 Feb 2023 00:00:00 GMT",
        "id": 9,
        "instituicao": "LNCC",
        "obra": {
         "autor": "Edgar Degas",
         "data_criacao": "Thu, 01 Jan 1863 00:00:00 GMT",
         "descricao": "Pintura de Édouard Manet",
         "id": 27,
         "localizacao": "Armazém 4",
         "nome": "Olympia",
         "tipo": "Pintura"
        }
       },
       {
        "data_emprestimo": "Wed, 01 Mar 2023 00:00:00 GMT",
        "data_retorno": "Wed, 15 Mar 2023 00:00:00 GMT",
        "id": 10,
        "instituicao": "LNCC",
        "obra": {
         "autor": "Donatelo",
         "data_criacao": "Thu, 08 Sep 1504 00:00:00 GMT",
         "descricao": "Escultura renascentista de Michelangelo",
         "id": 13,
         "localizacao": "Ala-Oeste",
         "nome": "David",
         "tipo": "Escultura"
        }
       },
       {
        "data_emprestimo": "Sat, 01 Apr 2023 00:00:00 GMT",
        "data_retorno": "Sat, 15 Apr 2023 00:00:00 GMT",
        "id": 11,
        "instituicao": "LNCC",
        "obra": {
         "autor": "Pablo Picasso",
         "data_criacao": "Tue, 01 Jun 1937 00:00:00 GMT",
         "descricao": "Pintura de Pablo Picasso",
         "id": 14,
         "localizacao": "Galeria 1",
         "nome": "Guernica",
         "tipo": "Pintura"
        }
       },
       {
        "data_emprestimo": "Mon, 01 May 2023 00:00:00 GMT",
        "data_retorno": "Mon, 15 May 2023 00:00:00 GMT",
        "id": 12,
        "instituicao": "Louvre Museum",
        "obra": {
         "autor": "Paul Cézanne",
         "data_criacao": "Fri, 01 Jan 1819 00:00:00 GMT",
         "descricao": "Pintura de Goya",
         "id": 28,
         "localizacao": "Armazém 5",
         "nome": "Saturno Devorando um Filho",
         "tipo": "Pintura"
        }
       },
       {
        "data_emprestimo": "Thu, 01 Jun 2023 00:00:00 GMT",
        "data_retorno": "Thu, 15 Jun 2023 00:00:00 GMT",
        "id": 13,
        "instituicao": "Metropolitan Museum of Art",
        "obra": {
         "autor": "Henri Matisse",
         "data_criacao": "Fri, 01 Jan 1599 00:00:00 GMT",
         "descricao": "Pintura de Caravaggio",
         "id": 29,
         "localizacao": "Sala de Exposições 1",
         "nome": "A Vocação de São Mateus",
         "tipo": "Pintura"
        }
       },
       {
        "data_emprestimo": "Sat, 01 Jul 2023 00:00:00 GMT",
        "data_retorno": "Sat, 15 Jul 2023 00:00:00 GMT",
        "id": 14,
        "instituicao": "British Museum",
        "obra": {
         "autor": "Frida Kahlo",
         "data_criacao": "Sat, 01 Jan 1927 00:00:00 GMT",
         "descricao": "Pintura de Georgia O Keeffe",
         "id": 30,
         "localizacao": "Sala de Exposições 2",
         "nome": "Papoilas",
         "tipo": "Pintura"
        }
       },
       {
        "data_emprestimo": "Tue, 01 Aug 2023 00:00:00 GMT",
        "data_retorno": "Tue, 15 Aug 2023 00:00:00 GMT",
        "id": 15,
        "instituicao": "Rijksmuseum",
        "obra": {
         "autor": "Jackson Pollock",
         "data_criacao": "Sun, 01 Jan 1893 00:00:00 GMT",
         "descricao": "Pintura de Edvard Munch",
         "id": 31,
         "localizacao": "Sala de Exposições 3",
         "nome": "O Grito",
         "tipo": "Pintura"
        }
       },
       {
        "data_emprestimo": "Fri, 01 Sep 2023 00:00:00 GMT",
        "data_retorno": "Fri, 15 Sep 2023 00:00:00 GMT",
        "id": 16,
        "instituicao": "Museo del Prado",
        "obra": {
         "autor": "Andy Warhol",
         "data_criacao": "Fri, 01 Jan 1509 00:00:00 GMT",
         "descricao": "Pintura de Raphael",
         "id": 32,
         "localizacao": "Sala de Exposições 4",
         "nome": "A Escola de Atenas",
         "tipo": "Pintura"
        }
       },
       {
        "data_emprestimo": "Sun, 01 Oct 2023 00:00:00 GMT",
        "data_retorno": "Sun, 15 Oct 2023 00:00:00 GMT",
        "id": 17,
        "instituicao": "Uffizi Gallery",
        "obra": {
         "autor": "Gustav Klimt",
         "data_criacao": "Sat, 01 Jan 1538 00:00:00 GMT",
         "descricao": "Pintura de Titian",
         "id": 33,
         "localizacao": "Sala de Exposições 5",
         "nome": "Vênus de Urbino",
         "tipo": "Pintura"
        }
       },
       {
        "data_emprestimo": "Wed, 01 Nov 2023 00:00:00 GMT",
        "data_retorno": "Wed, 15 Nov 2023 00:00:00 GMT",
        "id": 18,
        "instituicao": "National Gallery",
        "obra": {
         "autor": "Georges Seurat",
         "data_criacao": "Mon, 01 Jan 1500 00:00:00 GMT",
         "descricao": "Pintura de Albrecht Dürer",
         "id": 34,
         "localizacao": "Auditório 1",
         "nome": "Autorretrato com Coelho",
         "tipo": "Pintura"
        }
       },
       {
        "data_emprestimo": "Fri, 01 Dec 2023 00:00:00 GMT",
        "data_retorno": "Fri, 15 Dec 2023 00:00:00 GMT",
        "id": 19,
        "instituicao": "Hermitage Museum",
        "obra": {
         "autor": "Édouard Manet",
         "data_criacao": "Wed, 01 Jan 1620 00:00:00 GMT",
         "descricao": "Pintura de Peter Paul Rubens",
         "id": 35,
         "localizacao": "Auditório 2",
         "nome": "A Queda dos Anjos Rebeldes",
         "tipo": "Pintura"
        }
       },
       {
        "data_emprestimo": "Mon, 01 Jan 2024 00:00:00 GMT",
        "data_retorno": "Mon, 15 Jan 2024 00:00:00 GMT",
        "id": 20,
        "instituicao": "Tate Modern",
        "obra": {
         "autor": "Michelangelo",
         "data_criacao": "Sat, 01 Jan 1910 00:00:00 GMT",
         "descricao": "Pintura de Henri Matisse",
         "id": 21,
         "localizacao": "Galeria 8",
         "nome": "A Dança",
         "tipo": "Pintura"
        }
       },
       {
        "data_emprestimo": "Thu, 01 Feb 2024 00:00:00 GMT",
        "data_retorno": "Thu, 15 Feb 2024 00:00:00 GMT",
        "id": 21,
        "instituicao": "Centre Pompidou",
        "obra": {
         "autor": "Leonardo da Vinci",
         "data_criacao": "Sat, 01 Jun 1889 00:00:00 GMT",
         "descricao": "Pintura pós-impressionista de Vincent van Gogh",
         "id": 12,
         "localizacao": "Ala-Oeste",
         "nome": "A Noite Estrelada",
         "tipo": "Pintura"
        }
       },
       {
        "data_emprestimo": "Fri, 01 Mar 2024 00:00:00 GMT",
        "data_retorno": "Fri, 15 Mar 2024 00:00:00 GMT",
        "id": 22,
        "instituicao": "Art Institute of Chicago",
        "obra": {
         "autor": "Donatelo",
         "data_criacao": "Thu, 08 Sep 1504 00:00:00 GMT",
         "descricao": "Escultura renascentista de Michelangelo",
         "id": 13,
         "localizacao": "Ala-Oeste",
         "nome": "David",
         "tipo": "Escultura"
        }
       },
       {
        "data_emprestimo": "Mon, 01 Apr 2024 00:00:00 GMT",
        "data_retorno": "Mon, 15 Apr 2024 00:00:00 GMT",
        "id": 23,
        "instituicao": "LNCC",
        "obra": {
         "autor": "Pablo Picasso",
         "data_criacao": "Tue, 01 Jun 1937 00:00:00 GMT",
         "descricao": "Pintura de Pablo Picasso",
         "id": 14,
         "localizacao": "Galeria 1",
         "nome": "Guernica",
         "tipo": "Pintura"
        }
       },
       {
        "data_emprestimo": "Wed, 01 May 2024 00:00:00 GMT",
        "data_retorno": "Wed, 15 May 2024 00:00:00 GMT",
        "id": 24,
        "instituicao": "Metropolitan Museum of Art",
        "obra": {
         "autor": "Frida Kahlo",
         "data_criacao": "Sun, 01 Jan 1939 00:00:00 GMT",
         "descricao": "Pintura de Frida Kahlo",
         "id": 22,
         "localizacao": "Galeria 9",
         "nome": "As Duas Fridas",
         "tipo": "Pintura"
        }
       },
       {
        "data_emprestimo": "Sat, 01 Jun 2024 00:00:00 GMT",
        "data_retorno": "Sat, 15 Jun 2024 00:00:00 GMT",
        "id": 25,
        "instituicao": "Museo del Prado",
        "obra": {
         "autor": "Claude Monet",
         "data_criacao": "Tue, 01 Jan 1952 00:00:00 GMT",
         "descricao": "Pintura de Jackson Pollock",
         "id": 23,
         "localizacao": "Galeria 10",
         "nome": "Convergência",
         "tipo": "Pintura"
        }
       },
       {
        "data_emprestimo": "Mon, 01 Jul 2024 00:00:00 GMT",
        "data_retorno": "Mon, 15 Jul 2024 00:00:00 GMT",
        "id": 26,
        "instituicao": "Rijksmuseum",
        "obra": {
         "autor": "Michelangelo",
         "data_criacao": "Sat, 01 Jan 1910 00:00:00 GMT",
         "descricao": "Pintura de Henri Matisse",
         "id": 21,
         "localizacao": "Galeria 8",
         "nome": "A Dança",
         "tipo": "Pintura"
        }
       },
       {
        "data_emprestimo": "Thu, 01 Aug 2024 00:00:00 GMT",
        "data_retorno": "Thu, 15 Aug 2024 00:00:00 GMT",
        "id": 27,
        "instituicao": "Louvre Museum",
        "obra": {
         "autor": "Vincent van Gogh",
         "data_criacao": "Fri, 01 Jan 1904 00:00:00 GMT",
         "descricao": "Pintura de Paul Cézanne",
         "id": 20,
         "localizacao": "Galeria 7",
         "nome": "A Montanha Sainte-Victoire",
         "tipo": "Pintura"
        }
       },
       {
        "data_emprestimo": "Sun, 01 Sep 2024 00:00:00 GMT",
        "data_retorno": "Sun, 15 Sep 2024 00:00:00 GMT",
        "id": 28,
        "instituicao": "National Gallery of Art",
        "obra": {
         "autor": "Leonardo da Vinci",
         "data_criacao": "Sat, 01 Jan 1881 00:00:00 GMT",
         "descricao": "Escultura de Edgar Degas",
         "id": 19,
         "localizacao": "Galeria 6",
         "nome": "A Pequena Bailarina de Quatorze Anos",
         "tipo": "Escultura"
        }
       },
       {
        "data_emprestimo": "Tue, 01 Oct 2024 00:00:00 GMT",
        "data_retorno": "Tue, 15 Oct 2024 00:00:00 GMT",
        "id": 29,
        "instituicao": "Museo Reina Sofía",
        "obra": {
         "autor": "Mozart",
         "data_criacao": "Thu, 01 Jan 1665 00:00:00 GMT",
         "descricao": "Pintura de Johannes Vermeer",
         "id": 18,
         "localizacao": "Galeria 5",
         "nome": "Moça com Brinco de Pérola",
         "tipo": "Pintura"
        }
       },
       {
        "data_emprestimo": "Fri, 01 Nov 2024 00:00:00 GMT",
        "data_retorno": "Fri, 15 Nov 2024 00:00:00 GMT",
        "id": 30,
        "instituicao": "Uffizi Gallery",
        "obra": {
         "autor": "Mozart",
         "data_criacao": "Wed, 01 Jan 1642 00:00:00 GMT",
         "descricao": "Pintura de Rembrandt",
         "id": 17,
         "localizacao": "Galeria 4",
         "nome": "A Ronda Noturna",
         "tipo": "Pintura"
        }
       },
       {
        "data_emprestimo": "Sun, 01 Dec 2024 00:00:00 GMT",
        "data_retorno": "Sun, 15 Dec 2024 00:00:00 GMT",
        "id": 31,
        "instituicao": "Tate Modern",
        "obra": {
         "autor": "Van Gogh",
         "data_criacao": "Thu, 01 Jan 1931 00:00:00 GMT",
         "descricao": "Pintura surrealista de Salvador Dalí",
         "id": 16,
         "localizacao": "Galeria 3",
         "nome": "A Persistência da Memória",
         "tipo": "Pintura"
        }
       },
       {
        "data_emprestimo": "Wed, 01 Jan 2025 00:00:00 GMT",
        "data_retorno": "Wed, 15 Jan 2025 00:00:00 GMT",
        "id": 32,
        "instituicao": "MAM Rio",
        "obra": {
         "autor": "Rafael",
         "data_criacao": "Mon, 01 Apr 1872 00:00:00 GMT",
         "descricao": "Obra impressionista de Claude Monet",
         "id": 15,
         "localizacao": "Galeria 2",
         "nome": "Impressão, nascer do sol",
         "tipo": "Pintura"
        }
       }
      ]
     },
     "metadata": {
      "application/json": {
       "expanded": false,
       "root": "root"
      }
     },
     "output_type": "display_data"
    }
   ],
   "execution_count": 33
  },
  {
   "metadata": {},
   "cell_type": "markdown",
   "source": "Requisição - GET_BY_ID",
   "id": "97fe1138d059fec2"
  },
  {
   "metadata": {
    "ExecuteTime": {
     "end_time": "2024-06-04T23:26:26.671861Z",
     "start_time": "2024-06-04T23:26:26.655316Z"
    }
   },
   "cell_type": "code",
   "source": [
    "#Endpoint que buscara o registro com base no id passado na URL\n",
    "def get_by_id(id):\n",
    "    response = requests.get(f\"{BASE_URL}/{id}\")\n",
    "    if response.status_code == 200:\n",
    "        data = response.json()\n",
    "        return display(JSON(data))\n",
    "    else:\n",
    "        return f\"Error: {response.status_code}, {response.json()}\"\n",
    "\n",
    "\n",
    "get_by_id(23)"
   ],
   "id": "a0d9e1b3741dbd25",
   "outputs": [
    {
     "data": {
      "text/plain": [
       "<IPython.core.display.JSON object>"
      ],
      "application/json": {
       "data_emprestimo": "Mon, 01 Apr 2024 00:00:00 GMT",
       "data_retorno": "Mon, 15 Apr 2024 00:00:00 GMT",
       "id": 23,
       "instituicao": "LNCC",
       "obra": {
        "autor": "Pablo Picasso",
        "data_criacao": "Tue, 01 Jun 1937 00:00:00 GMT",
        "descricao": "Pintura de Pablo Picasso",
        "id": 14,
        "localizacao": "Galeria 1",
        "nome": "Guernica",
        "tipo": "Pintura"
       }
      }
     },
     "metadata": {
      "application/json": {
       "expanded": false,
       "root": "root"
      }
     },
     "output_type": "display_data"
    }
   ],
   "execution_count": 34
  },
  {
   "metadata": {},
   "cell_type": "markdown",
   "source": "Requisição - GET_BY_NAME",
   "id": "55fa87eb16195bb9"
  },
  {
   "metadata": {
    "ExecuteTime": {
     "end_time": "2024-06-04T23:26:26.693326Z",
     "start_time": "2024-06-04T23:26:26.672868Z"
    }
   },
   "cell_type": "code",
   "source": [
    "#Endpoint que buscara o registro com base no nome passado na URL\n",
    "def get_by_name(name):\n",
    "    response = requests.get(f\"{BASE_URL}/instituicao/{name}\")\n",
    "    if response.status_code == 200:\n",
    "        data = response.json()\n",
    "        return display(JSON(data))\n",
    "    else:\n",
    "        return f\"Error: {response.status_code}, {response.json()}\"\n",
    "\n",
    "name = 'Uffizi Gallery'\n",
    "get_by_name(name)"
   ],
   "id": "aedaba80130927e4",
   "outputs": [
    {
     "data": {
      "text/plain": [
       "<IPython.core.display.JSON object>"
      ],
      "application/json": [
       {
        "data_emprestimo": "Sun, 01 Oct 2023 00:00:00 GMT",
        "data_retorno": "Sun, 15 Oct 2023 00:00:00 GMT",
        "id": 17,
        "instituicao": "Uffizi Gallery",
        "obra": {
         "autor": "Gustav Klimt",
         "data_criacao": "Sat, 01 Jan 1538 00:00:00 GMT",
         "descricao": "Pintura de Titian",
         "id": 33,
         "localizacao": "Sala de Exposições 5",
         "nome": "Vênus de Urbino",
         "tipo": "Pintura"
        }
       },
       {
        "data_emprestimo": "Fri, 01 Nov 2024 00:00:00 GMT",
        "data_retorno": "Fri, 15 Nov 2024 00:00:00 GMT",
        "id": 30,
        "instituicao": "Uffizi Gallery",
        "obra": {
         "autor": "Mozart",
         "data_criacao": "Wed, 01 Jan 1642 00:00:00 GMT",
         "descricao": "Pintura de Rembrandt",
         "id": 17,
         "localizacao": "Galeria 4",
         "nome": "A Ronda Noturna",
         "tipo": "Pintura"
        }
       }
      ]
     },
     "metadata": {
      "application/json": {
       "expanded": false,
       "root": "root"
      }
     },
     "output_type": "display_data"
    }
   ],
   "execution_count": 35
  },
  {
   "metadata": {},
   "cell_type": "markdown",
   "source": "Requisição - CREATE",
   "id": "a5d0cebb5174df3e"
  },
  {
   "metadata": {
    "ExecuteTime": {
     "end_time": "2024-06-04T23:26:26.703066Z",
     "start_time": "2024-06-04T23:26:26.694332Z"
    }
   },
   "cell_type": "code",
   "source": [
    "#Enedpoint que registra na base\n",
    "def create(data):\n",
    "    headers = {'Content-Type': 'application/json'}\n",
    "    response = requests.post(f\"{BASE_URL}/\", json=data, headers=headers)\n",
    "    if response.status_code == 200:\n",
    "        data = response.json()\n",
    "        return display(JSON(data))\n",
    "    else:\n",
    "        return f\"Error: {response.status_code}, {response.json()}\"\n",
    "    \n",
    "object = {\n",
    "    \"obra_id\": 2,\n",
    "    \"data_emprestimo\": \"2024-05-23\",\n",
    "    \"data_retorno\": \"2024-05-30\",\n",
    "    \"instituicao_id\": 2\n",
    "}\n",
    "create(object)"
   ],
   "id": "552dcb58855dfcb9",
   "outputs": [
    {
     "data": {
      "text/plain": [
       "\"Error: 400, {'error': 'A data do retorno não pode ser antes da data atual'}\""
      ]
     },
     "execution_count": 36,
     "metadata": {},
     "output_type": "execute_result"
    }
   ],
   "execution_count": 36
  },
  {
   "metadata": {},
   "cell_type": "markdown",
   "source": "Requisição - UPDATE",
   "id": "991c29483658b7a9"
  },
  {
   "metadata": {
    "ExecuteTime": {
     "end_time": "2024-06-04T23:26:26.722797Z",
     "start_time": "2024-06-04T23:26:26.703066Z"
    }
   },
   "cell_type": "code",
   "source": [
    "#Enedpoint que atualiza um registro na base\n",
    "def update(id, data):\n",
    "    headers = {'Content-Type': 'application/json'}\n",
    "    response = requests.put(f\"{BASE_URL}/{id}\", json=data, headers=headers)\n",
    "    if response.status_code == 200:\n",
    "        data = response.json()\n",
    "        return display(JSON(data))\n",
    "    else:\n",
    "        return f\"Error: {response.status_code}, {response.json()}\"\n",
    "\n",
    "id = 6\n",
    "object = {\n",
    "    \"obra_id\": 2,\n",
    "    \"data_emprestimo\": \"2024-05-23\",\n",
    "    \"data_retorno\": \"2024-06-30\",\n",
    "    \"instituicao_id\": 2\n",
    "}\n",
    "update(id, object)"
   ],
   "id": "4afdf429a742a2db",
   "outputs": [
    {
     "data": {
      "text/plain": [
       "<IPython.core.display.JSON object>"
      ],
      "application/json": {
       "data_emprestimo": "Thu, 23 May 2024 00:00:00 GMT",
       "data_retorno": "Sun, 30 Jun 2024 00:00:00 GMT",
       "id": 6,
       "instituicao": "LNCC",
       "obra": {
        "autor": "Leonardo da Vinci",
        "data_criacao": "Sun, 01 Feb 1632 00:00:00 GMT",
        "descricao": "Escultura de um homem pensando",
        "id": 2,
        "localizacao": null,
        "nome": "O pensador",
        "tipo": "Escultura"
       }
      }
     },
     "metadata": {
      "application/json": {
       "expanded": false,
       "root": "root"
      }
     },
     "output_type": "display_data"
    }
   ],
   "execution_count": 37
  },
  {
   "metadata": {},
   "cell_type": "markdown",
   "source": "Requisição - DELETE",
   "id": "d7122ac379dadb8a"
  },
  {
   "metadata": {
    "ExecuteTime": {
     "end_time": "2024-06-04T23:26:26.730678Z",
     "start_time": "2024-06-04T23:26:26.723802Z"
    }
   },
   "cell_type": "code",
   "source": [
    "#Enedpoint que deleta um registro da base\n",
    "def delete(id):\n",
    "    response = requests.delete(f\"{BASE_URL}/{id}\")\n",
    "    if response.status_code == 204:\n",
    "        return response.status_code\n",
    "    else:\n",
    "        return f\"Error: {response.status_code}, {response.json()}\"\n",
    "    \n",
    "id = 320\n",
    "delete(id)"
   ],
   "id": "8eb8bcfdfd90c345",
   "outputs": [
    {
     "data": {
      "text/plain": [
       "\"Error: 404, {'error': 'Emprestimo não encontrado'}\""
      ]
     },
     "execution_count": 38,
     "metadata": {},
     "output_type": "execute_result"
    }
   ],
   "execution_count": 38
  }
 ],
 "metadata": {
  "kernelspec": {
   "display_name": "Python 3 (ipykernel)",
   "name": "python3",
   "language": "python"
  },
  "language_info": {
   "name": ""
  }
 },
 "nbformat": 4,
 "nbformat_minor": 5
}
