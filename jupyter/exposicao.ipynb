{
 "cells": [
  {
   "metadata": {},
   "cell_type": "markdown",
   "source": "Importações e configurações bases",
   "id": "13a4aa73227264d6"
  },
  {
   "metadata": {
    "ExecuteTime": {
     "end_time": "2024-06-04T23:31:45.173938Z",
     "start_time": "2024-06-04T23:31:45.170602Z"
    }
   },
   "cell_type": "code",
   "source": [
    "import requests\n",
    "from IPython.display import display, JSON"
   ],
   "id": "bfa88d3a0afbfa81",
   "outputs": [],
   "execution_count": 9
  },
  {
   "metadata": {
    "ExecuteTime": {
     "end_time": "2024-06-04T23:31:45.195697Z",
     "start_time": "2024-06-04T23:31:45.192945Z"
    }
   },
   "cell_type": "code",
   "source": "BASE_URL = 'http://127.0.0.1:5000/exposicao'",
   "id": "e462f35484182ef0",
   "outputs": [],
   "execution_count": 10
  },
  {
   "metadata": {},
   "cell_type": "markdown",
   "source": "Requisição - GET_ALL",
   "id": "3893f899c7d97e7f"
  },
  {
   "metadata": {
    "ExecuteTime": {
     "end_time": "2024-06-04T23:31:45.216497Z",
     "start_time": "2024-06-04T23:31:45.199704Z"
    }
   },
   "cell_type": "code",
   "source": [
    "#Endpoint que buscara todos os registros\n",
    "def get_all():\n",
    "    response = requests.get(f\"{BASE_URL}/\")\n",
    "    if response.status_code == 200:\n",
    "        data = response.json()\n",
    "        return display(JSON(data))\n",
    "    else:\n",
    "        return f\"Error: {response.status_code}\"\n",
    "\n",
    "\n",
    "get_all()"
   ],
   "id": "6cdb8ab79d55b242",
   "outputs": [
    {
     "data": {
      "text/plain": [
       "<IPython.core.display.JSON object>"
      ],
      "application/json": [
       {
        "data_inicio": "Thu, 23 May 2024 00:00:00 GMT",
        "data_termino": "Thu, 30 May 2024 00:00:00 GMT",
        "descricao": "Exposição das obras do grande Leonardo da Vinci",
        "exposicao_id": 1,
        "titulo": "VinciViVenci"
       },
       {
        "data_inicio": "Thu, 23 May 2024 00:00:00 GMT",
        "data_termino": "Thu, 30 May 2024 00:00:00 GMT",
        "descricao": "Exposição das obras do grande Leonardo da Vinci",
        "exposicao_id": 2,
        "titulo": "DonateloEsVoce"
       },
       {
        "data_inicio": "Thu, 23 May 2024 00:00:00 GMT",
        "data_termino": "Thu, 30 May 2024 00:00:00 GMT",
        "descricao": "Exposição das obras do grande Leonardo da Vinci",
        "exposicao_id": 3,
        "titulo": "DonateloEsVoce"
       },
       {
        "data_inicio": "Mon, 01 Jan 2024 00:00:00 GMT",
        "data_termino": "Sat, 01 Jun 2024 00:00:00 GMT",
        "descricao": "Exposição sobre o Renascentismo na Itália",
        "exposicao_id": 4,
        "titulo": "Renascentismo Italiano"
       },
       {
        "data_inicio": "Fri, 01 Mar 2024 00:00:00 GMT",
        "data_termino": "Sun, 01 Sep 2024 00:00:00 GMT",
        "descricao": "Obras dos principais artistas impressionistas franceses",
        "exposicao_id": 5,
        "titulo": "Impressionismo Francês"
       },
       {
        "data_inicio": "Wed, 01 May 2024 00:00:00 GMT",
        "data_termino": "Fri, 01 Nov 2024 00:00:00 GMT",
        "descricao": "Exploração do surrealismo na Espanha",
        "exposicao_id": 6,
        "titulo": "Surrealismo Espanhol"
       },
       {
        "data_inicio": "Mon, 01 Jul 2024 00:00:00 GMT",
        "data_termino": "Sun, 01 Dec 2024 00:00:00 GMT",
        "descricao": "Mostra de obras expressionistas alemãs",
        "exposicao_id": 7,
        "titulo": "Expressionismo Alemão"
       },
       {
        "data_inicio": "Sun, 01 Sep 2024 00:00:00 GMT",
        "data_termino": "Wed, 01 Jan 2025 00:00:00 GMT",
        "descricao": "Coleção de arte moderna dos EUA",
        "exposicao_id": 8,
        "titulo": "Arte Moderna Americana"
       },
       {
        "data_inicio": "Mon, 01 Jan 2024 00:00:00 GMT",
        "data_termino": "Sat, 01 Jun 2024 00:00:00 GMT",
        "descricao": "Exposição sobre o Renascentismo na Itália",
        "exposicao_id": 9,
        "titulo": "Renascentismo Italiano"
       },
       {
        "data_inicio": "Fri, 01 Mar 2024 00:00:00 GMT",
        "data_termino": "Sun, 01 Sep 2024 00:00:00 GMT",
        "descricao": "Obras dos principais artistas impressionistas franceses",
        "exposicao_id": 10,
        "titulo": "Impressionismo Francês"
       },
       {
        "data_inicio": "Wed, 01 May 2024 00:00:00 GMT",
        "data_termino": "Fri, 01 Nov 2024 00:00:00 GMT",
        "descricao": "Exploração do surrealismo na Espanha",
        "exposicao_id": 11,
        "titulo": "Surrealismo Espanhol"
       },
       {
        "data_inicio": "Mon, 01 Jul 2024 00:00:00 GMT",
        "data_termino": "Sun, 01 Dec 2024 00:00:00 GMT",
        "descricao": "Mostra de obras expressionistas alemãs",
        "exposicao_id": 12,
        "titulo": "Expressionismo Alemão"
       },
       {
        "data_inicio": "Sun, 01 Sep 2024 00:00:00 GMT",
        "data_termino": "Wed, 01 Jan 2025 00:00:00 GMT",
        "descricao": "Coleção de arte moderna dos EUA",
        "exposicao_id": 13,
        "titulo": "Arte Moderna Americana"
       }
      ]
     },
     "metadata": {
      "application/json": {
       "expanded": false,
       "root": "root"
      }
     },
     "output_type": "display_data"
    }
   ],
   "execution_count": 11
  },
  {
   "metadata": {},
   "cell_type": "markdown",
   "source": "Requisição - GET_BY_ID",
   "id": "97fe1138d059fec2"
  },
  {
   "metadata": {
    "ExecuteTime": {
     "end_time": "2024-06-04T23:31:45.229807Z",
     "start_time": "2024-06-04T23:31:45.217507Z"
    }
   },
   "cell_type": "code",
   "source": [
    "#Endpoint que buscara o registro com base no id passado na URL\n",
    "def get_by_id(id):\n",
    "    response = requests.get(f\"{BASE_URL}/{id}\")\n",
    "    if response.status_code == 200:\n",
    "        data = response.json()\n",
    "        return display(JSON(data))\n",
    "    else:\n",
    "        return f\"Error: {response.status_code}, {response.json()}\"\n",
    "\n",
    "\n",
    "get_by_id(6)"
   ],
   "id": "a0d9e1b3741dbd25",
   "outputs": [
    {
     "data": {
      "text/plain": [
       "<IPython.core.display.JSON object>"
      ],
      "application/json": {
       "data_inicio": "Wed, 01 May 2024 00:00:00 GMT",
       "data_termino": "Fri, 01 Nov 2024 00:00:00 GMT",
       "descricao": "Exploração do surrealismo na Espanha",
       "exposicao_id": 6,
       "titulo": "Surrealismo Espanhol"
      }
     },
     "metadata": {
      "application/json": {
       "expanded": false,
       "root": "root"
      }
     },
     "output_type": "display_data"
    }
   ],
   "execution_count": 12
  },
  {
   "metadata": {},
   "cell_type": "markdown",
   "source": "Requisição - GET_BY_TITLE",
   "id": "55fa87eb16195bb9"
  },
  {
   "metadata": {
    "ExecuteTime": {
     "end_time": "2024-06-04T23:31:45.241813Z",
     "start_time": "2024-06-04T23:31:45.230813Z"
    }
   },
   "cell_type": "code",
   "source": [
    "#Endpoint que buscara o registro com base no titulo passado na URL\n",
    "def get_by_name(name):\n",
    "    response = requests.get(f\"{BASE_URL}/{name}\")\n",
    "    if response.status_code == 200:\n",
    "        data = response.json()\n",
    "        return display(JSON(data))\n",
    "    else:\n",
    "        return f\"Error: {response.status_code}, {response.json()}\"\n",
    "\n",
    "name = 'Surrealismo Espanhol'\n",
    "get_by_name(name)"
   ],
   "id": "aedaba80130927e4",
   "outputs": [
    {
     "data": {
      "text/plain": [
       "<IPython.core.display.JSON object>"
      ],
      "application/json": {
       "data_inicio": "Wed, 01 May 2024 00:00:00 GMT",
       "data_termino": "Fri, 01 Nov 2024 00:00:00 GMT",
       "descricao": "Exploração do surrealismo na Espanha",
       "exposicao_id": 6,
       "titulo": "Surrealismo Espanhol"
      }
     },
     "metadata": {
      "application/json": {
       "expanded": false,
       "root": "root"
      }
     },
     "output_type": "display_data"
    }
   ],
   "execution_count": 13
  },
  {
   "metadata": {},
   "cell_type": "markdown",
   "source": "Requisição - CREATE",
   "id": "a5d0cebb5174df3e"
  },
  {
   "metadata": {
    "ExecuteTime": {
     "end_time": "2024-06-04T23:31:45.252936Z",
     "start_time": "2024-06-04T23:31:45.242821Z"
    }
   },
   "cell_type": "code",
   "source": [
    "#Enedpoint que registra na base\n",
    "def create(data):\n",
    "    headers = {'Content-Type': 'application/json'}\n",
    "    response = requests.post(f\"{BASE_URL}/\", json=data, headers=headers)\n",
    "    if response.status_code == 200:\n",
    "        data = response.json()\n",
    "        return display(JSON(data))\n",
    "    else:\n",
    "        return f\"Error: {response.status_code}, {response.json()}\"\n",
    "    \n",
    "object = {\n",
    "    \"titulo\": \"DonateloEsVoce\",\n",
    "    \"descricao\": \"Exposição das obras do grande Leonardo da Vinci\",\n",
    "    \"data_inicio\": \"2024-05-23\",\n",
    "    \"data_termino\": \"2024-05-30\"\n",
    "}\n",
    "create(object)"
   ],
   "id": "552dcb58855dfcb9",
   "outputs": [
    {
     "data": {
      "text/plain": [
       "\"Error: 400, {'error': 'A data do termino não pode ser antes da data atual'}\""
      ]
     },
     "execution_count": 14,
     "metadata": {},
     "output_type": "execute_result"
    }
   ],
   "execution_count": 14
  },
  {
   "metadata": {},
   "cell_type": "markdown",
   "source": "Requisição - UPDATE",
   "id": "991c29483658b7a9"
  },
  {
   "metadata": {
    "ExecuteTime": {
     "end_time": "2024-06-04T23:31:45.262720Z",
     "start_time": "2024-06-04T23:31:45.253941Z"
    }
   },
   "cell_type": "code",
   "source": [
    "#Enedpoint que atualiza um registro na base\n",
    "def update(id, data):\n",
    "    headers = {'Content-Type': 'application/json'}\n",
    "    response = requests.put(f\"{BASE_URL}/{id}\", json=data, headers=headers)\n",
    "    if response.status_code == 200:\n",
    "        data = response.json()\n",
    "        return display(JSON(data))\n",
    "    else:\n",
    "        return f\"Error: {response.status_code}, {response.json()}\"\n",
    "\n",
    "id = 2\n",
    "object = {\n",
    "    \"titulo\": \"DonateloEsVoce\",\n",
    "    \"descricao\": \"Exposição das obras do grande Leonardo da Vinci\",\n",
    "    \"data_inicio\": \"2024-05-23\",\n",
    "    \"data_termino\": \"2024-05-30\"\n",
    "}\n",
    "update(id, object)"
   ],
   "id": "4afdf429a742a2db",
   "outputs": [
    {
     "data": {
      "text/plain": [
       "\"Error: 400, {'error': 'A data do termino não pode ser antes da data atual'}\""
      ]
     },
     "execution_count": 15,
     "metadata": {},
     "output_type": "execute_result"
    }
   ],
   "execution_count": 15
  },
  {
   "metadata": {},
   "cell_type": "markdown",
   "source": "Requisição - DELETE",
   "id": "d7122ac379dadb8a"
  },
  {
   "metadata": {
    "ExecuteTime": {
     "end_time": "2024-06-04T23:31:45.272641Z",
     "start_time": "2024-06-04T23:31:45.263727Z"
    }
   },
   "cell_type": "code",
   "source": [
    "#Enedpoint que deleta um registro da base\n",
    "def delete(id):\n",
    "    response = requests.delete(f\"{BASE_URL}/{id}\")\n",
    "    if response.status_code == 204:\n",
    "        return response.status_code\n",
    "    else:\n",
    "        return f\"Error: {response.status_code}, {response.json()}\"\n",
    "    \n",
    "id = 320\n",
    "delete(id)"
   ],
   "id": "8eb8bcfdfd90c345",
   "outputs": [
    {
     "data": {
      "text/plain": [
       "\"Error: 404, {'error': 'Exposicao não encontrado'}\""
      ]
     },
     "execution_count": 16,
     "metadata": {},
     "output_type": "execute_result"
    }
   ],
   "execution_count": 16
  }
 ],
 "metadata": {
  "kernelspec": {
   "display_name": "Python 3 (ipykernel)",
   "name": "python3",
   "language": "python"
  },
  "language_info": {
   "name": ""
  }
 },
 "nbformat": 4,
 "nbformat_minor": 5
}
