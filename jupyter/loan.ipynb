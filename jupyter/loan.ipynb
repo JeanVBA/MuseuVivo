{
 "cells": [
  {
   "cell_type": "markdown",
   "id": "13a4aa73227264d6",
   "metadata": {},
   "source": [
    "Importações e configurações bases"
   ]
  },
  {
   "cell_type": "code",
   "execution_count": 8,
   "id": "bfa88d3a0afbfa81",
   "metadata": {
    "ExecuteTime": {
     "end_time": "2024-06-14T10:48:01.853118Z",
     "start_time": "2024-06-14T10:48:01.844179Z"
    }
   },
   "outputs": [],
   "source": [
    "import requests\n",
    "from IPython.display import display, JSON"
   ]
  },
  {
   "cell_type": "code",
   "execution_count": 9,
   "id": "e462f35484182ef0",
   "metadata": {
    "ExecuteTime": {
     "end_time": "2024-06-14T10:48:01.878949Z",
     "start_time": "2024-06-14T10:48:01.875805Z"
    }
   },
   "outputs": [],
   "source": [
    "BASE_URL = 'http://127.0.0.1:5000/loan'"
   ]
  },
  {
   "cell_type": "code",
   "execution_count": 10,
   "id": "4b2f541dd35ed904",
   "metadata": {
    "ExecuteTime": {
     "end_time": "2024-06-14T10:48:01.885258Z",
     "start_time": "2024-06-14T10:48:01.878949Z"
    }
   },
   "outputs": [],
   "source": [
    "object = {\n",
    "    \"work_of_art_id\": 2,\n",
    "    \"loan_date\": \"2024-06-23\",\n",
    "    \"return_date\": \"2024-06-30\",\n",
    "    \"institution_id\": 2\n",
    "}\n",
    "object_args_work_of_art_name = {'work_of_art_name': 'O Algo'}\n",
    "object_args_loan_date = {'loan_date': '2024-06-23'}\n",
    "object_args_return_date = {'return_date': '2024-06-30'}\n",
    "object_args_institution_name = {'institution_name': 'LNCC'}\n"
   ]
  },
  {
   "cell_type": "markdown",
   "id": "3893f899c7d97e7f",
   "metadata": {},
   "source": [
    "Request - GET_ALL"
   ]
  },
  {
   "cell_type": "code",
   "execution_count": 11,
   "id": "6cdb8ab79d55b242",
   "metadata": {
    "ExecuteTime": {
     "end_time": "2024-06-14T10:48:02.359781Z",
     "start_time": "2024-06-14T10:48:01.885258Z"
    }
   },
   "outputs": [
    {
     "data": {
      "text/plain": [
       "<IPython.core.display.JSON object>"
      ]
     },
     "metadata": {
      "application/json": {
       "expanded": false,
       "root": "root"
      }
     },
     "output_type": "display_data"
    }
   ],
   "source": [
    "#Endpoint que buscara todos os registros\n",
    "def get_all():\n",
    "    response = requests.get(f\"{BASE_URL}/\")\n",
    "    if response.status_code == 200:\n",
    "        data = response.json()\n",
    "        return display(JSON(data))\n",
    "    else:\n",
    "        return f\"Error: {response.status_code}\"\n",
    "\n",
    "\n",
    "get_all()"
   ]
  },
  {
   "cell_type": "markdown",
   "id": "97fe1138d059fec2",
   "metadata": {},
   "source": [
    "Request - GET_BY_ID"
   ]
  },
  {
   "cell_type": "code",
   "execution_count": 12,
   "id": "a0d9e1b3741dbd25",
   "metadata": {
    "ExecuteTime": {
     "end_time": "2024-06-14T10:48:02.378420Z",
     "start_time": "2024-06-14T10:48:02.359781Z"
    }
   },
   "outputs": [
    {
     "data": {
      "application/json": {
       "amount_collected": "4.00",
       "id": 2,
       "institution": "LNCC",
       "loan_date": "Sun, 09 Jun 2024 00:00:00 GMT",
       "return_date": "Sat, 15 Jun 2024 00:00:00 GMT",
       "work_of_art": {
        "author": "Leonardo Da Vinci",
        "creation_date": "Sun, 01 Jan 1111 00:00:00 GMT",
        "description": "teseu fez isso",
        "id": 3,
        "location": "Centro Oeste",
        "name": "O navio de teseu",
        "type": "Sculpture"
       }
      },
      "text/plain": [
       "<IPython.core.display.JSON object>"
      ]
     },
     "metadata": {
      "application/json": {
       "expanded": false,
       "root": "root"
      }
     },
     "output_type": "display_data"
    }
   ],
   "source": [
    "#Endpoint que buscara o registro com base no id passado na URL\n",
    "def get_by_id(id):\n",
    "    response = requests.get(f\"{BASE_URL}/{id}\")\n",
    "    if response.status_code == 200:\n",
    "        data = response.json()\n",
    "        return display(JSON(data))\n",
    "    else:\n",
    "        return f\"Error: {response.status_code}, {response.json()}\"\n",
    "\n",
    "\n",
    "get_by_id(2)"
   ]
  },
  {
   "cell_type": "markdown",
   "id": "55fa87eb16195bb9",
   "metadata": {},
   "source": [
    "Request - GET_BY_INSTITUTION_NAME"
   ]
  },
  {
   "cell_type": "code",
   "execution_count": 13,
   "id": "aedaba80130927e4",
   "metadata": {
    "ExecuteTime": {
     "end_time": "2024-06-14T10:48:02.405915Z",
     "start_time": "2024-06-14T10:48:02.378420Z"
    }
   },
   "outputs": [
    {
     "data": {
      "text/plain": [
       "<IPython.core.display.JSON object>"
      ]
     },
     "metadata": {
      "application/json": {
       "expanded": false,
       "root": "root"
      }
     },
     "output_type": "display_data"
    }
   ],
   "source": [
    "def get_by_name(name):\n",
    "    response = requests.get(f\"{BASE_URL}/institution/{name}\")\n",
    "    if response.status_code == 200:\n",
    "        data = response.json()\n",
    "        return display(JSON(data))\n",
    "    else:\n",
    "        return f\"Error: {response.status_code}, {response.json()}\"\n",
    "\n",
    "name = 'LNCC'\n",
    "get_by_name(name)"
   ]
  },
  {
   "cell_type": "markdown",
   "id": "de232eb31798f4f3",
   "metadata": {},
   "source": [
    "Request - get_by_args_work_of_art_name"
   ]
  },
  {
   "cell_type": "code",
   "execution_count": 14,
   "id": "2a471af808f0662a",
   "metadata": {
    "ExecuteTime": {
     "end_time": "2024-06-14T10:48:02.425800Z",
     "start_time": "2024-06-14T10:48:02.405915Z"
    }
   },
   "outputs": [
    {
     "data": {
      "application/json": "",
      "text/plain": [
       "<IPython.core.display.JSON object>"
      ]
     },
     "metadata": {
      "application/json": {
       "expanded": false,
       "root": "root"
      }
     },
     "output_type": "display_data"
    }
   ],
   "source": [
    "def get_by_args(object_args):\n",
    "    query_string = '&'.join(f\"{key}={value}\" for key, value in object_args.items())\n",
    "    response = requests.get(f\"{BASE_URL}?{query_string}\")\n",
    "    \n",
    "    if response.status_code == 200:\n",
    "        data = response.json()\n",
    "        display(JSON(data))\n",
    "    else:\n",
    "        return f\"Erro: {response.status_code}, {response.json()}\"\n",
    "\n",
    "get_by_args(object_args_work_of_art_name)"
   ]
  },
  {
   "cell_type": "markdown",
   "id": "a4c27c3fb7e48bc",
   "metadata": {},
   "source": [
    "Request - get_args_loan_date"
   ]
  },
  {
   "cell_type": "code",
   "execution_count": 15,
   "id": "168358a603250470",
   "metadata": {
    "ExecuteTime": {
     "end_time": "2024-06-14T10:48:02.440211Z",
     "start_time": "2024-06-14T10:48:02.425800Z"
    }
   },
   "outputs": [
    {
     "data": {
      "text/plain": [
       "<IPython.core.display.JSON object>"
      ]
     },
     "metadata": {
      "application/json": {
       "expanded": false,
       "root": "root"
      }
     },
     "output_type": "display_data"
    }
   ],
   "source": [
    "def get_by_args(object_args):\n",
    "    query_string = '&'.join(f\"{key}={value}\" for key, value in object_args.items())\n",
    "    response = requests.get(f\"{BASE_URL}?{query_string}\")\n",
    "    \n",
    "    if response.status_code == 200:\n",
    "        data = response.json()\n",
    "        display(JSON(data))\n",
    "    else:\n",
    "        return f\"Erro: {response.status_code}, {response.json()}\"\n",
    "\n",
    "get_by_args(object_args_loan_date)"
   ]
  },
  {
   "cell_type": "markdown",
   "id": "5cbaa47f70045149",
   "metadata": {},
   "source": [
    "Request - get_args_return_date"
   ]
  },
  {
   "cell_type": "code",
   "execution_count": 16,
   "id": "7a5528e82b76fd18",
   "metadata": {
    "ExecuteTime": {
     "end_time": "2024-06-14T10:48:02.455072Z",
     "start_time": "2024-06-14T10:48:02.440211Z"
    }
   },
   "outputs": [
    {
     "data": {
      "text/plain": [
       "<IPython.core.display.JSON object>"
      ]
     },
     "metadata": {
      "application/json": {
       "expanded": false,
       "root": "root"
      }
     },
     "output_type": "display_data"
    }
   ],
   "source": [
    "def get_by_args(object_args):\n",
    "    query_string = '&'.join(f\"{key}={value}\" for key, value in object_args.items())\n",
    "    response = requests.get(f\"{BASE_URL}?{query_string}\")\n",
    "    \n",
    "    if response.status_code == 200:\n",
    "        data = response.json()\n",
    "        display(JSON(data))\n",
    "    else:\n",
    "        return f\"Erro: {response.status_code}, {response.json()}\"\n",
    "\n",
    "get_by_args(object_args_return_date)"
   ]
  },
  {
   "cell_type": "markdown",
   "id": "ba6f9ffd8fd6a033",
   "metadata": {},
   "source": [
    "Request - get_args_institution_name"
   ]
  },
  {
   "cell_type": "code",
   "execution_count": 17,
   "id": "48f5b2b69f0a28b4",
   "metadata": {
    "ExecuteTime": {
     "end_time": "2024-06-14T10:48:02.469929Z",
     "start_time": "2024-06-14T10:48:02.455072Z"
    }
   },
   "outputs": [
    {
     "data": {
      "text/plain": [
       "<IPython.core.display.JSON object>"
      ]
     },
     "metadata": {
      "application/json": {
       "expanded": false,
       "root": "root"
      }
     },
     "output_type": "display_data"
    }
   ],
   "source": [
    "def get_by_args(object_args):\n",
    "    query_string = '&'.join(f\"{key}={value}\" for key, value in object_args.items())\n",
    "    response = requests.get(f\"{BASE_URL}?{query_string}\")\n",
    "    \n",
    "    if response.status_code == 200:\n",
    "        data = response.json()\n",
    "        display(JSON(data))\n",
    "    else:\n",
    "        return f\"Erro: {response.status_code}, {response.json()}\"\n",
    "\n",
    "get_by_args(object_args_institution_name)"
   ]
  },
  {
   "cell_type": "markdown",
   "id": "a5d0cebb5174df3e",
   "metadata": {},
   "source": [
    "Request - CREATE"
   ]
  },
  {
   "cell_type": "code",
   "execution_count": 18,
   "id": "552dcb58855dfcb9",
   "metadata": {
    "ExecuteTime": {
     "end_time": "2024-06-14T10:48:02.494761Z",
     "start_time": "2024-06-14T10:48:02.469929Z"
    }
   },
   "outputs": [
    {
     "data": {
      "application/json": {
       "amount_collected": "0.00",
       "id": 7,
       "institution": "LNCC",
       "loan_date": "Sun, 23 Jun 2024 00:00:00 GMT",
       "return_date": "Sun, 30 Jun 2024 00:00:00 GMT",
       "work_of_art": {
        "author": "Mozart",
        "creation_date": "Thu, 04 May 0400 00:00:00 GMT",
        "description": "amarga",
        "id": 2,
        "location": "Centro Oeste",
        "name": "Alma",
        "type": "Sculpture"
       }
      },
      "text/plain": [
       "<IPython.core.display.JSON object>"
      ]
     },
     "metadata": {
      "application/json": {
       "expanded": false,
       "root": "root"
      }
     },
     "output_type": "display_data"
    }
   ],
   "source": [
    "#Enedpoint que registra na base\n",
    "def create(data):\n",
    "    headers = {'Content-Type': 'application/json'}\n",
    "    response = requests.post(f\"{BASE_URL}/\", json=data, headers=headers)\n",
    "    if response.status_code == 200:\n",
    "        data = response.json()\n",
    "        return display(JSON(data))\n",
    "    else:\n",
    "        return f\"Error: {response.status_code}, {response.json()}\"\n",
    "    \n",
    "create(object)"
   ]
  },
  {
   "cell_type": "markdown",
   "id": "991c29483658b7a9",
   "metadata": {},
   "source": [
    "Request - UPDATE"
   ]
  },
  {
   "cell_type": "code",
   "execution_count": 19,
   "id": "4afdf429a742a2db",
   "metadata": {
    "ExecuteTime": {
     "end_time": "2024-06-14T10:48:02.505422Z",
     "start_time": "2024-06-14T10:48:02.494761Z"
    }
   },
   "outputs": [
    {
     "data": {
      "text/plain": [
       "\"Error: 404, {'error': 'Loan not found'}\""
      ]
     },
     "execution_count": 19,
     "metadata": {},
     "output_type": "execute_result"
    }
   ],
   "source": [
    "#Enedpoint que atualiza um registro na base\n",
    "def update(id, data):\n",
    "    headers = {'Content-Type': 'application/json'}\n",
    "    response = requests.put(f\"{BASE_URL}/{id}\", json=data, headers=headers)\n",
    "    if response.status_code == 200:\n",
    "        data = response.json()\n",
    "        return display(JSON(data))\n",
    "    else:\n",
    "        return f\"Error: {response.status_code}, {response.json()}\"\n",
    "\n",
    "id = 1\n",
    "update(id, object)"
   ]
  },
  {
   "cell_type": "markdown",
   "id": "d7122ac379dadb8a",
   "metadata": {},
   "source": [
    "Request - DELETE"
   ]
  },
  {
   "cell_type": "code",
   "execution_count": 20,
   "id": "8eb8bcfdfd90c345",
   "metadata": {
    "ExecuteTime": {
     "end_time": "2024-06-14T10:48:02.513936Z",
     "start_time": "2024-06-14T10:48:02.505422Z"
    }
   },
   "outputs": [
    {
     "data": {
      "text/plain": [
       "\"Error: 404, {'error': 'Loan not found'}\""
      ]
     },
     "execution_count": 20,
     "metadata": {},
     "output_type": "execute_result"
    }
   ],
   "source": [
    "#Enedpoint que deleta um registro da base\n",
    "def delete(id):\n",
    "    response = requests.delete(f\"{BASE_URL}/{id}\")\n",
    "    if response.status_code == 204:\n",
    "        return response.status_code\n",
    "    else:\n",
    "        return f\"Error: {response.status_code}, {response.json()}\"\n",
    "    \n",
    "id = 1\n",
    "delete(id)"
   ]
  }
 ],
 "metadata": {
  "kernelspec": {
   "display_name": "Python 3 (ipykernel)",
   "language": "python",
   "name": "python3"
  },
  "language_info": {
   "codemirror_mode": {
    "name": "ipython",
    "version": 3
   },
   "file_extension": ".py",
   "mimetype": "text/x-python",
   "name": "python",
   "nbconvert_exporter": "python",
   "pygments_lexer": "ipython3",
   "version": "3.12.3"
  }
 },
 "nbformat": 4,
 "nbformat_minor": 5
}
