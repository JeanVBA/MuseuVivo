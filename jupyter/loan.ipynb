{
 "cells": [
  {
   "metadata": {},
   "cell_type": "markdown",
   "source": "Importações e configurações bases",
   "id": "13a4aa73227264d6"
  },
  {
   "metadata": {
    "ExecuteTime": {
     "end_time": "2024-06-14T10:48:01.853118Z",
     "start_time": "2024-06-14T10:48:01.844179Z"
    }
   },
   "cell_type": "code",
   "source": [
    "import requests\n",
    "from IPython.display import display, JSON"
   ],
   "id": "bfa88d3a0afbfa81",
   "execution_count": 51,
   "outputs": []
  },
  {
   "metadata": {
    "ExecuteTime": {
     "end_time": "2024-06-14T10:48:01.878949Z",
     "start_time": "2024-06-14T10:48:01.875805Z"
    }
   },
   "cell_type": "code",
   "source": "BASE_URL = 'http://127.0.0.1:5000/loan'",
   "id": "e462f35484182ef0",
   "execution_count": 52,
   "outputs": []
  },
  {
   "metadata": {
    "ExecuteTime": {
     "end_time": "2024-06-14T10:48:01.885258Z",
     "start_time": "2024-06-14T10:48:01.878949Z"
    }
   },
   "cell_type": "code",
   "source": [
    "object = {\n",
    "    \"work_of_art_id\": 2,\n",
    "    \"loan_date\": \"2024-06-23\",\n",
    "    \"return_date\": \"2024-06-30\",\n",
    "    \"institution_id\": 2\n",
    "}\n",
    "object_args_work_of_art_name = {'work_of_art_name': 'O Algo'}\n",
    "object_args_loan_date = {'loan_date': '2024-06-23'}\n",
    "object_args_return_date = {'return_date': '2024-06-30'}\n",
    "object_args_institution_name = {'institution_name': 'LNCC'}\n"
   ],
   "id": "4b2f541dd35ed904",
   "execution_count": 53,
   "outputs": []
  },
  {
   "metadata": {},
   "cell_type": "markdown",
   "source": "Request - GET_ALL",
   "id": "3893f899c7d97e7f"
  },
  {
   "metadata": {
    "ExecuteTime": {
     "end_time": "2024-06-14T10:48:02.359781Z",
     "start_time": "2024-06-14T10:48:01.885258Z"
    }
   },
   "cell_type": "code",
   "source": [
    "#Endpoint que buscara todos os registros\n",
    "def get_all():\n",
    "    response = requests.get(f\"{BASE_URL}/\")\n",
    "    if response.status_code == 200:\n",
    "        data = response.json()\n",
    "        return display(JSON(data))\n",
    "    else:\n",
    "        return f\"Error: {response.status_code}\"\n",
    "\n",
    "\n",
    "get_all()"
   ],
   "id": "6cdb8ab79d55b242",
   "execution_count": 54,
   "outputs": []
  },
  {
   "metadata": {},
   "cell_type": "markdown",
   "source": "Request - GET_BY_ID",
   "id": "97fe1138d059fec2"
  },
  {
   "metadata": {
    "ExecuteTime": {
     "end_time": "2024-06-14T10:48:02.378420Z",
     "start_time": "2024-06-14T10:48:02.359781Z"
    }
   },
   "cell_type": "code",
   "source": [
    "#Endpoint que buscara o registro com base no id passado na URL\n",
    "def get_by_id(id):\n",
    "    response = requests.get(f\"{BASE_URL}/{id}\")\n",
    "    if response.status_code == 200:\n",
    "        data = response.json()\n",
    "        return display(JSON(data))\n",
    "    else:\n",
    "        return f\"Error: {response.status_code}, {response.json()}\"\n",
    "\n",
    "\n",
    "get_by_id(2)"
   ],
   "id": "a0d9e1b3741dbd25",
   "execution_count": 55,
   "outputs": []
  },
  {
   "metadata": {},
   "cell_type": "markdown",
   "source": "Request - GET_BY_INSTITUTION_NAME",
   "id": "55fa87eb16195bb9"
  },
  {
   "metadata": {
    "ExecuteTime": {
     "end_time": "2024-06-14T10:48:02.405915Z",
     "start_time": "2024-06-14T10:48:02.378420Z"
    }
   },
   "cell_type": "code",
   "source": [
    "def get_by_name(name):\n",
    "    response = requests.get(f\"{BASE_URL}/institution/{name}\")\n",
    "    if response.status_code == 200:\n",
    "        data = response.json()\n",
    "        return display(JSON(data))\n",
    "    else:\n",
    "        return f\"Error: {response.status_code}, {response.json()}\"\n",
    "\n",
    "name = 'LNCC'\n",
    "get_by_name(name)"
   ],
   "id": "aedaba80130927e4",
   "execution_count": 56,
   "outputs": []
  },
  {
   "metadata": {},
   "cell_type": "markdown",
   "source": "Request - get_by_args_work_of_art_name",
   "id": "de232eb31798f4f3"
  },
  {
   "metadata": {
    "ExecuteTime": {
     "end_time": "2024-06-14T10:48:02.425800Z",
     "start_time": "2024-06-14T10:48:02.405915Z"
    }
   },
   "cell_type": "code",
   "source": [
    "def get_by_args(object_args):\n",
    "    query_string = '&'.join(f\"{key}={value}\" for key, value in object_args.items())\n",
    "    response = requests.get(f\"{BASE_URL}?{query_string}\")\n",
    "    \n",
    "    if response.status_code == 200:\n",
    "        data = response.json()\n",
    "        display(JSON(data))\n",
    "    else:\n",
    "        return f\"Erro: {response.status_code}, {response.json()}\"\n",
    "\n",
    "get_by_args(object_args_work_of_art_name)"
   ],
   "id": "2a471af808f0662a",
   "execution_count": 57,
   "outputs": []
  },
  {
   "metadata": {},
   "cell_type": "markdown",
   "source": "Request - get_args_loan_date",
   "id": "a4c27c3fb7e48bc"
  },
  {
   "metadata": {
    "ExecuteTime": {
     "end_time": "2024-06-14T10:48:02.440211Z",
     "start_time": "2024-06-14T10:48:02.425800Z"
    }
   },
   "cell_type": "code",
   "source": [
    "def get_by_args(object_args):\n",
    "    query_string = '&'.join(f\"{key}={value}\" for key, value in object_args.items())\n",
    "    response = requests.get(f\"{BASE_URL}?{query_string}\")\n",
    "    \n",
    "    if response.status_code == 200:\n",
    "        data = response.json()\n",
    "        display(JSON(data))\n",
    "    else:\n",
    "        return f\"Erro: {response.status_code}, {response.json()}\"\n",
    "\n",
    "get_by_args(object_args_loan_date)"
   ],
   "id": "168358a603250470",
   "execution_count": 58,
   "outputs": []
  },
  {
   "metadata": {},
   "cell_type": "markdown",
   "source": "Request - get_args_return_date",
   "id": "5cbaa47f70045149"
  },
  {
   "metadata": {
    "ExecuteTime": {
     "end_time": "2024-06-14T10:48:02.455072Z",
     "start_time": "2024-06-14T10:48:02.440211Z"
    }
   },
   "cell_type": "code",
   "source": [
    "def get_by_args(object_args):\n",
    "    query_string = '&'.join(f\"{key}={value}\" for key, value in object_args.items())\n",
    "    response = requests.get(f\"{BASE_URL}?{query_string}\")\n",
    "    \n",
    "    if response.status_code == 200:\n",
    "        data = response.json()\n",
    "        display(JSON(data))\n",
    "    else:\n",
    "        return f\"Erro: {response.status_code}, {response.json()}\"\n",
    "\n",
    "get_by_args(object_args_return_date)"
   ],
   "id": "7a5528e82b76fd18",
   "execution_count": 59,
   "outputs": []
  },
  {
   "metadata": {},
   "cell_type": "markdown",
   "source": "Request - get_args_institution_name",
   "id": "ba6f9ffd8fd6a033"
  },
  {
   "metadata": {
    "ExecuteTime": {
     "end_time": "2024-06-14T10:48:02.469929Z",
     "start_time": "2024-06-14T10:48:02.455072Z"
    }
   },
   "cell_type": "code",
   "source": [
    "def get_by_args(object_args):\n",
    "    query_string = '&'.join(f\"{key}={value}\" for key, value in object_args.items())\n",
    "    response = requests.get(f\"{BASE_URL}?{query_string}\")\n",
    "    \n",
    "    if response.status_code == 200:\n",
    "        data = response.json()\n",
    "        display(JSON(data))\n",
    "    else:\n",
    "        return f\"Erro: {response.status_code}, {response.json()}\"\n",
    "\n",
    "get_by_args(object_args_institution_name)"
   ],
   "id": "48f5b2b69f0a28b4",
   "execution_count": 60,
   "outputs": []
  },
  {
   "metadata": {},
   "cell_type": "markdown",
   "source": "Request - CREATE",
   "id": "a5d0cebb5174df3e"
  },
  {
   "metadata": {
    "ExecuteTime": {
     "end_time": "2024-06-14T10:48:02.494761Z",
     "start_time": "2024-06-14T10:48:02.469929Z"
    }
   },
   "cell_type": "code",
   "source": [
    "#Enedpoint que registra na base\n",
    "def create(data):\n",
    "    headers = {'Content-Type': 'application/json'}\n",
    "    response = requests.post(f\"{BASE_URL}/\", json=data, headers=headers)\n",
    "    if response.status_code == 200:\n",
    "        data = response.json()\n",
    "        return display(JSON(data))\n",
    "    else:\n",
    "        return f\"Error: {response.status_code}, {response.json()}\"\n",
    "    \n",
    "create(object)"
   ],
   "id": "552dcb58855dfcb9",
   "execution_count": 61,
   "outputs": []
  },
  {
   "metadata": {},
   "cell_type": "markdown",
   "source": "Request - UPDATE",
   "id": "991c29483658b7a9"
  },
  {
   "metadata": {
    "ExecuteTime": {
     "end_time": "2024-06-14T10:48:02.505422Z",
     "start_time": "2024-06-14T10:48:02.494761Z"
    }
   },
   "cell_type": "code",
   "source": [
    "#Enedpoint que atualiza um registro na base\n",
    "def update(id, data):\n",
    "    headers = {'Content-Type': 'application/json'}\n",
    "    response = requests.put(f\"{BASE_URL}/{id}\", json=data, headers=headers)\n",
    "    if response.status_code == 200:\n",
    "        data = response.json()\n",
    "        return display(JSON(data))\n",
    "    else:\n",
    "        return f\"Error: {response.status_code}, {response.json()}\"\n",
    "\n",
    "id = 622\n",
    "update(id, object)"
   ],
   "id": "4afdf429a742a2db",
   "execution_count": 62,
   "outputs": []
  },
  {
   "metadata": {},
   "cell_type": "markdown",
   "source": "Request - DELETE",
   "id": "d7122ac379dadb8a"
  },
  {
   "metadata": {
    "ExecuteTime": {
     "end_time": "2024-06-14T10:48:02.513936Z",
     "start_time": "2024-06-14T10:48:02.505422Z"
    }
   },
   "cell_type": "code",
   "source": [
    "#Enedpoint que deleta um registro da base\n",
    "def delete(id):\n",
    "    response = requests.delete(f\"{BASE_URL}/{id}\")\n",
    "    if response.status_code == 204:\n",
    "        return response.status_code\n",
    "    else:\n",
    "        return f\"Error: {response.status_code}, {response.json()}\"\n",
    "    \n",
    "id = 320\n",
    "delete(id)"
   ],
   "id": "8eb8bcfdfd90c345",
   "execution_count": 63,
   "outputs": []
  }
 ],
 "metadata": {
  "kernelspec": {
   "display_name": "Python 3 (ipykernel)",
   "name": "python3",
   "language": "python"
  },
  "language_info": {
   "name": ""
  }
 },
 "nbformat": 4,
 "nbformat_minor": 5
}
