{
 "cells": [
  {
   "metadata": {},
   "cell_type": "markdown",
   "source": "Importações e configurações bases",
   "id": "13a4aa73227264d6"
  },
  {
   "metadata": {
    "ExecuteTime": {
     "end_time": "2024-06-13T11:35:25.519920Z",
     "start_time": "2024-06-13T11:35:25.515467Z"
    }
   },
   "cell_type": "code",
   "source": [
    "import requests\n",
    "from IPython.display import display, JSON"
   ],
   "id": "bfa88d3a0afbfa81",
   "execution_count": 73,
   "outputs": []
  },
  {
   "metadata": {
    "ExecuteTime": {
     "end_time": "2024-06-13T11:35:25.547746Z",
     "start_time": "2024-06-13T11:35:25.531520Z"
    }
   },
   "cell_type": "code",
   "source": "BASE_URL = 'http://127.0.0.1:5000/exhibition'",
   "id": "e462f35484182ef0",
   "execution_count": 74,
   "outputs": []
  },
  {
   "metadata": {
    "ExecuteTime": {
     "end_time": "2024-06-13T11:35:25.555310Z",
     "start_time": "2024-06-13T11:35:25.547746Z"
    }
   },
   "cell_type": "code",
   "source": [
    "object = {\n",
    "     \"title\": \"OS Algos\",\n",
    "    \"description\": \"Exposição das obras do grande Leonardo da Vinci\",\n",
    "    \"start_date\": \"2024-07-23\",\n",
    "    \"end_date\": \"2024-07-30\"\n",
    "}\n",
    "\n",
    "object_args_title = {'title': 'DonateloEsVoce'}\n",
    "object_args_start_date = { 'start_date': '2024-06-11' }\n",
    "object_args_end_date = { 'end_date': '2024-06-14' }\n",
    "object_args_work_of_art_name = { 'work_of_art_name': 'O Algo' }"
   ],
   "id": "659749dbd2d4e02f",
   "execution_count": 75,
   "outputs": []
  },
  {
   "metadata": {},
   "cell_type": "markdown",
   "source": "Requisição - GET_ALL",
   "id": "3893f899c7d97e7f"
  },
  {
   "metadata": {
    "ExecuteTime": {
     "end_time": "2024-06-13T11:35:25.567813Z",
     "start_time": "2024-06-13T11:35:25.555310Z"
    }
   },
   "cell_type": "code",
   "source": [
    "#Endpoint que buscara todos os registros\n",
    "def get_all():\n",
    "    response = requests.get(f\"{BASE_URL}/\")\n",
    "    if response.status_code == 200:\n",
    "        data = response.json()\n",
    "        return display(JSON(data))\n",
    "    else:\n",
    "        return f\"Error: {response.status_code}\"\n",
    "\n",
    "\n",
    "get_all()"
   ],
   "id": "6cdb8ab79d55b242",
   "execution_count": 76,
   "outputs": []
  },
  {
   "metadata": {},
   "cell_type": "markdown",
   "source": "Requisição - GET_BY_ID",
   "id": "97fe1138d059fec2"
  },
  {
   "metadata": {
    "ExecuteTime": {
     "end_time": "2024-06-13T11:35:25.577921Z",
     "start_time": "2024-06-13T11:35:25.567813Z"
    }
   },
   "cell_type": "code",
   "source": [
    "#Endpoint que buscara o registro com base no id passado na URL\n",
    "def get_by_id(id):\n",
    "    response = requests.get(f\"{BASE_URL}/{id}\")\n",
    "    if response.status_code == 200:\n",
    "        data = response.json()\n",
    "        return display(JSON(data))\n",
    "    else:\n",
    "        return f\"Error: {response.status_code}, {response.json()}\"\n",
    "\n",
    "\n",
    "get_by_id(2)"
   ],
   "id": "a0d9e1b3741dbd25",
   "execution_count": 77,
   "outputs": []
  },
  {
   "metadata": {},
   "cell_type": "markdown",
   "source": "Requisição - GET_BY_TITLE",
   "id": "55fa87eb16195bb9"
  },
  {
   "metadata": {
    "ExecuteTime": {
     "end_time": "2024-06-13T11:35:25.588418Z",
     "start_time": "2024-06-13T11:35:25.577921Z"
    }
   },
   "cell_type": "code",
   "source": [
    "def get_by_title(title):\n",
    "    response = requests.get(f\"{BASE_URL}/{title}\")\n",
    "    if response.status_code == 200:\n",
    "        data = response.json()\n",
    "        return display(JSON(data))\n",
    "    else:\n",
    "        return f\"Error: {response.status_code}, {response.json()}\"\n",
    "\n",
    "title = 'DonateloEsVoce'\n",
    "get_by_title(title)"
   ],
   "id": "aedaba80130927e4",
   "execution_count": 78,
   "outputs": []
  },
  {
   "metadata": {},
   "cell_type": "markdown",
   "source": "Requisição - CREATE",
   "id": "a5d0cebb5174df3e"
  },
  {
   "metadata": {
    "ExecuteTime": {
     "end_time": "2024-06-13T11:35:25.603734Z",
     "start_time": "2024-06-13T11:35:25.588418Z"
    }
   },
   "cell_type": "code",
   "source": [
    "#Enedpoint que registra na base\n",
    "def create(data):\n",
    "    headers = {'Content-Type': 'application/json'}\n",
    "    response = requests.post(f\"{BASE_URL}/\", json=data, headers=headers)\n",
    "    if response.status_code == 200:\n",
    "        data = response.json()\n",
    "        return display(JSON(data))\n",
    "    else:\n",
    "        return f\"Error: {response.status_code}, {response.json()}\"\n",
    "    \n",
    "create(object)"
   ],
   "id": "552dcb58855dfcb9",
   "execution_count": 79,
   "outputs": []
  },
  {
   "metadata": {},
   "cell_type": "markdown",
   "source": "Requisição - UPDATE",
   "id": "991c29483658b7a9"
  },
  {
   "metadata": {
    "ExecuteTime": {
     "end_time": "2024-06-13T11:35:25.608846Z",
     "start_time": "2024-06-13T11:35:25.604822Z"
    }
   },
   "cell_type": "code",
   "source": [
    "#Enedpoint que atualiza um registro na base\n",
    "def update(id, data):\n",
    "    headers = {'Content-Type': 'application/json'}\n",
    "    response = requests.put(f\"{BASE_URL}/{id}\", json=data, headers=headers)\n",
    "    if response.status_code == 200:\n",
    "        data = response.json()\n",
    "        return display(JSON(data))\n",
    "    else:\n",
    "        return f\"Error: {response.status_code}, {response.json()}\"\n",
    "\n",
    "id = 2\n",
    "#update(id, object)"
   ],
   "id": "4afdf429a742a2db",
   "execution_count": 80,
   "outputs": []
  },
  {
   "metadata": {},
   "cell_type": "markdown",
   "source": "Requisição - DELETE",
   "id": "d7122ac379dadb8a"
  },
  {
   "metadata": {
    "ExecuteTime": {
     "end_time": "2024-06-13T11:35:25.613643Z",
     "start_time": "2024-06-13T11:35:25.608846Z"
    }
   },
   "cell_type": "code",
   "source": [
    "#Enedpoint que deleta um registro da base\n",
    "def delete(id):\n",
    "    response = requests.delete(f\"{BASE_URL}/{id}\")\n",
    "    if response.status_code == 204:\n",
    "        return response.status_code\n",
    "    else:\n",
    "        return f\"Error: {response.status_code}, {response.json()}\"\n",
    "    \n",
    "id = 320\n",
    "#delete(id)"
   ],
   "id": "8eb8bcfdfd90c345",
   "execution_count": 81,
   "outputs": []
  },
  {
   "metadata": {},
   "cell_type": "markdown",
   "source": "Request - get_by_args_title",
   "id": "3ffa98b50a02c957"
  },
  {
   "metadata": {
    "ExecuteTime": {
     "end_time": "2024-06-13T11:35:25.623007Z",
     "start_time": "2024-06-13T11:35:25.613643Z"
    }
   },
   "cell_type": "code",
   "source": [
    "def get_by_args(object_args):\n",
    "    query_string = '&'.join(f\"{key}={value}\" for key, value in object_args.items())\n",
    "    response = requests.get(f\"{BASE_URL}?{query_string}\")\n",
    "    \n",
    "    if response.status_code == 200:\n",
    "        data = response.json()\n",
    "        display(JSON(data))\n",
    "    else:\n",
    "        return f\"Erro: {response.status_code}, {response.json()}\"\n",
    "\n",
    "get_by_args(object_args_title)"
   ],
   "id": "6a18fdfec779d74f",
   "execution_count": 82,
   "outputs": []
  },
  {
   "metadata": {},
   "cell_type": "markdown",
   "source": "Request - get_by_args_start_date",
   "id": "df783e2b3efc44e5"
  },
  {
   "metadata": {
    "ExecuteTime": {
     "end_time": "2024-06-13T11:35:25.632709Z",
     "start_time": "2024-06-13T11:35:25.623007Z"
    }
   },
   "cell_type": "code",
   "source": [
    "def get_by_args(object_args):\n",
    "    query_string = '&'.join(f\"{key}={value}\" for key, value in object_args.items())\n",
    "    response = requests.get(f\"{BASE_URL}?{query_string}\")\n",
    "    \n",
    "    if response.status_code == 200:\n",
    "        data = response.json()\n",
    "        display(JSON(data))\n",
    "    else:\n",
    "        return f\"Erro: {response.status_code}, {response.json()}\"\n",
    "\n",
    "get_by_args(object_args_start_date)"
   ],
   "id": "f75703515bb589ac",
   "execution_count": 83,
   "outputs": []
  },
  {
   "metadata": {},
   "cell_type": "markdown",
   "source": "Request - get_by_args_end_date",
   "id": "b7bc483641b0539d"
  },
  {
   "metadata": {
    "ExecuteTime": {
     "end_time": "2024-06-13T11:35:25.716525Z",
     "start_time": "2024-06-13T11:35:25.695607Z"
    }
   },
   "cell_type": "code",
   "source": [
    "def get_by_args(object_args):\n",
    "    query_string = '&'.join(f\"{key}={value}\" for key, value in object_args.items())\n",
    "    response = requests.get(f\"{BASE_URL}?{query_string}\")\n",
    "    \n",
    "    if response.status_code == 200:\n",
    "        data = response.json()\n",
    "        display(JSON(data))\n",
    "    else:\n",
    "        return f\"Erro: {response.status_code}, {response.json()}\"\n",
    "\n",
    "get_by_args(object_args_end_date)"
   ],
   "id": "c2e578b38c1bc67e",
   "execution_count": 84,
   "outputs": []
  }
 ],
 "metadata": {
  "kernelspec": {
   "display_name": "Python 3 (ipykernel)",
   "name": "python3",
   "language": "python"
  },
  "language_info": {
   "name": ""
  }
 },
 "nbformat": 4,
 "nbformat_minor": 5
}
