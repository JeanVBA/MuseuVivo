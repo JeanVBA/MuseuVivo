{
 "cells": [
  {
   "cell_type": "markdown",
   "id": "13a4aa73227264d6",
   "metadata": {},
   "source": [
    "Importações e configurações bases"
   ]
  },
  {
   "cell_type": "code",
   "execution_count": 1,
   "id": "bfa88d3a0afbfa81",
   "metadata": {
    "ExecuteTime": {
     "end_time": "2024-06-13T11:35:25.519920Z",
     "start_time": "2024-06-13T11:35:25.515467Z"
    }
   },
   "outputs": [],
   "source": [
    "import requests\n",
    "from IPython.display import display, JSON"
   ]
  },
  {
   "cell_type": "code",
   "execution_count": 2,
   "id": "e462f35484182ef0",
   "metadata": {
    "ExecuteTime": {
     "end_time": "2024-06-13T11:35:25.547746Z",
     "start_time": "2024-06-13T11:35:25.531520Z"
    }
   },
   "outputs": [],
   "source": [
    "BASE_URL = 'http://127.0.0.1:5000/exhibition'"
   ]
  },
  {
   "cell_type": "code",
   "execution_count": 3,
   "id": "659749dbd2d4e02f",
   "metadata": {
    "ExecuteTime": {
     "end_time": "2024-06-13T11:35:25.555310Z",
     "start_time": "2024-06-13T11:35:25.547746Z"
    }
   },
   "outputs": [],
   "source": [
    "object = {\n",
    "     \"title\": \"OS Algos\",\n",
    "    \"description\": \"Exposição das obras do grande Leonardo da Vinci\",\n",
    "    \"start_date\": \"2024-07-23\",\n",
    "    \"end_date\": \"2024-07-30\"\n",
    "}\n",
    "\n",
    "object_args_title = {'title': 'DonateloEsVoce'}\n",
    "object_args_start_date = { 'start_date': '2024-06-11' }\n",
    "object_args_end_date = { 'end_date': '2024-06-14' }"
   ]
  },
  {
   "cell_type": "markdown",
   "id": "3893f899c7d97e7f",
   "metadata": {},
   "source": [
    "Requisição - GET_ALL"
   ]
  },
  {
   "cell_type": "code",
   "execution_count": 4,
   "id": "6cdb8ab79d55b242",
   "metadata": {
    "ExecuteTime": {
     "end_time": "2024-06-13T11:35:25.567813Z",
     "start_time": "2024-06-13T11:35:25.555310Z"
    }
   },
   "outputs": [
    {
     "data": {
      "text/plain": [
       "<IPython.core.display.JSON object>"
      ]
     },
     "metadata": {
      "application/json": {
       "expanded": false,
       "root": "root"
      }
     },
     "output_type": "display_data"
    }
   ],
   "source": [
    "#Endpoint que buscara todos os registros\n",
    "def get_all():\n",
    "    response = requests.get(f\"{BASE_URL}/\")\n",
    "    if response.status_code == 200:\n",
    "        data = response.json()\n",
    "        return display(JSON(data))\n",
    "    else:\n",
    "        return f\"Error: {response.status_code}\"\n",
    "\n",
    "\n",
    "get_all()"
   ]
  },
  {
   "cell_type": "markdown",
   "id": "97fe1138d059fec2",
   "metadata": {},
   "source": [
    "Requisição - GET_BY_ID"
   ]
  },
  {
   "cell_type": "code",
   "execution_count": 5,
   "id": "a0d9e1b3741dbd25",
   "metadata": {
    "ExecuteTime": {
     "end_time": "2024-06-13T11:35:25.577921Z",
     "start_time": "2024-06-13T11:35:25.567813Z"
    }
   },
   "outputs": [
    {
     "data": {
      "application/json": {
       "description": "Exposição das obras do grande Leonardo da Vinci",
       "end_date": "Tue, 30 Jul 2024 00:00:00 GMT",
       "exhibition_id": 2,
       "start_date": null,
       "title": "DonateloEsVoce"
      },
      "text/plain": [
       "<IPython.core.display.JSON object>"
      ]
     },
     "metadata": {
      "application/json": {
       "expanded": false,
       "root": "root"
      }
     },
     "output_type": "display_data"
    }
   ],
   "source": [
    "#Endpoint que buscara o registro com base no id passado na URL\n",
    "def get_by_id(id):\n",
    "    response = requests.get(f\"{BASE_URL}/{id}\")\n",
    "    if response.status_code == 200:\n",
    "        data = response.json()\n",
    "        return display(JSON(data))\n",
    "    else:\n",
    "        return f\"Error: {response.status_code}, {response.json()}\"\n",
    "\n",
    "\n",
    "get_by_id(2)"
   ]
  },
  {
   "cell_type": "markdown",
   "id": "55fa87eb16195bb9",
   "metadata": {},
   "source": [
    "Requisição - GET_BY_TITLE"
   ]
  },
  {
   "cell_type": "code",
   "execution_count": 6,
   "id": "aedaba80130927e4",
   "metadata": {
    "ExecuteTime": {
     "end_time": "2024-06-13T11:35:25.588418Z",
     "start_time": "2024-06-13T11:35:25.577921Z"
    }
   },
   "outputs": [
    {
     "data": {
      "application/json": {
       "description": "Exposição das obras do grande Leonardo da Vinci",
       "end_date": "Fri, 14 Jun 2024 00:00:00 GMT",
       "exhibition_id": 1,
       "start_date": "Tue, 11 Jun 2024 00:00:00 GMT",
       "title": "DonateloEsVoce"
      },
      "text/plain": [
       "<IPython.core.display.JSON object>"
      ]
     },
     "metadata": {
      "application/json": {
       "expanded": false,
       "root": "root"
      }
     },
     "output_type": "display_data"
    }
   ],
   "source": [
    "def get_by_title(title):\n",
    "    response = requests.get(f\"{BASE_URL}/{title}\")\n",
    "    if response.status_code == 200:\n",
    "        data = response.json()\n",
    "        return display(JSON(data))\n",
    "    else:\n",
    "        return f\"Error: {response.status_code}, {response.json()}\"\n",
    "\n",
    "title = 'DonateloEsVoce'\n",
    "get_by_title(title)"
   ]
  },
  {
   "cell_type": "markdown",
   "id": "a5d0cebb5174df3e",
   "metadata": {},
   "source": [
    "Requisição - CREATE"
   ]
  },
  {
   "cell_type": "code",
   "execution_count": 7,
   "id": "552dcb58855dfcb9",
   "metadata": {
    "ExecuteTime": {
     "end_time": "2024-06-13T11:35:25.603734Z",
     "start_time": "2024-06-13T11:35:25.588418Z"
    }
   },
   "outputs": [
    {
     "data": {
      "application/json": {
       "description": "Exposição das obras do grande Leonardo da Vinci",
       "end_date": "Tue, 30 Jul 2024 00:00:00 GMT",
       "exhibition_id": 7,
       "start_date": "Tue, 23 Jul 2024 00:00:00 GMT",
       "title": "OS Algos"
      },
      "text/plain": [
       "<IPython.core.display.JSON object>"
      ]
     },
     "metadata": {
      "application/json": {
       "expanded": false,
       "root": "root"
      }
     },
     "output_type": "display_data"
    }
   ],
   "source": [
    "#Enedpoint que registra na base\n",
    "def create(data):\n",
    "    headers = {'Content-Type': 'application/json'}\n",
    "    response = requests.post(f\"{BASE_URL}/\", json=data, headers=headers)\n",
    "    if response.status_code == 200:\n",
    "        data = response.json()\n",
    "        return display(JSON(data))\n",
    "    else:\n",
    "        return f\"Error: {response.status_code}, {response.json()}\"\n",
    "    \n",
    "create(object)"
   ]
  },
  {
   "cell_type": "markdown",
   "id": "991c29483658b7a9",
   "metadata": {},
   "source": [
    "Requisição - UPDATE"
   ]
  },
  {
   "cell_type": "code",
   "execution_count": 8,
   "id": "4afdf429a742a2db",
   "metadata": {
    "ExecuteTime": {
     "end_time": "2024-06-13T11:35:25.608846Z",
     "start_time": "2024-06-13T11:35:25.604822Z"
    }
   },
   "outputs": [],
   "source": [
    "#Enedpoint que atualiza um registro na base\n",
    "def update(id, data):\n",
    "    headers = {'Content-Type': 'application/json'}\n",
    "    response = requests.put(f\"{BASE_URL}/{id}\", json=data, headers=headers)\n",
    "    if response.status_code == 200:\n",
    "        data = response.json()\n",
    "        return display(JSON(data))\n",
    "    else:\n",
    "        return f\"Error: {response.status_code}, {response.json()}\"\n",
    "\n",
    "id = 2\n",
    "#update(id, object)"
   ]
  },
  {
   "cell_type": "markdown",
   "id": "d7122ac379dadb8a",
   "metadata": {},
   "source": [
    "Requisição - DELETE"
   ]
  },
  {
   "cell_type": "code",
   "execution_count": 9,
   "id": "8eb8bcfdfd90c345",
   "metadata": {
    "ExecuteTime": {
     "end_time": "2024-06-13T11:35:25.613643Z",
     "start_time": "2024-06-13T11:35:25.608846Z"
    }
   },
   "outputs": [],
   "source": [
    "#Enedpoint que deleta um registro da base\n",
    "def delete(id):\n",
    "    response = requests.delete(f\"{BASE_URL}/{id}\")\n",
    "    if response.status_code == 204:\n",
    "        return response.status_code\n",
    "    else:\n",
    "        return f\"Error: {response.status_code}, {response.json()}\"\n",
    "    \n",
    "id = 320\n",
    "#delete(id)"
   ]
  },
  {
   "cell_type": "markdown",
   "id": "3ffa98b50a02c957",
   "metadata": {},
   "source": [
    "Request - get_by_args_title"
   ]
  },
  {
   "cell_type": "code",
   "execution_count": 10,
   "id": "6a18fdfec779d74f",
   "metadata": {
    "ExecuteTime": {
     "end_time": "2024-06-13T11:35:25.623007Z",
     "start_time": "2024-06-13T11:35:25.613643Z"
    }
   },
   "outputs": [
    {
     "data": {
      "text/plain": [
       "<IPython.core.display.JSON object>"
      ]
     },
     "metadata": {
      "application/json": {
       "expanded": false,
       "root": "root"
      }
     },
     "output_type": "display_data"
    }
   ],
   "source": [
    "def get_by_args(object_args):\n",
    "    query_string = '&'.join(f\"{key}={value}\" for key, value in object_args.items())\n",
    "    response = requests.get(f\"{BASE_URL}?{query_string}\")\n",
    "    \n",
    "    if response.status_code == 200:\n",
    "        data = response.json()\n",
    "        display(JSON(data))\n",
    "    else:\n",
    "        return f\"Erro: {response.status_code}, {response.json()}\"\n",
    "\n",
    "get_by_args(object_args_title)"
   ]
  },
  {
   "cell_type": "markdown",
   "id": "df783e2b3efc44e5",
   "metadata": {},
   "source": [
    "Request - get_by_args_start_date"
   ]
  },
  {
   "cell_type": "code",
   "execution_count": 11,
   "id": "f75703515bb589ac",
   "metadata": {
    "ExecuteTime": {
     "end_time": "2024-06-13T11:35:25.632709Z",
     "start_time": "2024-06-13T11:35:25.623007Z"
    }
   },
   "outputs": [
    {
     "data": {
      "application/json": "",
      "text/plain": [
       "<IPython.core.display.JSON object>"
      ]
     },
     "metadata": {
      "application/json": {
       "expanded": false,
       "root": "root"
      }
     },
     "output_type": "display_data"
    }
   ],
   "source": [
    "def get_by_args(object_args):\n",
    "    query_string = '&'.join(f\"{key}={value}\" for key, value in object_args.items())\n",
    "    response = requests.get(f\"{BASE_URL}?{query_string}\")\n",
    "    \n",
    "    if response.status_code == 200:\n",
    "        data = response.json()\n",
    "        display(JSON(data))\n",
    "    else:\n",
    "        return f\"Erro: {response.status_code}, {response.json()}\"\n",
    "\n",
    "get_by_args(object_args_start_date)"
   ]
  },
  {
   "cell_type": "markdown",
   "id": "b7bc483641b0539d",
   "metadata": {},
   "source": [
    "Request - get_by_args_end_date"
   ]
  },
  {
   "cell_type": "code",
   "execution_count": 12,
   "id": "c2e578b38c1bc67e",
   "metadata": {
    "ExecuteTime": {
     "end_time": "2024-06-13T11:35:25.716525Z",
     "start_time": "2024-06-13T11:35:25.695607Z"
    }
   },
   "outputs": [
    {
     "data": {
      "application/json": "",
      "text/plain": [
       "<IPython.core.display.JSON object>"
      ]
     },
     "metadata": {
      "application/json": {
       "expanded": false,
       "root": "root"
      }
     },
     "output_type": "display_data"
    }
   ],
   "source": [
    "def get_by_args(object_args):\n",
    "    query_string = '&'.join(f\"{key}={value}\" for key, value in object_args.items())\n",
    "    response = requests.get(f\"{BASE_URL}?{query_string}\")\n",
    "    \n",
    "    if response.status_code == 200:\n",
    "        data = response.json()\n",
    "        display(JSON(data))\n",
    "    else:\n",
    "        return f\"Erro: {response.status_code}, {response.json()}\"\n",
    "\n",
    "get_by_args(object_args_end_date)"
   ]
  }
 ],
 "metadata": {
  "kernelspec": {
   "display_name": "Python 3 (ipykernel)",
   "language": "python",
   "name": "python3"
  },
  "language_info": {
   "codemirror_mode": {
    "name": "ipython",
    "version": 3
   },
   "file_extension": ".py",
   "mimetype": "text/x-python",
   "name": "python",
   "nbconvert_exporter": "python",
   "pygments_lexer": "ipython3",
   "version": "3.12.3"
  }
 },
 "nbformat": 4,
 "nbformat_minor": 5
}
