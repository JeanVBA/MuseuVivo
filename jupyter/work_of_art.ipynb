{
 "cells": [
  {
   "cell_type": "code",
   "execution_count": null,
   "id": "initial_id",
   "metadata": {
    "collapsed": true
   },
   "outputs": [],
   "source": [
    "import requests\n",
    "from IPython.display import display, JSON"
   ]
  },
  {
   "metadata": {},
   "cell_type": "code",
   "outputs": [],
   "execution_count": null,
   "source": "BASE_URL = 'http://127.0.0.1:5000/work_of_art'",
   "id": "944ef625dce78dec"
  },
  {
   "metadata": {},
   "cell_type": "markdown",
   "source": "Request - GET_ALL",
   "id": "4f22c30dc6ba828e"
  },
  {
   "metadata": {},
   "cell_type": "code",
   "outputs": [],
   "execution_count": null,
   "source": [
    "#Endpoint que buscara todos os registros\n",
    "def get_all():\n",
    "    response = requests.get(f\"{BASE_URL}/\")\n",
    "    if response.status_code == 200:\n",
    "        data = response.json()\n",
    "        return display(JSON(data))\n",
    "    else:\n",
    "        return f\"Error: {response.status_code}\"\n",
    "\n",
    "\n",
    "get_all()"
   ],
   "id": "1f1e4e71a47b7908"
  },
  {
   "metadata": {},
   "cell_type": "markdown",
   "source": "Request - GET_BY_ID",
   "id": "f417c3a1345e2c18"
  },
  {
   "metadata": {},
   "cell_type": "code",
   "outputs": [],
   "execution_count": null,
   "source": [
    "#Endpoint que buscara o registro com base no id passado na URL\n",
    "def get_by_id(id):\n",
    "    response = requests.get(f\"{BASE_URL}/{id}\")\n",
    "    if response.status_code == 200:\n",
    "        data = response.json()\n",
    "        return display(JSON(data))\n",
    "    else:\n",
    "        return f\"Error: {response.status_code}, {response.json()}\"\n",
    "\n",
    "\n",
    "get_by_id(23)"
   ],
   "id": "1e87ca4df33c3a61"
  },
  {
   "metadata": {},
   "cell_type": "markdown",
   "source": "Request - CREATE",
   "id": "df1ec598c40633f2"
  },
  {
   "metadata": {},
   "cell_type": "markdown",
   "source": "Request - UPDATE",
   "id": "5853f152b7a1557e"
  },
  {
   "metadata": {},
   "cell_type": "markdown",
   "source": "Request - DELETE",
   "id": "d9afdabb14a4d3b6"
  }
 ],
 "metadata": {
  "kernelspec": {
   "display_name": "Python 3",
   "language": "python",
   "name": "python3"
  },
  "language_info": {
   "codemirror_mode": {
    "name": "ipython",
    "version": 2
   },
   "file_extension": ".py",
   "mimetype": "text/x-python",
   "name": "python",
   "nbconvert_exporter": "python",
   "pygments_lexer": "ipython2",
   "version": "2.7.6"
  }
 },
 "nbformat": 4,
 "nbformat_minor": 5
}
