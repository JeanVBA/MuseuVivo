{
 "cells": [
  {
   "cell_type": "code",
   "id": "initial_id",
   "metadata": {
    "collapsed": true,
    "ExecuteTime": {
     "end_time": "2024-06-14T11:11:27.062006Z",
     "start_time": "2024-06-14T11:11:27.048731Z"
    }
   },
   "source": [
    "import requests\n",
    "from IPython.display import display, JSON"
   ],
   "outputs": [],
   "execution_count": 70
  },
  {
   "cell_type": "code",
   "id": "944ef625dce78dec",
   "metadata": {
    "ExecuteTime": {
     "end_time": "2024-06-14T11:11:27.089718Z",
     "start_time": "2024-06-14T11:11:27.081052Z"
    }
   },
   "source": [
    "BASE_URL = 'http://127.0.0.1:5000/work_of_art'"
   ],
   "outputs": [],
   "execution_count": 71
  },
  {
   "cell_type": "code",
   "id": "2a1c5c57",
   "metadata": {
    "ExecuteTime": {
     "end_time": "2024-06-14T11:11:27.094992Z",
     "start_time": "2024-06-14T11:11:27.089718Z"
    }
   },
   "source": [
    "object = {\n",
    "    'name': 'O Algo',\n",
    "    'description': 'Alguma coisa muito coisado',\n",
    "    'creation_date': '1256-02-20',\n",
    "    'author_id': 1,\n",
    "    'location_id': 6,\n",
    "    'type': 'Sculpture'\n",
    "}\n",
    "\n",
    "object_args_work_of_art_name = {'name': 'O Algo'}\n",
    "object_args_creation_date = {'creation_date': '1256-02-20'}\n",
    "object_args_author_name = {'author_name': 'Mozart'}\n",
    "object_args_location_name = {'location_name': 'Centro Oeste'}\n",
    "object_args_work_of_art_type = {'type': 'Sculpture'}"
   ],
   "outputs": [],
   "execution_count": 72
  },
  {
   "cell_type": "markdown",
   "id": "4f22c30dc6ba828e",
   "metadata": {},
   "source": [
    "Request - GET_ALL"
   ]
  },
  {
   "cell_type": "code",
   "id": "1f1e4e71a47b7908",
   "metadata": {
    "ExecuteTime": {
     "end_time": "2024-06-14T11:11:27.505767Z",
     "start_time": "2024-06-14T11:11:27.095999Z"
    }
   },
   "source": [
    "#Endpoint que buscara todos os registros\n",
    "def get_all():\n",
    "    response = requests.get(f\"{BASE_URL}/\")\n",
    "    if response.status_code == 200:\n",
    "        data = response.json()\n",
    "        return display(JSON(data))\n",
    "    else:\n",
    "        return f\"Error: {response.status_code}\"\n",
    "\n",
    "\n",
    "get_all()"
   ],
   "outputs": [
    {
     "data": {
      "text/plain": [
       "<IPython.core.display.JSON object>"
      ],
      "application/json": [
       {
        "author": "Mozart",
        "creation_date": "Sun, 01 Feb 1632 00:00:00 GMT",
        "description": "Escultura de alguem desconhecido",
        "id": 2,
        "location": "Centro Oeste",
        "name": "O algo",
        "type": "Sculpture"
       },
       {
        "author": "Mozart",
        "creation_date": "Sun, 01 Feb 1632 00:00:00 GMT",
        "description": "Escultura de alguem desconhecido",
        "id": 3,
        "location": "Centro Oeste",
        "name": "O algo",
        "type": "Sculpture"
       },
       {
        "author": "Mozart",
        "creation_date": "Sun, 01 Feb 1632 00:00:00 GMT",
        "description": "Escultura de alguem desconhecido",
        "id": 4,
        "location": "Centro Oeste",
        "name": "O algo",
        "type": "Sculpture"
       },
       {
        "author": "Mozart",
        "creation_date": "Sun, 01 Feb 1632 00:00:00 GMT",
        "description": "Escultura de alguem desconhecido",
        "id": 5,
        "location": "Centro Oeste",
        "name": "O algo",
        "type": "Sculpture"
       },
       {
        "author": "Mozart",
        "creation_date": "Sun, 01 Feb 1632 00:00:00 GMT",
        "description": "Escultura de alguem desconhecido",
        "id": 6,
        "location": "Centro Oeste",
        "name": "O algo",
        "type": "Sculpture"
       },
       {
        "author": "Mozart",
        "creation_date": "Sun, 01 Feb 1632 00:00:00 GMT",
        "description": "Escultura de alguem desconhecido",
        "id": 7,
        "location": "Centro Oeste",
        "name": "O algo",
        "type": "Sculpture"
       },
       {
        "author": "Mozart",
        "creation_date": "Sun, 01 Feb 1632 00:00:00 GMT",
        "description": "Escultura de alguem desconhecido",
        "id": 8,
        "location": "Centro Oeste",
        "name": "O algo",
        "type": "Sculpture"
       },
       {
        "author": "Mozart",
        "creation_date": "Sun, 01 Feb 1632 00:00:00 GMT",
        "description": "Escultura de alguem desconhecido",
        "id": 9,
        "location": "Centro Oeste",
        "name": "O algo",
        "type": "Sculpture"
       },
       {
        "author": "Mozart",
        "creation_date": "Sun, 01 Feb 1632 00:00:00 GMT",
        "description": "Escultura de alguem desconhecido",
        "id": 10,
        "location": "Centro Oeste",
        "name": "O algo",
        "type": "Sculpture"
       },
       {
        "author": "Mozart",
        "creation_date": "Sun, 01 Feb 1632 00:00:00 GMT",
        "description": "Escultura de alguem desconhecido",
        "id": 11,
        "location": "Centro Oeste",
        "name": "O algo",
        "type": "Sculpture"
       },
       {
        "author": "Mozart",
        "creation_date": "Sun, 01 Feb 1632 00:00:00 GMT",
        "description": "Escultura de alguem desconhecido",
        "id": 12,
        "location": "Centro Oeste",
        "name": "O algo",
        "type": "Sculpture"
       },
       {
        "author": "Mozart",
        "creation_date": "Sun, 01 Feb 1632 00:00:00 GMT",
        "description": "Escultura de alguem desconhecido",
        "id": 13,
        "location": "Centro Oeste",
        "name": "O algo",
        "type": "Sculpture"
       },
       {
        "author": "Mozart",
        "creation_date": "Sun, 01 Feb 1632 00:00:00 GMT",
        "description": "Escultura de alguem desconhecido",
        "id": 14,
        "location": "Centro Oeste",
        "name": "O algo",
        "painting": {
         "technique": "Pintura a oléo"
        },
        "type": "Painting"
       },
       {
        "author": "Mozart",
        "creation_date": "Sun, 20 Feb 1256 00:00:00 GMT",
        "description": "Alguma coisa muito coisado",
        "id": 15,
        "location": "Centro Oeste",
        "name": "O Algo",
        "type": "Sculpture"
       },
       {
        "author": "Mozart",
        "creation_date": "Sun, 20 Feb 1256 00:00:00 GMT",
        "description": "Alguma coisa muito coisado",
        "id": 16,
        "location": "Centro Oeste",
        "name": "O Algo",
        "type": "Sculpture"
       },
       {
        "author": "Mozart",
        "creation_date": "Sun, 20 Feb 1256 00:00:00 GMT",
        "description": "Alguma coisa muito coisado",
        "id": 17,
        "location": "Centro Oeste",
        "name": "O Algo",
        "type": "Sculpture"
       },
       {
        "author": "Mozart",
        "creation_date": "Sun, 20 Feb 1256 00:00:00 GMT",
        "description": "Alguma coisa muito coisado",
        "id": 18,
        "location": "Centro Oeste",
        "name": "O Algo",
        "type": "Sculpture"
       },
       {
        "author": "Mozart",
        "creation_date": "Sun, 20 Feb 1256 00:00:00 GMT",
        "description": "Alguma coisa muito coisado",
        "id": 19,
        "location": "Centro Oeste",
        "name": "O Algo",
        "type": "Sculpture"
       },
       {
        "author": "Mozart",
        "creation_date": "Sun, 20 Feb 1256 00:00:00 GMT",
        "description": "Alguma coisa muito coisado",
        "id": 20,
        "location": "Centro Oeste",
        "name": "O Algo",
        "type": "Sculpture"
       }
      ]
     },
     "metadata": {
      "application/json": {
       "expanded": false,
       "root": "root"
      }
     },
     "output_type": "display_data"
    }
   ],
   "execution_count": 73
  },
  {
   "cell_type": "markdown",
   "id": "f417c3a1345e2c18",
   "metadata": {},
   "source": [
    "Request - GET_BY_ID"
   ]
  },
  {
   "cell_type": "code",
   "id": "1e87ca4df33c3a61",
   "metadata": {
    "ExecuteTime": {
     "end_time": "2024-06-14T11:11:27.521103Z",
     "start_time": "2024-06-14T11:11:27.505767Z"
    }
   },
   "source": [
    "#Endpoint que buscara o registro com base no id passado na URL\n",
    "def get_by_id(id):\n",
    "    response = requests.get(f\"{BASE_URL}/{id}\")\n",
    "    if response.status_code == 200:\n",
    "        data = response.json()\n",
    "        return display(JSON(data))\n",
    "    else:\n",
    "        return f\"Error: {response.status_code}, {response.json()}\"\n",
    "\n",
    "\n",
    "get_by_id(3)"
   ],
   "outputs": [
    {
     "data": {
      "text/plain": [
       "<IPython.core.display.JSON object>"
      ],
      "application/json": {
       "author": "Mozart",
       "creation_date": "Sun, 01 Feb 1632 00:00:00 GMT",
       "description": "Escultura de alguem desconhecido",
       "id": 3,
       "location": "Centro Oeste",
       "name": "O algo",
       "type": "Sculpture"
      }
     },
     "metadata": {
      "application/json": {
       "expanded": false,
       "root": "root"
      }
     },
     "output_type": "display_data"
    }
   ],
   "execution_count": 74
  },
  {
   "cell_type": "markdown",
   "id": "df1ec598c40633f2",
   "metadata": {},
   "source": [
    "Request - CREATE"
   ]
  },
  {
   "cell_type": "code",
   "id": "1bb9cdacebcc62fe",
   "metadata": {
    "ExecuteTime": {
     "end_time": "2024-06-14T11:11:27.543662Z",
     "start_time": "2024-06-14T11:11:27.521103Z"
    }
   },
   "source": [
    "#Enedpoint que registra na base\n",
    "def create(data):\n",
    "    headers = {'Content-Type': 'application/json'}\n",
    "    response = requests.post(f\"{BASE_URL}/\", json=data, headers=headers)\n",
    "    if response.status_code == 200:\n",
    "        data = response.json()\n",
    "        return display(JSON(data))\n",
    "    else:\n",
    "        return f\"Error: {response.status_code}, {response.json()}\"\n",
    "    \n",
    "\n",
    "create(object)"
   ],
   "outputs": [
    {
     "data": {
      "text/plain": [
       "<IPython.core.display.JSON object>"
      ],
      "application/json": {
       "author": "Mozart",
       "creation_date": "Sun, 20 Feb 1256 00:00:00 GMT",
       "description": "Alguma coisa muito coisado",
       "id": 21,
       "location": "Centro Oeste",
       "name": "O Algo",
       "type": "Sculpture"
      }
     },
     "metadata": {
      "application/json": {
       "expanded": false,
       "root": "root"
      }
     },
     "output_type": "display_data"
    }
   ],
   "execution_count": 75
  },
  {
   "cell_type": "markdown",
   "id": "5853f152b7a1557e",
   "metadata": {},
   "source": [
    "Request - UPDATE"
   ]
  },
  {
   "cell_type": "code",
   "id": "b1733b44b4162749",
   "metadata": {
    "ExecuteTime": {
     "end_time": "2024-06-14T11:11:27.568321Z",
     "start_time": "2024-06-14T11:11:27.544535Z"
    }
   },
   "source": [
    "#Enedpoint que atualiza um registro na base\n",
    "def update(id, data):\n",
    "    headers = {'Content-Type': 'application/json'}\n",
    "    response = requests.put(f\"{BASE_URL}/{id}\", json=data, headers=headers)\n",
    "    if response.status_code == 200:\n",
    "        data = response.json()\n",
    "        return display(JSON(data))\n",
    "    else:\n",
    "        return f\"Error: {response.status_code}, {response.json()}\"\n",
    "\n",
    "id = 3\n",
    "update(id, object)"
   ],
   "outputs": [
    {
     "data": {
      "text/plain": [
       "<IPython.core.display.JSON object>"
      ],
      "application/json": {
       "author": "Mozart",
       "creation_date": "Sun, 20 Feb 1256 00:00:00 GMT",
       "description": "Alguma coisa muito coisado",
       "id": 3,
       "location": "Centro Oeste",
       "name": "O Algo",
       "type": "Sculpture"
      }
     },
     "metadata": {
      "application/json": {
       "expanded": false,
       "root": "root"
      }
     },
     "output_type": "display_data"
    }
   ],
   "execution_count": 76
  },
  {
   "cell_type": "markdown",
   "id": "d9afdabb14a4d3b6",
   "metadata": {},
   "source": [
    "Request - DELETE"
   ]
  },
  {
   "cell_type": "code",
   "id": "c616976d280a8ca8",
   "metadata": {
    "ExecuteTime": {
     "end_time": "2024-06-14T11:11:27.577963Z",
     "start_time": "2024-06-14T11:11:27.568321Z"
    }
   },
   "source": [
    "#Enedpoint que deleta um registro da base\n",
    "def delete(id):\n",
    "    response = requests.delete(f\"{BASE_URL}/{id}\")\n",
    "    if response.status_code == 204:\n",
    "        return response.status_code\n",
    "    else:\n",
    "        return f\"Error: {response.status_code}, {response.json()}\"\n",
    "    \n",
    "id = 1\n",
    "delete(id)"
   ],
   "outputs": [
    {
     "data": {
      "text/plain": [
       "\"Error: 404, {'error': 'Work of art not found'}\""
      ]
     },
     "execution_count": 77,
     "metadata": {},
     "output_type": "execute_result"
    }
   ],
   "execution_count": 77
  },
  {
   "cell_type": "markdown",
   "id": "abf806f19ea7514e",
   "metadata": {},
   "source": [
    "Request - get_by_args_name"
   ]
  },
  {
   "cell_type": "code",
   "id": "38e1e9e5",
   "metadata": {
    "ExecuteTime": {
     "end_time": "2024-06-14T11:11:27.603548Z",
     "start_time": "2024-06-14T11:11:27.577963Z"
    }
   },
   "source": [
    "def get_by_args(object_args):\n",
    "    query_string = '&'.join(f\"{key}={value}\" for key, value in object_args.items())\n",
    "    response = requests.get(f\"{BASE_URL}?{query_string}\")\n",
    "    \n",
    "    if response.status_code == 200:\n",
    "        data = response.json()\n",
    "        display(JSON(data))\n",
    "    else:\n",
    "        return f\"Erro: {response.status_code}, {response.json()}\"\n",
    "\n",
    "\n",
    "get_by_args(object_args_work_of_art_name)"
   ],
   "outputs": [
    {
     "data": {
      "text/plain": [
       "<IPython.core.display.JSON object>"
      ],
      "application/json": [
       {
        "author": "Mozart",
        "creation_date": "Sun, 01 Feb 1632 00:00:00 GMT",
        "description": "Escultura de alguem desconhecido",
        "id": 2,
        "location": "Centro Oeste",
        "name": "O algo",
        "type": "Sculpture"
       },
       {
        "author": "Mozart",
        "creation_date": "Sun, 20 Feb 1256 00:00:00 GMT",
        "description": "Alguma coisa muito coisado",
        "id": 3,
        "location": "Centro Oeste",
        "name": "O Algo",
        "type": "Sculpture"
       },
       {
        "author": "Mozart",
        "creation_date": "Sun, 01 Feb 1632 00:00:00 GMT",
        "description": "Escultura de alguem desconhecido",
        "id": 4,
        "location": "Centro Oeste",
        "name": "O algo",
        "type": "Sculpture"
       },
       {
        "author": "Mozart",
        "creation_date": "Sun, 01 Feb 1632 00:00:00 GMT",
        "description": "Escultura de alguem desconhecido",
        "id": 5,
        "location": "Centro Oeste",
        "name": "O algo",
        "type": "Sculpture"
       },
       {
        "author": "Mozart",
        "creation_date": "Sun, 01 Feb 1632 00:00:00 GMT",
        "description": "Escultura de alguem desconhecido",
        "id": 6,
        "location": "Centro Oeste",
        "name": "O algo",
        "type": "Sculpture"
       },
       {
        "author": "Mozart",
        "creation_date": "Sun, 01 Feb 1632 00:00:00 GMT",
        "description": "Escultura de alguem desconhecido",
        "id": 7,
        "location": "Centro Oeste",
        "name": "O algo",
        "type": "Sculpture"
       },
       {
        "author": "Mozart",
        "creation_date": "Sun, 01 Feb 1632 00:00:00 GMT",
        "description": "Escultura de alguem desconhecido",
        "id": 8,
        "location": "Centro Oeste",
        "name": "O algo",
        "type": "Sculpture"
       },
       {
        "author": "Mozart",
        "creation_date": "Sun, 01 Feb 1632 00:00:00 GMT",
        "description": "Escultura de alguem desconhecido",
        "id": 9,
        "location": "Centro Oeste",
        "name": "O algo",
        "type": "Sculpture"
       },
       {
        "author": "Mozart",
        "creation_date": "Sun, 01 Feb 1632 00:00:00 GMT",
        "description": "Escultura de alguem desconhecido",
        "id": 10,
        "location": "Centro Oeste",
        "name": "O algo",
        "type": "Sculpture"
       },
       {
        "author": "Mozart",
        "creation_date": "Sun, 01 Feb 1632 00:00:00 GMT",
        "description": "Escultura de alguem desconhecido",
        "id": 11,
        "location": "Centro Oeste",
        "name": "O algo",
        "type": "Sculpture"
       },
       {
        "author": "Mozart",
        "creation_date": "Sun, 01 Feb 1632 00:00:00 GMT",
        "description": "Escultura de alguem desconhecido",
        "id": 12,
        "location": "Centro Oeste",
        "name": "O algo",
        "type": "Sculpture"
       },
       {
        "author": "Mozart",
        "creation_date": "Sun, 01 Feb 1632 00:00:00 GMT",
        "description": "Escultura de alguem desconhecido",
        "id": 13,
        "location": "Centro Oeste",
        "name": "O algo",
        "type": "Sculpture"
       },
       {
        "author": "Mozart",
        "creation_date": "Sun, 01 Feb 1632 00:00:00 GMT",
        "description": "Escultura de alguem desconhecido",
        "id": 14,
        "location": "Centro Oeste",
        "name": "O algo",
        "painting": {
         "technique": "Pintura a oléo"
        },
        "type": "Painting"
       },
       {
        "author": "Mozart",
        "creation_date": "Sun, 20 Feb 1256 00:00:00 GMT",
        "description": "Alguma coisa muito coisado",
        "id": 15,
        "location": "Centro Oeste",
        "name": "O Algo",
        "type": "Sculpture"
       },
       {
        "author": "Mozart",
        "creation_date": "Sun, 20 Feb 1256 00:00:00 GMT",
        "description": "Alguma coisa muito coisado",
        "id": 16,
        "location": "Centro Oeste",
        "name": "O Algo",
        "type": "Sculpture"
       },
       {
        "author": "Mozart",
        "creation_date": "Sun, 20 Feb 1256 00:00:00 GMT",
        "description": "Alguma coisa muito coisado",
        "id": 17,
        "location": "Centro Oeste",
        "name": "O Algo",
        "type": "Sculpture"
       },
       {
        "author": "Mozart",
        "creation_date": "Sun, 20 Feb 1256 00:00:00 GMT",
        "description": "Alguma coisa muito coisado",
        "id": 18,
        "location": "Centro Oeste",
        "name": "O Algo",
        "type": "Sculpture"
       },
       {
        "author": "Mozart",
        "creation_date": "Sun, 20 Feb 1256 00:00:00 GMT",
        "description": "Alguma coisa muito coisado",
        "id": 19,
        "location": "Centro Oeste",
        "name": "O Algo",
        "type": "Sculpture"
       },
       {
        "author": "Mozart",
        "creation_date": "Sun, 20 Feb 1256 00:00:00 GMT",
        "description": "Alguma coisa muito coisado",
        "id": 20,
        "location": "Centro Oeste",
        "name": "O Algo",
        "type": "Sculpture"
       },
       {
        "author": "Mozart",
        "creation_date": "Sun, 20 Feb 1256 00:00:00 GMT",
        "description": "Alguma coisa muito coisado",
        "id": 21,
        "location": "Centro Oeste",
        "name": "O Algo",
        "type": "Sculpture"
       }
      ]
     },
     "metadata": {
      "application/json": {
       "expanded": false,
       "root": "root"
      }
     },
     "output_type": "display_data"
    }
   ],
   "execution_count": 78
  },
  {
   "cell_type": "markdown",
   "id": "f8b43337d4a68f78",
   "metadata": {},
   "source": [
    "Request - get_by_args_creation_date"
   ]
  },
  {
   "cell_type": "code",
   "id": "640fa672",
   "metadata": {
    "ExecuteTime": {
     "end_time": "2024-06-14T11:11:27.619894Z",
     "start_time": "2024-06-14T11:11:27.603548Z"
    }
   },
   "source": [
    "def get_by_args(object_args):\n",
    "    query_string = '&'.join(f\"{key}={value}\" for key, value in object_args.items())\n",
    "    response = requests.get(f\"{BASE_URL}?{query_string}\")\n",
    "    \n",
    "    if response.status_code == 200:\n",
    "        data = response.json()\n",
    "        display(JSON(data))\n",
    "    else:\n",
    "        return f\"Erro: {response.status_code}, {response.json()}\"\n",
    "\n",
    "\n",
    "get_by_args(object_args_creation_date)"
   ],
   "outputs": [
    {
     "data": {
      "text/plain": [
       "<IPython.core.display.JSON object>"
      ],
      "application/json": [
       {
        "author": "Mozart",
        "creation_date": "Sun, 20 Feb 1256 00:00:00 GMT",
        "description": "Alguma coisa muito coisado",
        "id": 3,
        "location": "Centro Oeste",
        "name": "O Algo",
        "type": "Sculpture"
       },
       {
        "author": "Mozart",
        "creation_date": "Sun, 20 Feb 1256 00:00:00 GMT",
        "description": "Alguma coisa muito coisado",
        "id": 15,
        "location": "Centro Oeste",
        "name": "O Algo",
        "type": "Sculpture"
       },
       {
        "author": "Mozart",
        "creation_date": "Sun, 20 Feb 1256 00:00:00 GMT",
        "description": "Alguma coisa muito coisado",
        "id": 16,
        "location": "Centro Oeste",
        "name": "O Algo",
        "type": "Sculpture"
       },
       {
        "author": "Mozart",
        "creation_date": "Sun, 20 Feb 1256 00:00:00 GMT",
        "description": "Alguma coisa muito coisado",
        "id": 17,
        "location": "Centro Oeste",
        "name": "O Algo",
        "type": "Sculpture"
       },
       {
        "author": "Mozart",
        "creation_date": "Sun, 20 Feb 1256 00:00:00 GMT",
        "description": "Alguma coisa muito coisado",
        "id": 18,
        "location": "Centro Oeste",
        "name": "O Algo",
        "type": "Sculpture"
       },
       {
        "author": "Mozart",
        "creation_date": "Sun, 20 Feb 1256 00:00:00 GMT",
        "description": "Alguma coisa muito coisado",
        "id": 19,
        "location": "Centro Oeste",
        "name": "O Algo",
        "type": "Sculpture"
       },
       {
        "author": "Mozart",
        "creation_date": "Sun, 20 Feb 1256 00:00:00 GMT",
        "description": "Alguma coisa muito coisado",
        "id": 20,
        "location": "Centro Oeste",
        "name": "O Algo",
        "type": "Sculpture"
       },
       {
        "author": "Mozart",
        "creation_date": "Sun, 20 Feb 1256 00:00:00 GMT",
        "description": "Alguma coisa muito coisado",
        "id": 21,
        "location": "Centro Oeste",
        "name": "O Algo",
        "type": "Sculpture"
       }
      ]
     },
     "metadata": {
      "application/json": {
       "expanded": false,
       "root": "root"
      }
     },
     "output_type": "display_data"
    }
   ],
   "execution_count": 79
  },
  {
   "cell_type": "markdown",
   "id": "a4ecdb558e5863b8",
   "metadata": {},
   "source": [
    "Request - get_by_args_author_name"
   ]
  },
  {
   "cell_type": "code",
   "id": "c88d48e7",
   "metadata": {
    "ExecuteTime": {
     "end_time": "2024-06-14T11:11:27.698036Z",
     "start_time": "2024-06-14T11:11:27.619894Z"
    }
   },
   "source": [
    "def get_by_args(object_args):\n",
    "    query_string = '&'.join(f\"{key}={value}\" for key, value in object_args.items())\n",
    "    response = requests.get(f\"{BASE_URL}?{query_string}\")\n",
    "    \n",
    "    if response.status_code == 200:\n",
    "        data = response.json()\n",
    "        display(JSON(data))\n",
    "    else:\n",
    "        return f\"Erro: {response.status_code}, {response.json()}\"\n",
    "\n",
    "\n",
    "get_by_args(object_args_author_name)"
   ],
   "outputs": [
    {
     "data": {
      "text/plain": [
       "<IPython.core.display.JSON object>"
      ],
      "application/json": [
       {
        "author": "Mozart",
        "creation_date": "Sun, 01 Feb 1632 00:00:00 GMT",
        "description": "Escultura de alguem desconhecido",
        "id": 2,
        "location": "Centro Oeste",
        "name": "O algo",
        "type": "Sculpture"
       },
       {
        "author": "Mozart",
        "creation_date": "Sun, 20 Feb 1256 00:00:00 GMT",
        "description": "Alguma coisa muito coisado",
        "id": 3,
        "location": "Centro Oeste",
        "name": "O Algo",
        "type": "Sculpture"
       },
       {
        "author": "Mozart",
        "creation_date": "Sun, 01 Feb 1632 00:00:00 GMT",
        "description": "Escultura de alguem desconhecido",
        "id": 4,
        "location": "Centro Oeste",
        "name": "O algo",
        "type": "Sculpture"
       },
       {
        "author": "Mozart",
        "creation_date": "Sun, 01 Feb 1632 00:00:00 GMT",
        "description": "Escultura de alguem desconhecido",
        "id": 5,
        "location": "Centro Oeste",
        "name": "O algo",
        "type": "Sculpture"
       },
       {
        "author": "Mozart",
        "creation_date": "Sun, 01 Feb 1632 00:00:00 GMT",
        "description": "Escultura de alguem desconhecido",
        "id": 6,
        "location": "Centro Oeste",
        "name": "O algo",
        "type": "Sculpture"
       },
       {
        "author": "Mozart",
        "creation_date": "Sun, 01 Feb 1632 00:00:00 GMT",
        "description": "Escultura de alguem desconhecido",
        "id": 7,
        "location": "Centro Oeste",
        "name": "O algo",
        "type": "Sculpture"
       },
       {
        "author": "Mozart",
        "creation_date": "Sun, 01 Feb 1632 00:00:00 GMT",
        "description": "Escultura de alguem desconhecido",
        "id": 8,
        "location": "Centro Oeste",
        "name": "O algo",
        "type": "Sculpture"
       },
       {
        "author": "Mozart",
        "creation_date": "Sun, 01 Feb 1632 00:00:00 GMT",
        "description": "Escultura de alguem desconhecido",
        "id": 9,
        "location": "Centro Oeste",
        "name": "O algo",
        "type": "Sculpture"
       },
       {
        "author": "Mozart",
        "creation_date": "Sun, 01 Feb 1632 00:00:00 GMT",
        "description": "Escultura de alguem desconhecido",
        "id": 10,
        "location": "Centro Oeste",
        "name": "O algo",
        "type": "Sculpture"
       },
       {
        "author": "Mozart",
        "creation_date": "Sun, 01 Feb 1632 00:00:00 GMT",
        "description": "Escultura de alguem desconhecido",
        "id": 11,
        "location": "Centro Oeste",
        "name": "O algo",
        "type": "Sculpture"
       },
       {
        "author": "Mozart",
        "creation_date": "Sun, 01 Feb 1632 00:00:00 GMT",
        "description": "Escultura de alguem desconhecido",
        "id": 12,
        "location": "Centro Oeste",
        "name": "O algo",
        "type": "Sculpture"
       },
       {
        "author": "Mozart",
        "creation_date": "Sun, 01 Feb 1632 00:00:00 GMT",
        "description": "Escultura de alguem desconhecido",
        "id": 13,
        "location": "Centro Oeste",
        "name": "O algo",
        "type": "Sculpture"
       },
       {
        "author": "Mozart",
        "creation_date": "Sun, 01 Feb 1632 00:00:00 GMT",
        "description": "Escultura de alguem desconhecido",
        "id": 14,
        "location": "Centro Oeste",
        "name": "O algo",
        "painting": {
         "technique": "Pintura a oléo"
        },
        "type": "Painting"
       },
       {
        "author": "Mozart",
        "creation_date": "Sun, 20 Feb 1256 00:00:00 GMT",
        "description": "Alguma coisa muito coisado",
        "id": 15,
        "location": "Centro Oeste",
        "name": "O Algo",
        "type": "Sculpture"
       },
       {
        "author": "Mozart",
        "creation_date": "Sun, 20 Feb 1256 00:00:00 GMT",
        "description": "Alguma coisa muito coisado",
        "id": 16,
        "location": "Centro Oeste",
        "name": "O Algo",
        "type": "Sculpture"
       },
       {
        "author": "Mozart",
        "creation_date": "Sun, 20 Feb 1256 00:00:00 GMT",
        "description": "Alguma coisa muito coisado",
        "id": 17,
        "location": "Centro Oeste",
        "name": "O Algo",
        "type": "Sculpture"
       },
       {
        "author": "Mozart",
        "creation_date": "Sun, 20 Feb 1256 00:00:00 GMT",
        "description": "Alguma coisa muito coisado",
        "id": 18,
        "location": "Centro Oeste",
        "name": "O Algo",
        "type": "Sculpture"
       },
       {
        "author": "Mozart",
        "creation_date": "Sun, 20 Feb 1256 00:00:00 GMT",
        "description": "Alguma coisa muito coisado",
        "id": 19,
        "location": "Centro Oeste",
        "name": "O Algo",
        "type": "Sculpture"
       },
       {
        "author": "Mozart",
        "creation_date": "Sun, 20 Feb 1256 00:00:00 GMT",
        "description": "Alguma coisa muito coisado",
        "id": 20,
        "location": "Centro Oeste",
        "name": "O Algo",
        "type": "Sculpture"
       },
       {
        "author": "Mozart",
        "creation_date": "Sun, 20 Feb 1256 00:00:00 GMT",
        "description": "Alguma coisa muito coisado",
        "id": 21,
        "location": "Centro Oeste",
        "name": "O Algo",
        "type": "Sculpture"
       }
      ]
     },
     "metadata": {
      "application/json": {
       "expanded": false,
       "root": "root"
      }
     },
     "output_type": "display_data"
    }
   ],
   "execution_count": 80
  },
  {
   "cell_type": "markdown",
   "id": "207afaaebd05fb4f",
   "metadata": {},
   "source": [
    "Request - get_by_args_location_name"
   ]
  },
  {
   "cell_type": "code",
   "id": "2762f2a4",
   "metadata": {
    "ExecuteTime": {
     "end_time": "2024-06-14T11:11:27.751552Z",
     "start_time": "2024-06-14T11:11:27.698036Z"
    }
   },
   "source": [
    "def get_by_args(object_args):\n",
    "    query_string = '&'.join(f\"{key}={value}\" for key, value in object_args.items())\n",
    "    response = requests.get(f\"{BASE_URL}?{query_string}\")\n",
    "    \n",
    "    if response.status_code == 200:\n",
    "        data = response.json()\n",
    "        display(JSON(data))\n",
    "    else:\n",
    "        return f\"Erro: {response.status_code}, {response.json()}\"\n",
    "\n",
    "\n",
    "get_by_args(object_args_location_name)"
   ],
   "outputs": [
    {
     "data": {
      "text/plain": [
       "<IPython.core.display.JSON object>"
      ],
      "application/json": [
       {
        "author": "Mozart",
        "creation_date": "Sun, 01 Feb 1632 00:00:00 GMT",
        "description": "Escultura de alguem desconhecido",
        "id": 2,
        "location": "Centro Oeste",
        "name": "O algo",
        "type": "Sculpture"
       },
       {
        "author": "Mozart",
        "creation_date": "Sun, 20 Feb 1256 00:00:00 GMT",
        "description": "Alguma coisa muito coisado",
        "id": 3,
        "location": "Centro Oeste",
        "name": "O Algo",
        "type": "Sculpture"
       },
       {
        "author": "Mozart",
        "creation_date": "Sun, 01 Feb 1632 00:00:00 GMT",
        "description": "Escultura de alguem desconhecido",
        "id": 4,
        "location": "Centro Oeste",
        "name": "O algo",
        "type": "Sculpture"
       },
       {
        "author": "Mozart",
        "creation_date": "Sun, 01 Feb 1632 00:00:00 GMT",
        "description": "Escultura de alguem desconhecido",
        "id": 5,
        "location": "Centro Oeste",
        "name": "O algo",
        "type": "Sculpture"
       },
       {
        "author": "Mozart",
        "creation_date": "Sun, 01 Feb 1632 00:00:00 GMT",
        "description": "Escultura de alguem desconhecido",
        "id": 6,
        "location": "Centro Oeste",
        "name": "O algo",
        "type": "Sculpture"
       },
       {
        "author": "Mozart",
        "creation_date": "Sun, 01 Feb 1632 00:00:00 GMT",
        "description": "Escultura de alguem desconhecido",
        "id": 7,
        "location": "Centro Oeste",
        "name": "O algo",
        "type": "Sculpture"
       },
       {
        "author": "Mozart",
        "creation_date": "Sun, 01 Feb 1632 00:00:00 GMT",
        "description": "Escultura de alguem desconhecido",
        "id": 8,
        "location": "Centro Oeste",
        "name": "O algo",
        "type": "Sculpture"
       },
       {
        "author": "Mozart",
        "creation_date": "Sun, 01 Feb 1632 00:00:00 GMT",
        "description": "Escultura de alguem desconhecido",
        "id": 9,
        "location": "Centro Oeste",
        "name": "O algo",
        "type": "Sculpture"
       },
       {
        "author": "Mozart",
        "creation_date": "Sun, 01 Feb 1632 00:00:00 GMT",
        "description": "Escultura de alguem desconhecido",
        "id": 10,
        "location": "Centro Oeste",
        "name": "O algo",
        "type": "Sculpture"
       },
       {
        "author": "Mozart",
        "creation_date": "Sun, 01 Feb 1632 00:00:00 GMT",
        "description": "Escultura de alguem desconhecido",
        "id": 11,
        "location": "Centro Oeste",
        "name": "O algo",
        "type": "Sculpture"
       },
       {
        "author": "Mozart",
        "creation_date": "Sun, 01 Feb 1632 00:00:00 GMT",
        "description": "Escultura de alguem desconhecido",
        "id": 12,
        "location": "Centro Oeste",
        "name": "O algo",
        "type": "Sculpture"
       },
       {
        "author": "Mozart",
        "creation_date": "Sun, 01 Feb 1632 00:00:00 GMT",
        "description": "Escultura de alguem desconhecido",
        "id": 13,
        "location": "Centro Oeste",
        "name": "O algo",
        "type": "Sculpture"
       },
       {
        "author": "Mozart",
        "creation_date": "Sun, 01 Feb 1632 00:00:00 GMT",
        "description": "Escultura de alguem desconhecido",
        "id": 14,
        "location": "Centro Oeste",
        "name": "O algo",
        "painting": {
         "technique": "Pintura a oléo"
        },
        "type": "Painting"
       },
       {
        "author": "Mozart",
        "creation_date": "Sun, 20 Feb 1256 00:00:00 GMT",
        "description": "Alguma coisa muito coisado",
        "id": 15,
        "location": "Centro Oeste",
        "name": "O Algo",
        "type": "Sculpture"
       },
       {
        "author": "Mozart",
        "creation_date": "Sun, 20 Feb 1256 00:00:00 GMT",
        "description": "Alguma coisa muito coisado",
        "id": 16,
        "location": "Centro Oeste",
        "name": "O Algo",
        "type": "Sculpture"
       },
       {
        "author": "Mozart",
        "creation_date": "Sun, 20 Feb 1256 00:00:00 GMT",
        "description": "Alguma coisa muito coisado",
        "id": 17,
        "location": "Centro Oeste",
        "name": "O Algo",
        "type": "Sculpture"
       },
       {
        "author": "Mozart",
        "creation_date": "Sun, 20 Feb 1256 00:00:00 GMT",
        "description": "Alguma coisa muito coisado",
        "id": 18,
        "location": "Centro Oeste",
        "name": "O Algo",
        "type": "Sculpture"
       },
       {
        "author": "Mozart",
        "creation_date": "Sun, 20 Feb 1256 00:00:00 GMT",
        "description": "Alguma coisa muito coisado",
        "id": 19,
        "location": "Centro Oeste",
        "name": "O Algo",
        "type": "Sculpture"
       },
       {
        "author": "Mozart",
        "creation_date": "Sun, 20 Feb 1256 00:00:00 GMT",
        "description": "Alguma coisa muito coisado",
        "id": 20,
        "location": "Centro Oeste",
        "name": "O Algo",
        "type": "Sculpture"
       },
       {
        "author": "Mozart",
        "creation_date": "Sun, 20 Feb 1256 00:00:00 GMT",
        "description": "Alguma coisa muito coisado",
        "id": 21,
        "location": "Centro Oeste",
        "name": "O Algo",
        "type": "Sculpture"
       }
      ]
     },
     "metadata": {
      "application/json": {
       "expanded": false,
       "root": "root"
      }
     },
     "output_type": "display_data"
    }
   ],
   "execution_count": 81
  },
  {
   "cell_type": "markdown",
   "id": "5be8ec1e3ba02e54",
   "metadata": {},
   "source": [
    "Request - get_by_args_type"
   ]
  },
  {
   "cell_type": "code",
   "id": "410d9f78",
   "metadata": {
    "ExecuteTime": {
     "end_time": "2024-06-14T11:11:27.774123Z",
     "start_time": "2024-06-14T11:11:27.751552Z"
    }
   },
   "source": [
    "def get_by_args(object_args):\n",
    "    query_string = '&'.join(f\"{key}={value}\" for key, value in object_args.items())\n",
    "    response = requests.get(f\"{BASE_URL}?{query_string}\")\n",
    "    \n",
    "    if response.status_code == 200:\n",
    "        data = response.json()\n",
    "        display(JSON(data))\n",
    "    else:\n",
    "        return f\"Erro: {response.status_code}, {response.json()}\"\n",
    "\n",
    "\n",
    "get_by_args(object_args_work_of_art_type)"
   ],
   "outputs": [
    {
     "data": {
      "text/plain": [
       "<IPython.core.display.JSON object>"
      ],
      "application/json": [
       {
        "author": "Mozart",
        "creation_date": "Sun, 01 Feb 1632 00:00:00 GMT",
        "description": "Escultura de alguem desconhecido",
        "id": 2,
        "location": "Centro Oeste",
        "name": "O algo",
        "type": "Sculpture"
       },
       {
        "author": "Mozart",
        "creation_date": "Sun, 20 Feb 1256 00:00:00 GMT",
        "description": "Alguma coisa muito coisado",
        "id": 3,
        "location": "Centro Oeste",
        "name": "O Algo",
        "type": "Sculpture"
       },
       {
        "author": "Mozart",
        "creation_date": "Sun, 01 Feb 1632 00:00:00 GMT",
        "description": "Escultura de alguem desconhecido",
        "id": 4,
        "location": "Centro Oeste",
        "name": "O algo",
        "type": "Sculpture"
       },
       {
        "author": "Mozart",
        "creation_date": "Sun, 01 Feb 1632 00:00:00 GMT",
        "description": "Escultura de alguem desconhecido",
        "id": 5,
        "location": "Centro Oeste",
        "name": "O algo",
        "type": "Sculpture"
       },
       {
        "author": "Mozart",
        "creation_date": "Sun, 01 Feb 1632 00:00:00 GMT",
        "description": "Escultura de alguem desconhecido",
        "id": 6,
        "location": "Centro Oeste",
        "name": "O algo",
        "type": "Sculpture"
       },
       {
        "author": "Mozart",
        "creation_date": "Sun, 01 Feb 1632 00:00:00 GMT",
        "description": "Escultura de alguem desconhecido",
        "id": 7,
        "location": "Centro Oeste",
        "name": "O algo",
        "type": "Sculpture"
       },
       {
        "author": "Mozart",
        "creation_date": "Sun, 01 Feb 1632 00:00:00 GMT",
        "description": "Escultura de alguem desconhecido",
        "id": 8,
        "location": "Centro Oeste",
        "name": "O algo",
        "type": "Sculpture"
       },
       {
        "author": "Mozart",
        "creation_date": "Sun, 01 Feb 1632 00:00:00 GMT",
        "description": "Escultura de alguem desconhecido",
        "id": 9,
        "location": "Centro Oeste",
        "name": "O algo",
        "type": "Sculpture"
       },
       {
        "author": "Mozart",
        "creation_date": "Sun, 01 Feb 1632 00:00:00 GMT",
        "description": "Escultura de alguem desconhecido",
        "id": 10,
        "location": "Centro Oeste",
        "name": "O algo",
        "type": "Sculpture"
       },
       {
        "author": "Mozart",
        "creation_date": "Sun, 01 Feb 1632 00:00:00 GMT",
        "description": "Escultura de alguem desconhecido",
        "id": 11,
        "location": "Centro Oeste",
        "name": "O algo",
        "type": "Sculpture"
       },
       {
        "author": "Mozart",
        "creation_date": "Sun, 01 Feb 1632 00:00:00 GMT",
        "description": "Escultura de alguem desconhecido",
        "id": 12,
        "location": "Centro Oeste",
        "name": "O algo",
        "type": "Sculpture"
       },
       {
        "author": "Mozart",
        "creation_date": "Sun, 01 Feb 1632 00:00:00 GMT",
        "description": "Escultura de alguem desconhecido",
        "id": 13,
        "location": "Centro Oeste",
        "name": "O algo",
        "type": "Sculpture"
       },
       {
        "author": "Mozart",
        "creation_date": "Sun, 20 Feb 1256 00:00:00 GMT",
        "description": "Alguma coisa muito coisado",
        "id": 15,
        "location": "Centro Oeste",
        "name": "O Algo",
        "type": "Sculpture"
       },
       {
        "author": "Mozart",
        "creation_date": "Sun, 20 Feb 1256 00:00:00 GMT",
        "description": "Alguma coisa muito coisado",
        "id": 16,
        "location": "Centro Oeste",
        "name": "O Algo",
        "type": "Sculpture"
       },
       {
        "author": "Mozart",
        "creation_date": "Sun, 20 Feb 1256 00:00:00 GMT",
        "description": "Alguma coisa muito coisado",
        "id": 17,
        "location": "Centro Oeste",
        "name": "O Algo",
        "type": "Sculpture"
       },
       {
        "author": "Mozart",
        "creation_date": "Sun, 20 Feb 1256 00:00:00 GMT",
        "description": "Alguma coisa muito coisado",
        "id": 18,
        "location": "Centro Oeste",
        "name": "O Algo",
        "type": "Sculpture"
       },
       {
        "author": "Mozart",
        "creation_date": "Sun, 20 Feb 1256 00:00:00 GMT",
        "description": "Alguma coisa muito coisado",
        "id": 19,
        "location": "Centro Oeste",
        "name": "O Algo",
        "type": "Sculpture"
       },
       {
        "author": "Mozart",
        "creation_date": "Sun, 20 Feb 1256 00:00:00 GMT",
        "description": "Alguma coisa muito coisado",
        "id": 20,
        "location": "Centro Oeste",
        "name": "O Algo",
        "type": "Sculpture"
       },
       {
        "author": "Mozart",
        "creation_date": "Sun, 20 Feb 1256 00:00:00 GMT",
        "description": "Alguma coisa muito coisado",
        "id": 21,
        "location": "Centro Oeste",
        "name": "O Algo",
        "type": "Sculpture"
       }
      ]
     },
     "metadata": {
      "application/json": {
       "expanded": false,
       "root": "root"
      }
     },
     "output_type": "display_data"
    }
   ],
   "execution_count": 82
  }
 ],
 "metadata": {
  "kernelspec": {
   "display_name": "Python 3",
   "language": "python",
   "name": "python3"
  },
  "language_info": {
   "codemirror_mode": {
    "name": "ipython",
    "version": 2
   },
   "file_extension": ".py",
   "mimetype": "text/x-python",
   "name": "python",
   "nbconvert_exporter": "python",
   "pygments_lexer": "ipython2",
   "version": "2.7.6"
  }
 },
 "nbformat": 4,
 "nbformat_minor": 5
}
