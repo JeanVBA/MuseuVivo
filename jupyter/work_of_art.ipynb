{
 "cells": [
  {
   "cell_type": "code",
   "execution_count": null,
   "id": "initial_id",
   "metadata": {
    "collapsed": true
   },
   "outputs": [],
   "source": [
    "import requests\n",
    "from IPython.display import display, JSON"
   ]
  },
  {
   "cell_type": "code",
   "execution_count": null,
   "id": "944ef625dce78dec",
   "metadata": {},
   "outputs": [],
   "source": [
    "BASE_URL = 'http://127.0.0.1:5000/work_of_art'"
   ]
  },
  {
   "cell_type": "code",
   "execution_count": null,
   "id": "2a1c5c57",
   "metadata": {},
   "outputs": [],
   "source": [
    "object = {\n",
    "    'name': 'O Algo',\n",
    "    'description': 'Alguma coisa muito coisado',\n",
    "    'creation_date': '1256-02-20',\n",
    "    'author_id': 1,\n",
    "    'location_id': 1,\n",
    "    'type': 'Sculpture'\n",
    "}\n",
    "\n",
    "object_args_work_of_art_name = {'name': 'O Algo'}\n",
    "object_args_creation_date = {'creation_date': '1256-02-20'}\n",
    "object_args_author_name = {'author_name': 'Leonardo Da Vinci'}\n",
    "object_args_location_name = {'location_name': 'Hall de Entrada'}\n",
    "object_args_work_of_art_type = {'type': 'Sculpture'}\n",
    "object_args_exhibition_name = {'exhibition_name': 'DonateloEsVoce'}"
   ]
  },
  {
   "cell_type": "markdown",
   "id": "4f22c30dc6ba828e",
   "metadata": {},
   "source": [
    "Request - GET_ALL"
   ]
  },
  {
   "cell_type": "code",
   "execution_count": null,
   "id": "1f1e4e71a47b7908",
   "metadata": {},
   "outputs": [],
   "source": [
    "#Endpoint que buscara todos os registros\n",
    "def get_all():\n",
    "    response = requests.get(f\"{BASE_URL}/\")\n",
    "    if response.status_code == 200:\n",
    "        data = response.json()\n",
    "        return display(JSON(data))\n",
    "    else:\n",
    "        return f\"Error: {response.status_code}\"\n",
    "\n",
    "\n",
    "get_all()"
   ]
  },
  {
   "cell_type": "markdown",
   "id": "f417c3a1345e2c18",
   "metadata": {},
   "source": [
    "Request - GET_BY_ID"
   ]
  },
  {
   "cell_type": "code",
   "execution_count": null,
   "id": "1e87ca4df33c3a61",
   "metadata": {},
   "outputs": [],
   "source": [
    "#Endpoint que buscara o registro com base no id passado na URL\n",
    "def get_by_id(id):\n",
    "    response = requests.get(f\"{BASE_URL}/{id}\")\n",
    "    if response.status_code == 200:\n",
    "        data = response.json()\n",
    "        return display(JSON(data))\n",
    "    else:\n",
    "        return f\"Error: {response.status_code}, {response.json()}\"\n",
    "\n",
    "\n",
    "get_by_id(1)"
   ]
  },
  {
   "cell_type": "markdown",
   "id": "df1ec598c40633f2",
   "metadata": {},
   "source": [
    "Request - CREATE"
   ]
  },
  {
   "cell_type": "code",
   "execution_count": null,
   "id": "1bb9cdacebcc62fe",
   "metadata": {},
   "outputs": [],
   "source": [
    "#Enedpoint que registra na base\n",
    "def create(data):\n",
    "    headers = {'Content-Type': 'application/json'}\n",
    "    response = requests.post(f\"{BASE_URL}/\", json=data, headers=headers)\n",
    "    if response.status_code == 200:\n",
    "        data = response.json()\n",
    "        return display(JSON(data))\n",
    "    else:\n",
    "        return f\"Error: {response.status_code}, {response.json()}\"\n",
    "    \n",
    "\n",
    "create(object)"
   ]
  },
  {
   "cell_type": "markdown",
   "id": "5853f152b7a1557e",
   "metadata": {},
   "source": [
    "Request - UPDATE"
   ]
  },
  {
   "cell_type": "code",
   "execution_count": null,
   "id": "b1733b44b4162749",
   "metadata": {},
   "outputs": [],
   "source": [
    "#Enedpoint que atualiza um registro na base\n",
    "def update(id, data):\n",
    "    headers = {'Content-Type': 'application/json'}\n",
    "    response = requests.put(f\"{BASE_URL}/{id}\", json=data, headers=headers)\n",
    "    if response.status_code == 200:\n",
    "        data = response.json()\n",
    "        return display(JSON(data))\n",
    "    else:\n",
    "        return f\"Error: {response.status_code}, {response.json()}\"\n",
    "\n",
    "id = 1\n",
    "update(id, object)"
   ]
  },
  {
   "cell_type": "markdown",
   "id": "d9afdabb14a4d3b6",
   "metadata": {},
   "source": [
    "Request - DELETE"
   ]
  },
  {
   "cell_type": "code",
   "execution_count": null,
   "id": "c616976d280a8ca8",
   "metadata": {},
   "outputs": [],
   "source": [
    "#Enedpoint que deleta um registro da base\n",
    "def delete(id):\n",
    "    response = requests.delete(f\"{BASE_URL}/{id}\")\n",
    "    if response.status_code == 204:\n",
    "        return response.status_code\n",
    "    else:\n",
    "        return f\"Error: {response.status_code}, {response.json()}\"\n",
    "    \n",
    "id = 1\n",
    "delete(id)"
   ]
  },
  {
   "cell_type": "markdown",
   "id": "abf806f19ea7514e",
   "metadata": {},
   "source": [
    "Request - get_by_args_name"
   ]
  },
  {
   "cell_type": "code",
   "execution_count": null,
   "id": "38e1e9e5",
   "metadata": {},
   "outputs": [],
   "source": [
    "def get_by_args(object_args):\n",
    "    query_string = '&'.join(f\"{key}={value}\" for key, value in object_args.items())\n",
    "    response = requests.get(f\"{BASE_URL}?{query_string}\")\n",
    "    \n",
    "    if response.status_code == 200:\n",
    "        data = response.json()\n",
    "        display(JSON(data))\n",
    "    else:\n",
    "        return f\"Erro: {response.status_code}, {response.json()}\"\n",
    "\n",
    "\n",
    "get_by_args(object_args_work_of_art_name)"
   ]
  },
  {
   "cell_type": "markdown",
   "id": "f8b43337d4a68f78",
   "metadata": {},
   "source": [
    "Request - get_by_args_creation_date"
   ]
  },
  {
   "cell_type": "code",
   "execution_count": null,
   "id": "640fa672",
   "metadata": {},
   "outputs": [],
   "source": [
    "def get_by_args(object_args):\n",
    "    query_string = '&'.join(f\"{key}={value}\" for key, value in object_args.items())\n",
    "    response = requests.get(f\"{BASE_URL}?{query_string}\")\n",
    "    \n",
    "    if response.status_code == 200:\n",
    "        data = response.json()\n",
    "        display(JSON(data))\n",
    "    else:\n",
    "        return f\"Erro: {response.status_code}, {response.json()}\"\n",
    "\n",
    "\n",
    "get_by_args(object_args_creation_date)"
   ]
  },
  {
   "cell_type": "markdown",
   "id": "a4ecdb558e5863b8",
   "metadata": {},
   "source": [
    "Request - get_by_args_author_name"
   ]
  },
  {
   "cell_type": "code",
   "execution_count": null,
   "id": "c88d48e7",
   "metadata": {},
   "outputs": [],
   "source": [
    "def get_by_args(object_args):\n",
    "    query_string = '&'.join(f\"{key}={value}\" for key, value in object_args.items())\n",
    "    response = requests.get(f\"{BASE_URL}?{query_string}\")\n",
    "    \n",
    "    if response.status_code == 200:\n",
    "        data = response.json()\n",
    "        display(JSON(data))\n",
    "    else:\n",
    "        return f\"Erro: {response.status_code}, {response.json()}\"\n",
    "\n",
    "\n",
    "get_by_args(object_args_author_name)"
   ]
  },
  {
   "cell_type": "markdown",
   "id": "207afaaebd05fb4f",
   "metadata": {},
   "source": [
    "Request - get_by_args_location_name"
   ]
  },
  {
   "cell_type": "code",
   "execution_count": null,
   "id": "2762f2a4",
   "metadata": {},
   "outputs": [],
   "source": [
    "def get_by_args(object_args):\n",
    "    query_string = '&'.join(f\"{key}={value}\" for key, value in object_args.items())\n",
    "    response = requests.get(f\"{BASE_URL}?{query_string}\")\n",
    "    \n",
    "    if response.status_code == 200:\n",
    "        data = response.json()\n",
    "        display(JSON(data))\n",
    "    else:\n",
    "        return f\"Erro: {response.status_code}, {response.json()}\"\n",
    "\n",
    "\n",
    "get_by_args(object_args_location_name)"
   ]
  },
  {
   "cell_type": "markdown",
   "id": "5be8ec1e3ba02e54",
   "metadata": {},
   "source": [
    "Request - get_by_args_type"
   ]
  },
  {
   "cell_type": "code",
   "execution_count": null,
   "id": "410d9f78",
   "metadata": {},
   "outputs": [],
   "source": [
    "def get_by_args(object_args):\n",
    "    query_string = '&'.join(f\"{key}={value}\" for key, value in object_args.items())\n",
    "    response = requests.get(f\"{BASE_URL}?{query_string}\")\n",
    "    \n",
    "    if response.status_code == 200:\n",
    "        data = response.json()\n",
    "        display(JSON(data))\n",
    "    else:\n",
    "        return f\"Erro: {response.status_code}, {response.json()}\"\n",
    "\n",
    "\n",
    "get_by_args(object_args_work_of_art_type)"
   ]
  },
  {
   "cell_type": "markdown",
   "id": "db19e3d4ad63aee9",
   "metadata": {},
   "source": [
    "Request - get_by_args_exhibition_name"
   ]
  },
  {
   "cell_type": "code",
   "execution_count": null,
   "id": "30ad9fe3",
   "metadata": {},
   "outputs": [],
   "source": [
    "def get_by_args(object_args):\n",
    "    query_string = '&'.join(f\"{key}={value}\" for key, value in object_args.items())\n",
    "    response = requests.get(f\"{BASE_URL}?{query_string}\")\n",
    "    \n",
    "    if response.status_code == 200:\n",
    "        data = response.json()\n",
    "        display(JSON(data))\n",
    "    else:\n",
    "        return f\"Erro: {response.status_code}, {response.json()}\"\n",
    "\n",
    "\n",
    "get_by_args(object_args_exhibition_name)"
   ]
  }
 ],
 "metadata": {
  "kernelspec": {
   "display_name": "Python 3",
   "language": "python",
   "name": "python3"
  },
  "language_info": {
   "codemirror_mode": {
    "name": "ipython",
    "version": 2
   },
   "file_extension": ".py",
   "mimetype": "text/x-python",
   "name": "python",
   "nbconvert_exporter": "python",
   "pygments_lexer": "ipython2",
   "version": "2.7.6"
  }
 },
 "nbformat": 4,
 "nbformat_minor": 5
}
