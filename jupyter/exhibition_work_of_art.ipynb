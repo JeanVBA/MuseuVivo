{
 "cells": [
  {
   "cell_type": "code",
   "execution_count": null,
   "id": "initial_id",
   "metadata": {
    "collapsed": true
   },
   "source": [
    "import requests\n",
    "from IPython.display import display, JSON"
   ],
   "outputs": []
  },
  {
   "metadata": {},
   "cell_type": "code",
   "execution_count": null,
   "source": "BASE_URL = 'http://127.0.0.1:5000/exhibition_work_of_art'",
   "id": "b4cc70443a5c5e9",
   "outputs": []
  },
  {
   "metadata": {},
   "cell_type": "code",
   "execution_count": null,
   "source": [
    "object = {\n",
    "    'work_of_art_id': 1,\n",
    "    'exhibition_id': 1\n",
    "}"
   ],
   "id": "bf9e8c013f3e2d6c",
   "outputs": []
  },
  {
   "metadata": {},
   "cell_type": "markdown",
   "source": "Request - get_all",
   "id": "43c1588a634969e"
  },
  {
   "metadata": {},
   "cell_type": "code",
   "execution_count": null,
   "source": [
    "def get_all():\n",
    "    response = requests.get(f\"{BASE_URL}/\")\n",
    "    if response.status_code == 200:\n",
    "        data = response.json()\n",
    "        return display(JSON(data))\n",
    "    else:\n",
    "        return f\"Error: {response.status_code}\"\n",
    "\n",
    "\n",
    "get_all()"
   ],
   "id": "e8acdeb8bed91b0e",
   "outputs": []
  },
  {
   "metadata": {},
   "cell_type": "markdown",
   "source": "Request - get_by_work_of_art_id",
   "id": "3ff48f370c1d541d"
  },
  {
   "metadata": {},
   "cell_type": "code",
   "execution_count": null,
   "source": [
    "def get_by_work_of_art_id(id):\n",
    "    response = requests.get(f\"{BASE_URL}/work_of_art_id/{id}\")\n",
    "    if response.status_code == 200:\n",
    "        data = response.json()\n",
    "        return display(JSON(data))\n",
    "    else:\n",
    "        return f\"Error: {response.status_code}\"\n",
    "\n",
    "\n",
    "get_by_work_of_art_id(1)"
   ],
   "id": "2076ac78810008c6",
   "outputs": []
  },
  {
   "metadata": {},
   "cell_type": "markdown",
   "source": "Request - get_by_exhibition_id",
   "id": "7d440dc1ab63f0c7"
  },
  {
   "metadata": {},
   "cell_type": "code",
   "execution_count": null,
   "source": [
    "def get_by_exhibition_id(id):\n",
    "    response = requests.get(f\"{BASE_URL}/exhibition_id/{id}\")\n",
    "    if response.status_code == 200:\n",
    "        data = response.json()\n",
    "        return display(JSON(data))\n",
    "    else:\n",
    "        return f\"Error: {response.status_code}\"\n",
    "\n",
    "\n",
    "get_by_exhibition_id(1)"
   ],
   "id": "7872a3a9fb2ef448",
   "outputs": []
  },
  {
   "metadata": {},
   "cell_type": "markdown",
   "source": "Request - create",
   "id": "eee48e62e59d6cdc"
  },
  {
   "metadata": {},
   "cell_type": "code",
   "execution_count": null,
   "source": [
    "def create(data):\n",
    "    headers = {'Content-Type': 'application/json'}\n",
    "    response = requests.post(f\"{BASE_URL}/\", json=data, headers=headers)\n",
    "    if response.status_code == 200:\n",
    "        data = response.json()\n",
    "        return display(JSON(data))\n",
    "    else:\n",
    "        return f\"Error: {response.status_code}, {response.json()}\"\n",
    "    \n",
    "create(object)"
   ],
   "id": "88f994e380a03f52",
   "outputs": []
  },
  {
   "metadata": {},
   "cell_type": "markdown",
   "source": "Request - update",
   "id": "b2d5b58fa2f5b494"
  },
  {
   "metadata": {},
   "cell_type": "code",
   "execution_count": null,
   "source": [
    "def update(work_of_art_id, exhibition_id, data):\n",
    "    headers = {'Content-Type': 'application/json'}\n",
    "    response = requests.put(f\"{BASE_URL}/work_of_art_id/{work_of_art_id}/exhibition_id/{exhibition_id}\", json=data, headers=headers)\n",
    "    if response.status_code == 200:\n",
    "        data = response.json()\n",
    "        return display(JSON(data))\n",
    "    else:\n",
    "        return f\"Error: {response.status_code}, {response.json()}\"\n",
    "\n",
    "update(1, 1, object)"
   ],
   "id": "25e7586f4f2e873f",
   "outputs": []
  },
  {
   "metadata": {},
   "cell_type": "markdown",
   "source": "Request - delete",
   "id": "a4aeac1c43b54ee5"
  },
  {
   "metadata": {},
   "cell_type": "code",
   "execution_count": null,
   "source": [
    "def delete(work_of_art_id, exhibition_id):\n",
    "    response = requests.delete(f\"{BASE_URL}/work_of_art_id/{work_of_art_id}/exhibition_id/{exhibition_id}\")\n",
    "    if response.status_code == 204:\n",
    "        return response.status_code\n",
    "    else:\n",
    "        return f\"Error: {response.status_code}, {response.json()}\"\n",
    "    \n",
    "delete(1, 1)"
   ],
   "id": "f20f3dfa64851b32",
   "outputs": []
  }
 ],
 "metadata": {
  "kernelspec": {
   "display_name": "Python 3",
   "language": "python",
   "name": "python3"
  },
  "language_info": {
   "codemirror_mode": {
    "name": "ipython",
    "version": 2
   },
   "file_extension": ".py",
   "mimetype": "text/x-python",
   "name": "python",
   "nbconvert_exporter": "python",
   "pygments_lexer": "ipython2",
   "version": "2.7.6"
  }
 },
 "nbformat": 4,
 "nbformat_minor": 5
}
