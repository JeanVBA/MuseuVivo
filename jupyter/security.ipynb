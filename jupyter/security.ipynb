{
 "cells": [
  {
   "cell_type": "code",
   "id": "initial_id",
   "metadata": {
    "collapsed": true,
    "ExecuteTime": {
     "end_time": "2024-06-14T10:59:30.609763Z",
     "start_time": "2024-06-14T10:59:30.604778Z"
    }
   },
   "source": [
    "import requests\n",
    "from IPython.display import display, JSON"
   ],
   "execution_count": 40,
   "outputs": []
  },
  {
   "cell_type": "code",
   "id": "1cb27ebfd4355889",
   "metadata": {
    "ExecuteTime": {
     "end_time": "2024-06-14T10:59:30.634977Z",
     "start_time": "2024-06-14T10:59:30.628978Z"
    }
   },
   "source": [
    "BASE_URL = 'http://127.0.0.1:5000/security'"
   ],
   "execution_count": 41,
   "outputs": []
  },
  {
   "cell_type": "code",
   "id": "54f7f761",
   "metadata": {
    "ExecuteTime": {
     "end_time": "2024-06-14T10:59:30.639215Z",
     "start_time": "2024-06-14T10:59:30.636585Z"
    }
   },
   "source": [
    "object = {\n",
    "    \"name\": \"Carlos Druino\",\n",
    "    \"email\": \"email@gmail.com\",\n",
    "    \"phone\": \"+5524988808088\",\n",
    "    'location_id': 1\n",
    "}\n",
    "\n",
    "information = 'Carlos Druino'\n",
    "\n",
    "object_args_name = {'name': 'Carlos Druino'}\n",
    "object_args_email = {'email': 'email@gmail.com'}\n",
    "object_args_phone = {'phone': '5524988808088'}\n",
    "object_args_location_name = {'location_name': 'Centro Oeste'}"
   ],
   "execution_count": 42,
   "outputs": []
  },
  {
   "cell_type": "markdown",
   "id": "2fc1f1fcdb4cd88c",
   "metadata": {},
   "source": [
    "Request - get_all"
   ]
  },
  {
   "cell_type": "code",
   "id": "e7631d77",
   "metadata": {
    "ExecuteTime": {
     "end_time": "2024-06-14T10:59:30.649842Z",
     "start_time": "2024-06-14T10:59:30.639215Z"
    }
   },
   "source": [
    "def get_all():\n",
    "    response = requests.get(f\"{BASE_URL}/\")\n",
    "    if response.status_code == 200:\n",
    "        data = response.json()\n",
    "        return display(JSON(data))\n",
    "    else:\n",
    "        return f\"Error: {response.status_code}\"\n",
    "\n",
    "get_all()"
   ],
   "execution_count": 43,
   "outputs": []
  },
  {
   "cell_type": "markdown",
   "id": "14ccc2297e848f95",
   "metadata": {},
   "source": [
    "Request - get_by_id"
   ]
  },
  {
   "cell_type": "code",
   "id": "71a5bf10",
   "metadata": {
    "ExecuteTime": {
     "end_time": "2024-06-14T10:59:30.660185Z",
     "start_time": "2024-06-14T10:59:30.649842Z"
    }
   },
   "source": [
    "def get_by_id(id):\n",
    "    response = requests.get(f\"{BASE_URL}/{id}\")\n",
    "    if response.status_code == 200:\n",
    "        data = response.json()\n",
    "        return display(JSON(data))\n",
    "    else:\n",
    "        return f\"Error: {response.status_code}, {response.json()}\"\n",
    "\n",
    "get_by_id(1)"
   ],
   "execution_count": 44,
   "outputs": []
  },
  {
   "cell_type": "markdown",
   "id": "271a519affc16def",
   "metadata": {},
   "source": [
    "Request - create"
   ]
  },
  {
   "cell_type": "code",
   "id": "e51fe9cb",
   "metadata": {
    "ExecuteTime": {
     "end_time": "2024-06-14T10:59:30.673593Z",
     "start_time": "2024-06-14T10:59:30.660185Z"
    }
   },
   "source": [
    "def create(data):\n",
    "    headers = {'Content-Type': 'application/json'}\n",
    "    response = requests.post(f\"{BASE_URL}/\", json=data, headers=headers)\n",
    "    if response.status_code == 200:\n",
    "        data = response.json()\n",
    "        return display(JSON(data))\n",
    "    else:\n",
    "        return f\"Error: {response.status_code}, {response.json()}\"\n",
    "    \n",
    "create(object)"
   ],
   "execution_count": 45,
   "outputs": []
  },
  {
   "cell_type": "markdown",
   "id": "3dd7a4607f25c9e0",
   "metadata": {},
   "source": [
    "Request - update"
   ]
  },
  {
   "cell_type": "code",
   "id": "3d0c5fe1",
   "metadata": {
    "ExecuteTime": {
     "end_time": "2024-06-14T10:59:30.685362Z",
     "start_time": "2024-06-14T10:59:30.673593Z"
    }
   },
   "source": [
    "def update(id, data):\n",
    "    headers = {'Content-Type': 'application/json'}\n",
    "    response = requests.put(f\"{BASE_URL}/{id}\", json=data, headers=headers)\n",
    "    if response.status_code == 200:\n",
    "        data = response.json()\n",
    "        return display(JSON(data))\n",
    "    else:\n",
    "        return f\"Error: {response.status_code}, {response.json()}\"\n",
    "\n",
    "id=1\n",
    "update(id, object)"
   ],
   "execution_count": 46,
   "outputs": []
  },
  {
   "cell_type": "markdown",
   "id": "4160dea7f3f7115",
   "metadata": {},
   "source": [
    "Request - delete"
   ]
  },
  {
   "cell_type": "code",
   "id": "5aee602d",
   "metadata": {
    "ExecuteTime": {
     "end_time": "2024-06-14T10:59:30.693877Z",
     "start_time": "2024-06-14T10:59:30.685362Z"
    }
   },
   "source": [
    "def delete(id):\n",
    "    response = requests.delete(f\"{BASE_URL}/{id}\")\n",
    "    if response.status_code == 204:\n",
    "        return response.status_code\n",
    "    else:\n",
    "        return f\"Error: {response.status_code}, {response.json()}\"\n",
    "\n",
    "id = 122\n",
    "delete(122)"
   ],
   "execution_count": 47,
   "outputs": []
  },
  {
   "cell_type": "markdown",
   "id": "47caa1e0a55b904a",
   "metadata": {},
   "source": [
    "Request - get_by_name"
   ]
  },
  {
   "cell_type": "code",
   "id": "a6123e6e",
   "metadata": {
    "ExecuteTime": {
     "end_time": "2024-06-14T10:59:30.704355Z",
     "start_time": "2024-06-14T10:59:30.693877Z"
    }
   },
   "source": [
    "def get_by_parameter(information):\n",
    "    response = requests.get(f\"{BASE_URL}/{information}\")\n",
    "    if response.status_code == 200:\n",
    "        data = response.json()\n",
    "        return display(JSON(data))\n",
    "    else:\n",
    "        return f\"Error: {response.status_code}, {response.json()}\"\n",
    "\n",
    "get_by_parameter(information)"
   ],
   "execution_count": 48,
   "outputs": []
  },
  {
   "cell_type": "markdown",
   "id": "9441364cd8ad7c77",
   "metadata": {},
   "source": [
    "Request - get_by_args_name"
   ]
  },
  {
   "cell_type": "code",
   "id": "8c0a2efe",
   "metadata": {
    "ExecuteTime": {
     "end_time": "2024-06-14T10:59:30.714472Z",
     "start_time": "2024-06-14T10:59:30.704355Z"
    }
   },
   "source": [
    "def get_by_args(object_args):\n",
    "    query_string = '&'.join(f\"{key}={value}\" for key, value in object_args.items())\n",
    "    response = requests.get(f\"{BASE_URL}?{query_string}\")\n",
    "    \n",
    "    if response.status_code == 200:\n",
    "        data = response.json()\n",
    "        display(JSON(data))\n",
    "    else:\n",
    "        return f\"Erro: {response.status_code}, {response.json()}\"\n",
    "\n",
    "\n",
    "get_by_args(object_args_name)"
   ],
   "execution_count": 49,
   "outputs": []
  },
  {
   "cell_type": "markdown",
   "id": "de18c2129dc65f2",
   "metadata": {},
   "source": [
    "Request - get_by_args_email"
   ]
  },
  {
   "cell_type": "code",
   "id": "cc7c41ef",
   "metadata": {
    "ExecuteTime": {
     "end_time": "2024-06-14T10:59:30.724312Z",
     "start_time": "2024-06-14T10:59:30.714472Z"
    }
   },
   "source": [
    "def get_by_args(object_args):\n",
    "    query_string = '&'.join(f\"{key}={value}\" for key, value in object_args.items())\n",
    "    response = requests.get(f\"{BASE_URL}?{query_string}\")\n",
    "    \n",
    "    if response.status_code == 200:\n",
    "        data = response.json()\n",
    "        display(JSON(data))\n",
    "    else:\n",
    "        return f\"Erro: {response.status_code}, {response.json()}\"\n",
    "\n",
    "\n",
    "get_by_args(object_args_email)"
   ],
   "execution_count": 50,
   "outputs": []
  },
  {
   "cell_type": "markdown",
   "id": "faf288378a51c765",
   "metadata": {},
   "source": [
    "Request - get_by_args_phone"
   ]
  },
  {
   "cell_type": "code",
   "id": "e562f65e",
   "metadata": {
    "ExecuteTime": {
     "end_time": "2024-06-14T10:59:30.734021Z",
     "start_time": "2024-06-14T10:59:30.724312Z"
    }
   },
   "source": [
    "def get_by_args(object_args):\n",
    "    query_string = '&'.join(f\"{key}={value}\" for key, value in object_args.items())\n",
    "    response = requests.get(f\"{BASE_URL}?{query_string}\")\n",
    "    \n",
    "    if response.status_code == 200:\n",
    "        data = response.json()\n",
    "        display(JSON(data))\n",
    "    else:\n",
    "        return f\"Erro: {response.status_code}, {response.json()}\"\n",
    "\n",
    "\n",
    "get_by_args(object_args_phone)"
   ],
   "execution_count": 51,
   "outputs": []
  },
  {
   "cell_type": "markdown",
   "id": "1aafe723caf98bdc",
   "metadata": {},
   "source": [
    "Request - get_by_args_location_name"
   ]
  },
  {
   "cell_type": "code",
   "id": "06d02b3d",
   "metadata": {
    "ExecuteTime": {
     "end_time": "2024-06-14T10:59:30.750325Z",
     "start_time": "2024-06-14T10:59:30.734021Z"
    }
   },
   "source": [
    "def get_by_args(object_args):\n",
    "    query_string = '&'.join(f\"{key}={value}\" for key, value in object_args.items())\n",
    "    response = requests.get(f\"{BASE_URL}?{query_string}\")\n",
    "    \n",
    "    if response.status_code == 200:\n",
    "        data = response.json()\n",
    "        display(JSON(data))\n",
    "    else:\n",
    "        return f\"Erro: {response.status_code}, {response.json()}\"\n",
    "\n",
    "\n",
    "get_by_args(object_args_location_name)"
   ],
   "execution_count": 52,
   "outputs": []
  }
 ],
 "metadata": {
  "kernelspec": {
   "display_name": "Python 3",
   "language": "python",
   "name": "python3"
  },
  "language_info": {
   "codemirror_mode": {
    "name": "ipython",
    "version": 2
   },
   "file_extension": ".py",
   "mimetype": "text/x-python",
   "name": "python",
   "nbconvert_exporter": "python",
   "pygments_lexer": "ipython2",
   "version": "2.7.6"
  }
 },
 "nbformat": 4,
 "nbformat_minor": 5
}
