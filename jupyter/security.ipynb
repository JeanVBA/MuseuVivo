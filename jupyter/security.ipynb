{
 "cells": [
  {
   "cell_type": "code",
   "execution_count": null,
   "id": "initial_id",
   "metadata": {
    "collapsed": true
   },
   "outputs": [],
   "source": [
    "import requests\n",
    "from IPython.display import display, JSON"
   ]
  },
  {
   "metadata": {},
   "cell_type": "code",
   "outputs": [],
   "execution_count": null,
   "source": "BASE_URL = 'http://127.0.0.1:5000/security'",
   "id": "1cb27ebfd4355889"
  },
  {
   "metadata": {},
   "cell_type": "markdown",
   "source": "Request - get_all",
   "id": "2fc1f1fcdb4cd88c"
  },
  {
   "metadata": {},
   "cell_type": "markdown",
   "source": "Request - get_by_id",
   "id": "14ccc2297e848f95"
  },
  {
   "metadata": {},
   "cell_type": "markdown",
   "source": "Request - create",
   "id": "271a519affc16def"
  },
  {
   "metadata": {},
   "cell_type": "markdown",
   "source": "Request - update",
   "id": "3dd7a4607f25c9e0"
  },
  {
   "metadata": {},
   "cell_type": "markdown",
   "source": "Request - delete",
   "id": "4160dea7f3f7115"
  },
  {
   "metadata": {},
   "cell_type": "markdown",
   "source": "",
   "id": "47caa1e0a55b904a"
  }
 ],
 "metadata": {
  "kernelspec": {
   "display_name": "Python 3",
   "language": "python",
   "name": "python3"
  },
  "language_info": {
   "codemirror_mode": {
    "name": "ipython",
    "version": 2
   },
   "file_extension": ".py",
   "mimetype": "text/x-python",
   "name": "python",
   "nbconvert_exporter": "python",
   "pygments_lexer": "ipython2",
   "version": "2.7.6"
  }
 },
 "nbformat": 4,
 "nbformat_minor": 5
}
